{
 "cells": [
  {
   "cell_type": "markdown",
   "id": "935f272d",
   "metadata": {},
   "source": [
    "1. Write a Python program to find sum of elements in list?"
   ]
  },
  {
   "cell_type": "code",
   "execution_count": 2,
   "id": "62074a12",
   "metadata": {},
   "outputs": [
    {
     "name": "stdout",
     "output_type": "stream",
     "text": [
      "[10, 9, 7, 5]\n",
      "sum of list:  31\n"
     ]
    }
   ],
   "source": [
    "# sum of elements\n",
    "\n",
    "def sumlist(l):\n",
    "    sum = 0\n",
    "    for i in range(len(l)):\n",
    "        sum = sum + l[i]\n",
    "    return sum\n",
    "\n",
    "# initialise list\n",
    "l = [10,9,7,5]\n",
    "print(l)\n",
    "print(\"sum of list: \",sumlist(l))"
   ]
  },
  {
   "cell_type": "markdown",
   "id": "eb308e87",
   "metadata": {},
   "source": [
    "2. Write a Python program to Multiply all numbers in the list?"
   ]
  },
  {
   "cell_type": "code",
   "execution_count": 3,
   "id": "47c72c04",
   "metadata": {},
   "outputs": [
    {
     "name": "stdout",
     "output_type": "stream",
     "text": [
      "[11, 12, 4, 3]\n",
      "product:\n",
      "1584\n"
     ]
    }
   ],
   "source": [
    "# multiply all numbers in list\n",
    "\n",
    "# function\n",
    "def mul_list(l):\n",
    "    \n",
    "    #multiply elements one by one\n",
    "    product = 1\n",
    "    for i in l:\n",
    "        product = product * i\n",
    "    return product\n",
    "\n",
    "\n",
    "list1 = [11,12,4,3]\n",
    "print(list1)\n",
    "print(\"product:\")\n",
    "print(mul_list(list1))"
   ]
  },
  {
   "cell_type": "markdown",
   "id": "dfb79e8d",
   "metadata": {},
   "source": [
    "3. Write a Python program to find smallest number in a list?"
   ]
  },
  {
   "cell_type": "code",
   "execution_count": 4,
   "id": "0a2f0a0f",
   "metadata": {},
   "outputs": [
    {
     "name": "stdout",
     "output_type": "stream",
     "text": [
      "smallest in  [3, 9, 7, 3, 6, 5, 7, 24, 6] is\n",
      "3\n"
     ]
    }
   ],
   "source": [
    "# smallest element in list\n",
    "\n",
    "#function\n",
    "def smallest(l):\n",
    "    small= l[0]\n",
    "    for i in l:\n",
    "        if i < small:\n",
    "            small = i\n",
    "    return small\n",
    "\n",
    "\n",
    "#list\n",
    "list = [3,9,7,3,6,5,7,24,6]\n",
    "print(\"smallest in \",list,\"is\")\n",
    "print(smallest(list))"
   ]
  },
  {
   "cell_type": "markdown",
   "id": "54242ca9",
   "metadata": {},
   "source": [
    "4. Write a Python program to find largest number in a list?"
   ]
  },
  {
   "cell_type": "code",
   "execution_count": 5,
   "id": "fb33cd98",
   "metadata": {},
   "outputs": [
    {
     "name": "stdout",
     "output_type": "stream",
     "text": [
      "largest in  [3, 9, 7, 3, 6, 5, 7, 24, 6] is\n",
      "24\n"
     ]
    }
   ],
   "source": [
    "# largest element in list\n",
    "\n",
    "#function\n",
    "def largest(l):\n",
    "    large=l[0]\n",
    "    for i in l:\n",
    "        if i > large:\n",
    "            large = i\n",
    "    return large\n",
    "        \n",
    "#list\n",
    "list = [3,9,7,3,6,5,7,24,6]\n",
    "print(\"largest in \",list,\"is\")\n",
    "print(largest(list))"
   ]
  },
  {
   "cell_type": "markdown",
   "id": "ccffcc8b",
   "metadata": {},
   "source": [
    "5. Write a Python program to find second largest number in a list?"
   ]
  },
  {
   "cell_type": "code",
   "execution_count": 7,
   "id": "996d0ca6",
   "metadata": {},
   "outputs": [
    {
     "name": "stdout",
     "output_type": "stream",
     "text": [
      "Enter size of list8\n",
      "Enter element of list 9\n",
      "Enter element of list 8\n",
      "Enter element of list 7\n",
      "Enter element of list 6\n",
      "Enter element of list 4\n",
      "Enter element of list 1\n",
      "Enter element of list 3\n",
      "Enter element of list 5\n",
      "second largest in  [9, 8, 7, 6, 4, 1, 3, 5] is\n",
      "8\n"
     ]
    }
   ],
   "source": [
    "# second largest number in list\n",
    "\n",
    "#function\n",
    "def second_largest(l):\n",
    "    l.sort()\n",
    "    return l[-2]\n",
    "\n",
    "#input of list\n",
    "li=[]\n",
    "n = int(input(\"Enter size of list\"))\n",
    "for i in range(0,n):\n",
    "    e=int(input(\"Enter element of list \"))\n",
    "    li.append(e)\n",
    "    \n",
    "# smallest\n",
    "print(\"second largest in \",li ,\"is\")\n",
    "print(second_largest(li))"
   ]
  },
  {
   "cell_type": "markdown",
   "id": "2be653ff",
   "metadata": {},
   "source": [
    "6. Write a Python program to find N largest elements from a list?"
   ]
  },
  {
   "cell_type": "code",
   "execution_count": 8,
   "id": "5bd727ff",
   "metadata": {},
   "outputs": [
    {
     "name": "stdout",
     "output_type": "stream",
     "text": [
      "2 max elements in  [2, 6, 41, 85, 0, 3, 7, 6, 10]\n",
      "[85, 41]\n"
     ]
    }
   ],
   "source": [
    "# N largest elements\n",
    "\n",
    "#function\n",
    "def N_max_elements(list,N):\n",
    "    result_list = []\n",
    "    \n",
    "    for i in range(0,N):\n",
    "        maximum = 0\n",
    "        \n",
    "        for j in range(len(list)):\n",
    "            if list[j] > maximum:\n",
    "                maximum = list[j]\n",
    "                \n",
    "        list.remove(maximum)\n",
    "        result_list.append(maximum)\n",
    "        \n",
    "    return result_list \n",
    "\n",
    "#test\n",
    "list1 = [2,6,41,85,0,3,7,6,10]\n",
    "N = 2\n",
    "\n",
    "print(N,\"max elements in \",list1)\n",
    "\n",
    "# calling and printing the function\n",
    "print(N_max_elements(list1,N))"
   ]
  },
  {
   "cell_type": "markdown",
   "id": "2ac0328d",
   "metadata": {},
   "source": [
    "7. Write a Python program to print even numbers in a list?"
   ]
  },
  {
   "cell_type": "code",
   "execution_count": 1,
   "id": "dd8f53a1",
   "metadata": {},
   "outputs": [
    {
     "name": "stdout",
     "output_type": "stream",
     "text": [
      "Enter size of list 5\n",
      "Enter element of list 3\n",
      "Enter element of list 6\n",
      "Enter element of list 2\n",
      "Enter element of list 4\n",
      "Enter element of list 1\n",
      "Even numbers in  [3, 6, 2, 4, 1]\n",
      "[6, 2, 4]\n"
     ]
    }
   ],
   "source": [
    "#even numbers in list\n",
    "\n",
    "#function\n",
    "def even(list):\n",
    "    new_list=[]\n",
    "    for i in list:\n",
    "        if i%2==0:               \n",
    "            new_list.append(i)\n",
    "    return new_list\n",
    "\n",
    "#input\n",
    "li=[]\n",
    "n=int(input(\"Enter size of list \"))\n",
    "for i in range(0,n):\n",
    "    e=int(input(\"Enter element of list \"))\n",
    "    li.append(e)\n",
    "\n",
    "print(\"Even numbers in \",li)\n",
    "print(even(li))\n",
    "\n"
   ]
  },
  {
   "cell_type": "markdown",
   "id": "252ee64b",
   "metadata": {},
   "source": [
    "8. Write a Python program to print odd numbers in a List?"
   ]
  },
  {
   "cell_type": "code",
   "execution_count": 9,
   "id": "a98d5d73",
   "metadata": {},
   "outputs": [
    {
     "name": "stdout",
     "output_type": "stream",
     "text": [
      "Enter size of list 5\n",
      "Enter element of list 2\n",
      "Enter element of list 3\n",
      "Enter element of list 5\n",
      "Enter element of list 7\n",
      "Enter element of list 1\n",
      "Odd numbers in  [2, 3, 5, 7, 1]\n",
      "[3, 5, 7, 1]\n"
     ]
    }
   ],
   "source": [
    "#odd numbers in list\n",
    "\n",
    "#function\n",
    "def odd(list):\n",
    "    new_list=[]\n",
    "    for i in list:\n",
    "        if i%2!=0:               \n",
    "            new_list.append(i)\n",
    "    return new_list\n",
    "\n",
    "#input\n",
    "li=[]\n",
    "n=int(input(\"Enter size of list \"))\n",
    "for i in range(0,n):\n",
    "    e=int(input(\"Enter element of list \"))\n",
    "    li.append(e)\n",
    "\n",
    "print(\"Odd numbers in \",li)\n",
    "print(odd(li))"
   ]
  },
  {
   "cell_type": "markdown",
   "id": "d7fdea8a",
   "metadata": {},
   "source": [
    " 9. Write a Python program to Remove empty List from List?"
   ]
  },
  {
   "cell_type": "code",
   "execution_count": 17,
   "id": "c3252d87",
   "metadata": {},
   "outputs": [
    {
     "name": "stdout",
     "output_type": "stream",
     "text": [
      "Enter size of list 5\n",
      "Enter element of list 3\n",
      "Enter element of list 5\n",
      "Enter element of list 8\n",
      "Enter element of list 10\n",
      "Enter element of list 7\n",
      "List after removing elements  [3, 8, 7]\n"
     ]
    }
   ],
   "source": [
    "li=[]\n",
    "n=int(input(\"Enter size of list \"))\n",
    "for i in range(0,n):\n",
    "    e=int(input(\"Enter element of list \"))\n",
    "    li.append(e)\n",
    "\n",
    "for i in li:\n",
    "    if i % 5 == 0:\n",
    "        li.remove(i)\n",
    "                                     # li=[num for num in li if num%5!=0]\n",
    "print(\"List after removing elements \",li)"
   ]
  },
  {
   "cell_type": "markdown",
   "id": "dfa2de58",
   "metadata": {},
   "source": [
    "10. Write a Python program to Cloning or Copying a list?"
   ]
  },
  {
   "cell_type": "code",
   "execution_count": 18,
   "id": "bb8e9b89",
   "metadata": {},
   "outputs": [
    {
     "name": "stdout",
     "output_type": "stream",
     "text": [
      "Enter size of list 5\n",
      "Enter element of list 3\n",
      "Enter element of list 6\n",
      "Enter element of list 1\n",
      "Enter element of list 2\n",
      "Enter element of list 3\n",
      "Original list:  [3, 6, 1, 2, 3]\n",
      "after cloning : [3, 6, 1, 2, 3]\n"
     ]
    }
   ],
   "source": [
    "li = []\n",
    "n = int(input(\"Enter size of list \"))\n",
    "for i in range(0,n):\n",
    "    e = int(input(\"Enter element of list \"))\n",
    "    li.append(e)\n",
    "print(\"Original list: \",li)\n",
    "\n",
    "#cloning\n",
    "list_copy = li[:]\n",
    "print(\"after cloning :\",list_copy)"
   ]
  },
  {
   "cell_type": "markdown",
   "id": "efd9262f",
   "metadata": {},
   "source": [
    "11. Write a Python program to Count occurrences of an element in a list?"
   ]
  },
  {
   "cell_type": "code",
   "execution_count": 19,
   "id": "915f0360",
   "metadata": {},
   "outputs": [
    {
     "name": "stdout",
     "output_type": "stream",
     "text": [
      "Enter size of list 6\n",
      "Enter element of list 2\n",
      "Enter element of list 3\n",
      "Enter element of list 4\n",
      "Enter element of list 1\n",
      "Enter element of list 4\n",
      "Enter element of list 2\n",
      "Original list: [2, 3, 4, 1, 4, 2]\n",
      "Enter element to be checked list: 2\n",
      "2 has occurred  2 times\n"
     ]
    }
   ],
   "source": [
    "# occurrences in list\n",
    "\n",
    "#function for counting\n",
    "def count_occurrence(list,n):\n",
    "    #counter variable\n",
    "    count=0\n",
    "    for i in list:\n",
    "        if(i==n):\n",
    "            #update counter variable\n",
    "            count=count+1\n",
    "    return count\n",
    "#input list\n",
    "li = []\n",
    "n = int(input(\"Enter size of list \"))\n",
    "for i in range(0,n):\n",
    "    e=int(input(\"Enter element of list \"))\n",
    "    li.append(e)\n",
    "print(\"Original list:\",li)    \n",
    "\n",
    "x=int(input(\"Enter element to be checked list: \"))\n",
    "\n",
    "#function call\n",
    "print(x,\"has occurred \",count_occurrence (li,x),\"times\")"
   ]
  },
  {
   "cell_type": "code",
   "execution_count": null,
   "id": "47bdb5a1",
   "metadata": {},
   "outputs": [],
   "source": []
  }
 ],
 "metadata": {
  "kernelspec": {
   "display_name": "Python 3 (ipykernel)",
   "language": "python",
   "name": "python3"
  },
  "language_info": {
   "codemirror_mode": {
    "name": "ipython",
    "version": 3
   },
   "file_extension": ".py",
   "mimetype": "text/x-python",
   "name": "python",
   "nbconvert_exporter": "python",
   "pygments_lexer": "ipython3",
   "version": "3.10.9"
  }
 },
 "nbformat": 4,
 "nbformat_minor": 5
}
