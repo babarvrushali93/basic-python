{
  "nbformat": 4,
  "nbformat_minor": 0,
  "metadata": {
    "colab": {
      "provenance": []
    },
    "kernelspec": {
      "name": "python3",
      "display_name": "Python 3"
    },
    "language_info": {
      "name": "python"
    }
  },
  "cells": [
    {
      "cell_type": "markdown",
      "source": [
        "1.How do you distinguish between shutil.copy() and shutil.copytree()?\n",
        "\n",
        "Answer -\n",
        "\n",
        "\"shutil.copy()\" will copy a single file.\"shutil.copytree()\" will copy an entire folder and every folder and file contained in it."
      ],
      "metadata": {
        "id": "qAusX1tB0ECe"
      }
    },
    {
      "cell_type": "markdown",
      "source": [
        "2.What function is used to rename files?\n",
        "\n",
        "Answer -\n",
        "\n",
        "shutil.move will rename files."
      ],
      "metadata": {
        "id": "QpGlAWVv0OE9"
      }
    },
    {
      "cell_type": "markdown",
      "source": [
        "3.What is the difference between the delete functions in the send2trash and shutil modules?\n",
        "\n",
        "Answer -\n",
        "\n",
        "shutil.rmtree() function irreversibly deletes files and folders. send2trash will send folders and files to computer's trash or recycle bin instead of permanently deleting them."
      ],
      "metadata": {
        "id": "PzQWwH6d0e8T"
      }
    },
    {
      "cell_type": "markdown",
      "source": [
        "4.ZipFile objects have a close() method just like File objects’ close() method. What ZipFile method is equivalent to File objects’ open() method?\n",
        "\n",
        "Answer -\n",
        "ZipFile method is equivalant to File objects' open() method. For example,"
      ],
      "metadata": {
        "id": "_2kNySxS0sci"
      }
    },
    {
      "cell_type": "code",
      "source": [
        "import zipfile\n",
        "newZip = zipfile.ZipFile('new.zip', 'w')"
      ],
      "metadata": {
        "id": "B5dYvQ700xUM"
      },
      "execution_count": 1,
      "outputs": []
    },
    {
      "cell_type": "markdown",
      "source": [
        "5.Create a programme that searches a folder tree for files with a certain file extension (such as .pdf or .jpg). Copy these files from whatever location they are in to a new folder.\n",
        "\n",
        "Answer -"
      ],
      "metadata": {
        "id": "Xkzqnd5V02aF"
      }
    },
    {
      "cell_type": "code",
      "source": [
        "import os, shutil\n",
        "\n",
        "def selectiveCopy(folder, extensions, destFolder):\n",
        "    folder = os.path.abspath(folder)\n",
        "    destFolder = os.path.abspath(destFolder)\n",
        "    print('Looking in', folder, 'for files with extensions of', ', '.join(extensions))\n",
        "    for foldername, subfolders, filenames in os.walk(folder):\n",
        "        for filename in filenames:\n",
        "            name, extension = os.path.splitext(filename)\n",
        "            if extension in extensions:\n",
        "                fileAbsPath = foldername + os.path.sep + filename\n",
        "                print('Coping', fileAbsPath, 'to', destFolder)\n",
        "                shutil.copy(fileAbsPath, destFolder)\n",
        "\n",
        "extensions = ['.php', '.py']\n",
        "folder = 'randomFolder'\n",
        "destFolder = 'selectiveFolder'\n",
        "selectiveCopy(folder, extensions, destFolder)"
      ],
      "metadata": {
        "colab": {
          "base_uri": "https://localhost:8080/"
        },
        "id": "GKJtaGr91BwS",
        "outputId": "8d79c20d-9ec5-4c07-ac1e-8f48017a05c1"
      },
      "execution_count": 2,
      "outputs": [
        {
          "output_type": "stream",
          "name": "stdout",
          "text": [
            "Looking in /content/randomFolder for files with extensions of .php, .py\n"
          ]
        }
      ]
    }
  ]
}