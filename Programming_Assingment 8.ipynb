{
 "cells": [
  {
   "cell_type": "markdown",
   "id": "9afe3b2c",
   "metadata": {},
   "source": [
    "1. Write a Python Program to Add Two Matrices?"
   ]
  },
  {
   "cell_type": "code",
   "execution_count": 1,
   "id": "a948c8e4",
   "metadata": {},
   "outputs": [
    {
     "name": "stdout",
     "output_type": "stream",
     "text": [
      "Result: \n",
      "[6, 8, 10]\n",
      "[4, 6, 8]\n",
      "[11, 10, 16]\n"
     ]
    },
    {
     "data": {
      "text/plain": [
       "0"
      ]
     },
     "execution_count": 1,
     "metadata": {},
     "output_type": "execute_result"
    }
   ],
   "source": [
    "def addM(A,B):\n",
    "    result=[ [0,0,0],[0,0,0],[0,0,0] ]\n",
    "    #for rows\n",
    "    for i in range(len(A)):\n",
    "        #for colums\n",
    "        for j in range(len(A[0])):\n",
    "            result[i][j]=A[i][j] + B[i][j]\n",
    "            \n",
    "    for k in result:\n",
    "        print(k)\n",
    "        \n",
    "    return 0\n",
    "A=[ [1,2,3], [3,4,5], [6,7,8] ]\n",
    "\n",
    "B= [ [5,6,7], [1,2,3], [5,3,8] ]\n",
    "\n",
    "print(\"Result: \")\n",
    "addM(A,B)"
   ]
  },
  {
   "cell_type": "markdown",
   "id": "11d47923",
   "metadata": {},
   "source": [
    "2. Write a Python Program to Multiply Two Matrices?"
   ]
  },
  {
   "cell_type": "code",
   "execution_count": 2,
   "id": "f193899a",
   "metadata": {},
   "outputs": [
    {
     "name": "stdout",
     "output_type": "stream",
     "text": [
      "Result: \n",
      "[26, 29, 40]\n",
      "[48, 88, 89]\n",
      "[105, 144, 173]\n"
     ]
    },
    {
     "data": {
      "text/plain": [
       "0"
      ]
     },
     "execution_count": 2,
     "metadata": {},
     "output_type": "execute_result"
    }
   ],
   "source": [
    "def Multiply(A,B):\n",
    "    result=[ [0,0,0],[0,0,0],[0,0,0] ]\n",
    "    #for rows\n",
    "    for i in range(len(A)):\n",
    "        #for columns\n",
    "        for j in range(len(B[0])):\n",
    "            #for rows of matrix B\n",
    "            for k in range(len(B)):\n",
    "                result[i][j] += A[i][k] * B[k][j]\n",
    "\n",
    "    for p in result:\n",
    "        print(p)\n",
    "\n",
    "    return 0\n",
    "\n",
    "A = [ [1, 2, 3],[6, 7, 4], [8, 10, 11] ]\n",
    "  \n",
    "B = [[1, 5, 3],[2, 6, 5], [7, 4, 9] ]\n",
    "\n",
    "print(\"Result: \")\n",
    "Multiply(A,B)"
   ]
  },
  {
   "cell_type": "markdown",
   "id": "bed3abb3",
   "metadata": {},
   "source": [
    "3. Write a Python Program to Transpose a Matrix?"
   ]
  },
  {
   "cell_type": "code",
   "execution_count": 3,
   "id": "d88d2825",
   "metadata": {},
   "outputs": [
    {
     "name": "stdout",
     "output_type": "stream",
     "text": [
      "[2, 3]\n",
      "[4, 5]\n",
      "[7, 8]\n",
      "Transpose: \n",
      "[2, 4, 7]\n",
      "[3, 5, 8]\n"
     ]
    }
   ],
   "source": [
    "matrix=[[2,3],[4,5],[7,8]]\n",
    "\n",
    "for m in matrix:\n",
    "    print(m)\n",
    "    \n",
    "transpose= [ [matrix[j][i] for j in range(len(matrix))] for i in range(len(matrix[0]))] \n",
    "print(\"Transpose: \")\n",
    "\n",
    "for t in transpose:\n",
    "    print(t)"
   ]
  },
  {
   "cell_type": "markdown",
   "id": "b4b9bcbc",
   "metadata": {},
   "source": [
    "4. Write a Python Program to Sort Words in Alphabetic Order?"
   ]
  },
  {
   "cell_type": "code",
   "execution_count": 5,
   "id": "1b09bf4f",
   "metadata": {},
   "outputs": [
    {
     "name": "stdout",
     "output_type": "stream",
     "text": [
      "The sorted words are:\n",
      "an\n",
      "cased\n",
      "example\n",
      "hello\n",
      "is\n",
      "letters\n",
      "this\n",
      "with\n"
     ]
    }
   ],
   "source": [
    "# Program to sort alphabetically the words form a string provided by the user\n",
    "\n",
    "my_str = \"Hello this Is an Example With cased letters\"\n",
    "\n",
    "# To take input from the user\n",
    "#my_str = input(\"Enter a string: \")\n",
    "\n",
    "# breakdown the string into a list of words\n",
    "words = [word.lower() for word in my_str.split()]\n",
    "\n",
    "# sort the list\n",
    "words.sort()\n",
    "\n",
    "# display the sorted words\n",
    "\n",
    "print(\"The sorted words are:\")\n",
    "for word in words:\n",
    "    print(word)\n"
   ]
  },
  {
   "cell_type": "markdown",
   "id": "76119b78",
   "metadata": {},
   "source": [
    "5. Write a Python Program to Remove Punctuation From a String?"
   ]
  },
  {
   "cell_type": "code",
   "execution_count": 4,
   "id": "9e64848a",
   "metadata": {},
   "outputs": [
    {
     "name": "stdout",
     "output_type": "stream",
     "text": [
      "Hello he said and went\n"
     ]
    }
   ],
   "source": [
    "# define punctuation\n",
    "punctuations = '''!()-[]{};:'\"\\,<>./?@#$%^&*_~'''\n",
    "\n",
    "my_str = \"Hello!!!, he said ---and went.\"\n",
    "\n",
    "# To take input from the user\n",
    "# my_str = input(\"Enter a string: \")\n",
    "\n",
    "# remove punctuation from the string\n",
    "no_punct = \"\"\n",
    "for char in my_str:\n",
    "    if char not in punctuations:\n",
    "        no_punct = no_punct + char\n",
    "\n",
    "# display the unpunctuated string\n",
    "print(no_punct)\n"
   ]
  }
 ],
 "metadata": {
  "kernelspec": {
   "display_name": "Python 3 (ipykernel)",
   "language": "python",
   "name": "python3"
  },
  "language_info": {
   "codemirror_mode": {
    "name": "ipython",
    "version": 3
   },
   "file_extension": ".py",
   "mimetype": "text/x-python",
   "name": "python",
   "nbconvert_exporter": "python",
   "pygments_lexer": "ipython3",
   "version": "3.10.9"
  }
 },
 "nbformat": 4,
 "nbformat_minor": 5
}
