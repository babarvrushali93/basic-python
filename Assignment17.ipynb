{
  "nbformat": 4,
  "nbformat_minor": 0,
  "metadata": {
    "colab": {
      "provenance": []
    },
    "kernelspec": {
      "name": "python3",
      "display_name": "Python 3"
    },
    "language_info": {
      "name": "python"
    }
  },
  "cells": [
    {
      "cell_type": "markdown",
      "source": [
        "1.Assign the value 7 to the variable guess_me. Then, write the conditional tests (if, else, and elif) to print the string 'too low' if guess_me is less than 7, 'too high' if greater than 7, and 'just right' if equal to 7.\n",
        "\n",
        "Answer -"
      ],
      "metadata": {
        "id": "6oFTy8jOBkNd"
      }
    },
    {
      "cell_type": "code",
      "source": [
        "guess_me = 7\n",
        "if guess_me < 7:\n",
        " print('too low')\n",
        "elif guess_me > 7:\n",
        " print('too high')\n",
        "else:\n",
        " print('just right')"
      ],
      "metadata": {
        "colab": {
          "base_uri": "https://localhost:8080/"
        },
        "id": "0cFljTnXBo0b",
        "outputId": "27e418ad-51b4-425b-d72d-1d755b819200"
      },
      "execution_count": 1,
      "outputs": [
        {
          "output_type": "stream",
          "name": "stdout",
          "text": [
            "just right\n"
          ]
        }
      ]
    },
    {
      "cell_type": "markdown",
      "source": [
        "2.Assign the value 7 to the variable guess_me and the value 1 to the variable start. Write a while loop that compares start with guess_me. Print too low if start is less than guess me. If start equals guess_me, print 'found it!' and exit the loop. If start is greater than guess_me, print 'oops' and exit the loop. Increment start at the end of the loop.\n",
        "\n",
        "Answer -"
      ],
      "metadata": {
        "id": "iE_8g-LHBxTu"
      }
    },
    {
      "cell_type": "code",
      "source": [
        "guess_me = 7\n",
        "start = 1\n",
        "while True:\n",
        " if start < guess_me:\n",
        "    print('too low')\n",
        " elif start == guess_me:\n",
        "     print('found it!')\n",
        "     break\n",
        " elif start > guess_me:\n",
        "     print('oops')\n",
        "     break\n",
        " start += 1"
      ],
      "metadata": {
        "colab": {
          "base_uri": "https://localhost:8080/"
        },
        "id": "jGWUHAbWCB7P",
        "outputId": "39c1f187-4051-4a09-fda7-5f2dfef9f1a9"
      },
      "execution_count": 2,
      "outputs": [
        {
          "output_type": "stream",
          "name": "stdout",
          "text": [
            "too low\n",
            "too low\n",
            "too low\n",
            "too low\n",
            "too low\n",
            "too low\n",
            "found it!\n"
          ]
        }
      ]
    },
    {
      "cell_type": "markdown",
      "source": [
        "3.Print the following values of the list [3, 2, 1, 0] using a for loop.\n",
        "\n",
        "Answer -"
      ],
      "metadata": {
        "id": "DGHO3l4jCIJy"
      }
    },
    {
      "cell_type": "code",
      "source": [
        "lst = [3,2,1,0]\n",
        "for value in lst:\n",
        "    print(value)"
      ],
      "metadata": {
        "colab": {
          "base_uri": "https://localhost:8080/"
        },
        "id": "-wTIw4s3CPju",
        "outputId": "da897112-e06b-4032-f1a0-be1f9bc57382"
      },
      "execution_count": 3,
      "outputs": [
        {
          "output_type": "stream",
          "name": "stdout",
          "text": [
            "3\n",
            "2\n",
            "1\n",
            "0\n"
          ]
        }
      ]
    },
    {
      "cell_type": "markdown",
      "source": [
        "4.Use a list comprehension to make a list of the even numbers in range(10)\n",
        "\n",
        "Answer -"
      ],
      "metadata": {
        "id": "BRYMkPp0CcgJ"
      }
    },
    {
      "cell_type": "code",
      "source": [
        "even = [number for number in range(10) if number % 2 == 0]\n",
        "even"
      ],
      "metadata": {
        "colab": {
          "base_uri": "https://localhost:8080/"
        },
        "id": "Ia13wIfgCdw5",
        "outputId": "1705b119-a585-4ccb-c93a-fcc193aa8429"
      },
      "execution_count": 4,
      "outputs": [
        {
          "output_type": "execute_result",
          "data": {
            "text/plain": [
              "[0, 2, 4, 6, 8]"
            ]
          },
          "metadata": {},
          "execution_count": 4
        }
      ]
    },
    {
      "cell_type": "markdown",
      "source": [
        "5.Use a dictionary comprehension to create the dictionary squares. Use range(10) to return the keys, and use the square of each key as its value.\n",
        "\n",
        "answer-"
      ],
      "metadata": {
        "id": "wKd7uMWQCp99"
      }
    },
    {
      "cell_type": "code",
      "source": [
        "squares = {key: key*key for key in range(10)}\n",
        "squares"
      ],
      "metadata": {
        "colab": {
          "base_uri": "https://localhost:8080/"
        },
        "id": "kAuqwiitC0Bo",
        "outputId": "d047b7e9-3c5e-43ae-ff40-7d85926a898e"
      },
      "execution_count": 5,
      "outputs": [
        {
          "output_type": "execute_result",
          "data": {
            "text/plain": [
              "{0: 0, 1: 1, 2: 4, 3: 9, 4: 16, 5: 25, 6: 36, 7: 49, 8: 64, 9: 81}"
            ]
          },
          "metadata": {},
          "execution_count": 5
        }
      ]
    },
    {
      "cell_type": "markdown",
      "source": [
        "6.Construct the set odd from the odd numbers in the range using a set comprehension (10).\n",
        "\n",
        "Answer -"
      ],
      "metadata": {
        "id": "wI6qNAkbC-x0"
      }
    },
    {
      "cell_type": "code",
      "source": [
        "odd = {number for number in range(10) if number % 2 == 1}\n",
        "odd"
      ],
      "metadata": {
        "colab": {
          "base_uri": "https://localhost:8080/"
        },
        "id": "USY6il8zDDjq",
        "outputId": "b880dd6b-bf06-47e5-c99e-750f212462ed"
      },
      "execution_count": 6,
      "outputs": [
        {
          "output_type": "execute_result",
          "data": {
            "text/plain": [
              "{1, 3, 5, 7, 9}"
            ]
          },
          "metadata": {},
          "execution_count": 6
        }
      ]
    },
    {
      "cell_type": "markdown",
      "source": [
        "7.Use a generator comprehension to return the string 'Got ' and a number for the numbers in range(10). Iterate through this by using a for loop.\n",
        "\n",
        "Answer -"
      ],
      "metadata": {
        "id": "CsioyyEvDO1A"
      }
    },
    {
      "cell_type": "code",
      "source": [
        "for thing in ('Got %s' % number for number in range(10)):\n",
        "    print(thing)"
      ],
      "metadata": {
        "colab": {
          "base_uri": "https://localhost:8080/"
        },
        "id": "jUXgTCS_DYvO",
        "outputId": "839fb6ee-4fa1-4ae6-91d9-76615340d267"
      },
      "execution_count": 7,
      "outputs": [
        {
          "output_type": "stream",
          "name": "stdout",
          "text": [
            "Got 0\n",
            "Got 1\n",
            "Got 2\n",
            "Got 3\n",
            "Got 4\n",
            "Got 5\n",
            "Got 6\n",
            "Got 7\n",
            "Got 8\n",
            "Got 9\n"
          ]
        }
      ]
    },
    {
      "cell_type": "markdown",
      "source": [
        "8.Define a function called good that returns the list ['Harry', 'Ron', 'Hermione'].\n",
        "\n",
        "Answer -"
      ],
      "metadata": {
        "id": "EZaLtcaFDi6K"
      }
    },
    {
      "cell_type": "code",
      "source": [
        "def good():\n",
        "  return  ['Harry', 'Ron', 'Hermione']\n",
        "good()\n"
      ],
      "metadata": {
        "colab": {
          "base_uri": "https://localhost:8080/"
        },
        "id": "xVy1y-BWFR5r",
        "outputId": "1546a2ec-d43e-4e3f-8874-5fd2813e3653"
      },
      "execution_count": 8,
      "outputs": [
        {
          "output_type": "execute_result",
          "data": {
            "text/plain": [
              "['Harry', 'Ron', 'Hermione']"
            ]
          },
          "metadata": {},
          "execution_count": 8
        }
      ]
    },
    {
      "cell_type": "markdown",
      "source": [
        "9.Define a generator function called get_odds that returns the odd numbers from range(10). Use a for loop to find and print the third value returned.\n",
        "\n",
        "Answer -"
      ],
      "metadata": {
        "id": "R8mHgYgRFzEO"
      }
    },
    {
      "cell_type": "code",
      "source": [
        "def get_odds():\n",
        "    for number in range(1, 10, 2):\n",
        "        yield number\n",
        "count = 1\n",
        "for number in get_odds():\n",
        "    if count == 3:\n",
        "        print(\"The third odd number is\", number)\n",
        "        break\n",
        "    count += 1"
      ],
      "metadata": {
        "colab": {
          "base_uri": "https://localhost:8080/"
        },
        "id": "FUf0rHJXFw-e",
        "outputId": "68b58fbd-7a4f-4623-d849-3bcc9faa74a6"
      },
      "execution_count": 9,
      "outputs": [
        {
          "output_type": "stream",
          "name": "stdout",
          "text": [
            "The third odd number is 5\n"
          ]
        }
      ]
    },
    {
      "cell_type": "markdown",
      "source": [
        "10.Define an exception called OopsException. Raise this exception to see what happens. Then write the code to catch this exception and print 'Caught an oops'.\n",
        "\n",
        "Answer -"
      ],
      "metadata": {
        "id": "YSSQQj4wF3ys"
      }
    },
    {
      "cell_type": "code",
      "source": [
        "class OopsException(Exception):\n",
        "    pass\n",
        "raise OopsException()"
      ],
      "metadata": {
        "colab": {
          "base_uri": "https://localhost:8080/",
          "height": 200
        },
        "id": "Ksi7YTF-GA12",
        "outputId": "445d1d1f-bb6f-4b58-d526-087bab62ab55"
      },
      "execution_count": 10,
      "outputs": [
        {
          "output_type": "error",
          "ename": "OopsException",
          "evalue": "ignored",
          "traceback": [
            "\u001b[0;31m---------------------------------------------------------------------------\u001b[0m",
            "\u001b[0;31mOopsException\u001b[0m                             Traceback (most recent call last)",
            "\u001b[0;32m<ipython-input-10-ce788aa7cfea>\u001b[0m in \u001b[0;36m<cell line: 3>\u001b[0;34m()\u001b[0m\n\u001b[1;32m      1\u001b[0m \u001b[0;32mclass\u001b[0m \u001b[0mOopsException\u001b[0m\u001b[0;34m(\u001b[0m\u001b[0mException\u001b[0m\u001b[0;34m)\u001b[0m\u001b[0;34m:\u001b[0m\u001b[0;34m\u001b[0m\u001b[0;34m\u001b[0m\u001b[0m\n\u001b[1;32m      2\u001b[0m     \u001b[0;32mpass\u001b[0m\u001b[0;34m\u001b[0m\u001b[0;34m\u001b[0m\u001b[0m\n\u001b[0;32m----> 3\u001b[0;31m \u001b[0;32mraise\u001b[0m \u001b[0mOopsException\u001b[0m\u001b[0;34m(\u001b[0m\u001b[0;34m)\u001b[0m\u001b[0;34m\u001b[0m\u001b[0;34m\u001b[0m\u001b[0m\n\u001b[0m",
            "\u001b[0;31mOopsException\u001b[0m: "
          ]
        }
      ]
    },
    {
      "cell_type": "code",
      "source": [
        "try:\n",
        "    raise OopsException\n",
        "except OopsException:\n",
        "    print('Caught an oops')"
      ],
      "metadata": {
        "colab": {
          "base_uri": "https://localhost:8080/"
        },
        "id": "GpYas9uyGRtf",
        "outputId": "2afbdb59-9ec1-4ff9-e545-0395505a93cb"
      },
      "execution_count": 11,
      "outputs": [
        {
          "output_type": "stream",
          "name": "stdout",
          "text": [
            "Caught an oops\n"
          ]
        }
      ]
    },
    {
      "cell_type": "markdown",
      "source": [
        "11.Use zip() to make a dictionary called movies that pairs these lists: titles = ['Creature of Habit', 'Crewel Fate'] and plots = ['A nun turns into a monster', 'A haunted yarn shop'].\n",
        "\n",
        "Answer -"
      ],
      "metadata": {
        "id": "k3ubnMT1GVma"
      }
    },
    {
      "cell_type": "code",
      "source": [
        "titles = ['Creature of Habit', 'Crewel Fate']\n",
        "plots = ['A nun turns into a monster', 'A haunted yarn shop']\n",
        "movies = dict(zip(titles, plots))\n",
        "movies"
      ],
      "metadata": {
        "colab": {
          "base_uri": "https://localhost:8080/"
        },
        "id": "Xk2j0KWDGgUz",
        "outputId": "2cc0e73b-13d8-48bc-ddfd-19170309365a"
      },
      "execution_count": 12,
      "outputs": [
        {
          "output_type": "execute_result",
          "data": {
            "text/plain": [
              "{'Creature of Habit': 'A nun turns into a monster',\n",
              " 'Crewel Fate': 'A haunted yarn shop'}"
            ]
          },
          "metadata": {},
          "execution_count": 12
        }
      ]
    }
  ]
}