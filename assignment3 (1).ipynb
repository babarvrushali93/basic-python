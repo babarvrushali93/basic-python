{
  "nbformat": 4,
  "nbformat_minor": 0,
  "metadata": {
    "colab": {
      "provenance": []
    },
    "kernelspec": {
      "name": "python3",
      "display_name": "Python 3"
    },
    "language_info": {
      "name": "python"
    }
  },
  "cells": [
    {
      "cell_type": "markdown",
      "source": [
        "1.Why are functions advantageous to have in your programs?\n",
        "\n",
        "-\n",
        "Functions are advantageous to have in programs for several reasons:\n",
        "\n",
        "- Functions reduce the need for duplicate code. This makes programs shorter, easier to read, and easier to update.\n",
        "\n",
        "In summary, functions offer advantages such as code organization, reusability, modularity, abstraction, code readability, maintainability, and facilitating testing and debugging. They contribute to writing cleaner, more efficient, and scalable programs.\n",
        "\n",
        "\n"
      ],
      "metadata": {
        "id": "Io1UNRcDnYNC"
      }
    },
    {
      "cell_type": "markdown",
      "source": [
        "2. When does the code in a function run: when it&#39;s specified or when it&#39;s called?\n",
        "\n",
        "-The code inside a function runs when the function is called. When you define a function, you are essentially creating a reusable block of code that can be executed whenever needed. The function definition specifies what operations should be performed when the function is called, but the actual execution of the code inside the function occurs only when the function is invoked.\n",
        "\n",
        "For example, consider the following function definition in Python:\n",
        "\n",
        "-In this case, the code print(\"Hello, world!\") will be executed only when the function say_hello() is called. Until the function is called, the code inside it is not executed.\n",
        "\n",
        "You can call the function multiple times to execute the code inside it at different points in your program. Each time the function is called, the code inside it will run and perform the specified actions."
      ],
      "metadata": {
        "id": "CZbz7WcxzMDp"
      }
    },
    {
      "cell_type": "code",
      "source": [
        "def say_hello():\n",
        "    print(\"Hello, world!\")\n"
      ],
      "metadata": {
        "id": "1JReBnq90kBG"
      },
      "execution_count": null,
      "outputs": []
    },
    {
      "cell_type": "code",
      "source": [
        "say_hello()"
      ],
      "metadata": {
        "colab": {
          "base_uri": "https://localhost:8080/"
        },
        "id": "7HfbJN9A0qwP",
        "outputId": "df07d19a-53b6-407a-ba98-1b2057700f84"
      },
      "execution_count": null,
      "outputs": [
        {
          "output_type": "stream",
          "name": "stdout",
          "text": [
            "Hello, world!\n"
          ]
        }
      ]
    },
    {
      "cell_type": "markdown",
      "source": [
        "3.What statement creates a function?\n",
        "\n",
        "- In most programming languages, including Python, the def statement is used to create a function. The def statement is short for \"define\" and is followed by the name of the function and a set of parentheses containing any parameters the function may accept. Here is the basic syntax of a function definition in Python:\n",
        "\n"
      ],
      "metadata": {
        "id": "mgezBiDozMMn"
      }
    },
    {
      "cell_type": "code",
      "source": [
        "def function_name(parameters):\n",
        "    # Function body\n",
        "    # Code to be executed when the function is called\n"
      ],
      "metadata": {
        "id": "gVn9anSMz_O9"
      },
      "execution_count": null,
      "outputs": []
    },
    {
      "cell_type": "markdown",
      "source": [
        "Let's take a simple example of a function called add_numbers that takes two parameters and returns their sum:\n",
        "\n",
        "-In this example, the def statement is used to create the add_numbers function. It takes two parameters, a and b, and calculates their sum, which is then returned using the return statement.\n",
        "\n",
        "Once the function is defined, you can call it from other parts of your program to execute the code inside the function and obtain the result."
      ],
      "metadata": {
        "id": "P_-8GF-CzgLX"
      }
    },
    {
      "cell_type": "code",
      "source": [
        "#a = 2\n",
        "#b = 3\n",
        "\n",
        "def add_numbers(a, b):\n",
        "    sum = a + b\n",
        "    return sum\n"
      ],
      "metadata": {
        "id": "jvkrrpBrzb3j"
      },
      "execution_count": null,
      "outputs": []
    },
    {
      "cell_type": "code",
      "source": [
        "add_numbers(a,b)"
      ],
      "metadata": {
        "colab": {
          "base_uri": "https://localhost:8080/"
        },
        "id": "uGwmJQY80Gbx",
        "outputId": "909287e3-54d4-4b0f-eff7-d6e63d10fa2e"
      },
      "execution_count": null,
      "outputs": [
        {
          "output_type": "execute_result",
          "data": {
            "text/plain": [
              "5"
            ]
          },
          "metadata": {},
          "execution_count": 18
        }
      ]
    },
    {
      "cell_type": "markdown",
      "source": [
        "4.What is the difference between a function and a function call?\n",
        "\n",
        "-A function and a function call are two related but distinct concepts in programming.\n",
        "\n",
        "A function is a named block of code that performs a specific task or operation. It encapsulates a set of instructions that can be executed when the function is called. Functions can have parameters (input values) and can return a value as a result of their execution. Functions are typically defined once and can be used (called) multiple times throughout the program.\n",
        "\n",
        "Here's an example of a function in Python that calculates the square of a number:"
      ],
      "metadata": {
        "id": "RvwHUXkq1-1F"
      }
    },
    {
      "cell_type": "code",
      "source": [
        "def square(x):\n",
        "    return x ** 2\n"
      ],
      "metadata": {
        "id": "UN8ks0F724Wc"
      },
      "execution_count": null,
      "outputs": []
    },
    {
      "cell_type": "markdown",
      "source": [
        "- A function call, on the other hand, is the act of invoking or executing a function. It is a statement that instructs the program to jump to the function's definition, execute the code inside the function, and optionally receive a return value if the function provides one. A function call typically includes the name of the function followed by parentheses, which may contain arguments (values passed to the function's parameters) if the function expects any.\n",
        "\n",
        "Continuing with the previous example, here's how you would make a function call to the square function:"
      ],
      "metadata": {
        "id": "AVQ2eX8b3CW4"
      }
    },
    {
      "cell_type": "code",
      "source": [
        "result = square(5)\n"
      ],
      "metadata": {
        "id": "81se6fEz3H03"
      },
      "execution_count": null,
      "outputs": []
    },
    {
      "cell_type": "markdown",
      "source": [
        "- in this function call, square(5), the function square is called with the argument 5. The value 5 is passed to the x parameter of the square function. The function body is executed, and the result, in this case, 25, is returned and stored in the variable result.\n",
        "\n",
        "To summarize, a function is a named block of code that performs a specific task, whereas a function call is the act of invoking or executing that function, providing any necessary arguments and potentially receiving a return value. The function call allows you to use and benefit from the functionality provided by the function.\n",
        "\n",
        "\n",
        "\n",
        "\n",
        "\n",
        "\n"
      ],
      "metadata": {
        "id": "nu7QlT-U3Nhe"
      }
    },
    {
      "cell_type": "markdown",
      "source": [
        "5. How many global scopes are there in a Python program? How many local scopes?\n",
        "- In a Python program, there is typically one global scope and multiple local scopes.\n",
        "\n",
        "- Global Scope:\n",
        "The global scope refers to the outermost level of a Python program. It is created when the program starts and remains active until the program terminates. Variables, functions, and classes defined in the global scope are accessible from anywhere within the program, including inside local scopes.\n",
        "\n",
        "- Local Scopes:\n",
        "Local scopes are created whenever a function is called or when a block of code is executed inside a function. Each function call or code block execution creates its own local scope. Local scopes are temporary and exist only as long as the function or code block is executing. Variables, functions, and classes defined within a local scope are accessible only within that specific scope.\n",
        "\n",
        "So, the number of global scopes in a Python program is typically one, while the number of local scopes can vary depending on the number of function calls and code block execution"
      ],
      "metadata": {
        "id": "9nVL5tDUdabd"
      }
    },
    {
      "cell_type": "markdown",
      "source": [
        "6.What happens to variables in a local scope when the function call returns?\n",
        "\n",
        "-When a function call returns, the local variables that were defined within the function's scope are typically destroyed, and the memory allocated to them is freed. This process is known as \"variable cleanup\" or \"variable destruction.\" The specific behavior may vary depending on the programming language or environment you are using, but the general concept remains the same.\n",
        "\n",
        "When a function is called, a new stack frame is created on the program's call stack to hold the function's local variables and other relevant information. This stack frame is typically allocated dynamically at runtime. The local variables are stored within this stack frame.\n",
        "\n",
        "Once the function call completes and the function returns, the stack frame associated with that function is no longer needed. It is popped off the call stack, and the memory allocated to the stack frame, including the local variables, is deallocated. This ensures that the memory used by the local variables is freed up for other purposes.\n",
        "\n",
        "\n"
      ],
      "metadata": {
        "id": "8UsVVmT-eQC2"
      }
    },
    {
      "cell_type": "markdown",
      "source": [
        "7.What is the concept of a return value? Is it possible to have a return value in an expression?\n",
        "\n",
        "- The concept of a return value is fundamental in programming. A return value refers to the data or result that a function provides back to the caller when the function completes its execution. It allows a function to pass data or information back to the code that invoked it, enabling communication and sharing of results between different parts of a program.\n",
        "\n",
        "When a function is called, it performs its operations and may produce a value as a result. This value can be explicitly specified using the return statement in most programming languages. The return statement allows the function to terminate its execution and provide the specified value as the function's return value."
      ],
      "metadata": {
        "id": "KinrTVWNVhHs"
      }
    },
    {
      "cell_type": "code",
      "source": [
        "def add_numbers(a, b):\n",
        "    return a + b\n",
        "\n",
        "result = add_numbers(3, 5)\n",
        "print(result)\n"
      ],
      "metadata": {
        "colab": {
          "base_uri": "https://localhost:8080/"
        },
        "id": "Ij1MSqtSVsAT",
        "outputId": "5b64071a-8307-44fa-a37b-0dec26b8e4e2"
      },
      "execution_count": 4,
      "outputs": [
        {
          "output_type": "stream",
          "name": "stdout",
          "text": [
            "8\n"
          ]
        }
      ]
    },
    {
      "cell_type": "markdown",
      "source": [
        "8.If a function does not have a return statement, what is the return value of a call to that function?\n",
        "\n",
        "- If a function does not have a return statement or if it reaches the end of its code without encountering a return statement, the function is considered to have an implicit return value. The actual value of this implicit return can vary depending on the programming language.\n",
        "\n",
        "In many programming languages such as Python and JavaScript, when a function lacks an explicit return statement, it implicitly returns a special value called None (Python) or undefined (JavaScript). These values indicate the absence of a meaningful result."
      ],
      "metadata": {
        "id": "Yqxy3AEFV_t_"
      }
    },
    {
      "cell_type": "code",
      "source": [
        "def greet():\n",
        "    print(\"Hello!\")\n",
        "\n",
        "result = greet()\n",
        "print(result)  # Output: None\n"
      ],
      "metadata": {
        "colab": {
          "base_uri": "https://localhost:8080/"
        },
        "id": "AbND5DHpWKNx",
        "outputId": "800b14cc-c76d-414b-9d76-36181246485a"
      },
      "execution_count": 5,
      "outputs": [
        {
          "output_type": "stream",
          "name": "stdout",
          "text": [
            "Hello!\n",
            "None\n"
          ]
        }
      ]
    },
    {
      "cell_type": "markdown",
      "source": [
        "9.How do you make a function variable refer to the global variable?\n",
        "\n",
        "-\n",
        "To make a function variable refer to a global variable, you can use the global keyword (in Python) or omit the variable declaration (in some other programming languages) within the function.\n",
        "\n",
        "In Python, when you declare a variable inside a function, it is considered a local variable by default. If you want to access and modify a global variable from within the function, you need to explicitly indicate that you're referring to the global variable using the global keyword"
      ],
      "metadata": {
        "id": "TvOu2H_1WZNH"
      }
    },
    {
      "cell_type": "code",
      "source": [
        "global_var = 10\n",
        "\n",
        "def modify_global():\n",
        "    global global_var\n",
        "    global_var = 20\n",
        "\n",
        "print(global_var)\n",
        "modify_global()\n",
        "print(global_var)\n"
      ],
      "metadata": {
        "colab": {
          "base_uri": "https://localhost:8080/"
        },
        "id": "GKPMXD_3WpgU",
        "outputId": "4b9b7ca0-f167-4482-e8b7-35ef4ce22a1f"
      },
      "execution_count": 6,
      "outputs": [
        {
          "output_type": "stream",
          "name": "stdout",
          "text": [
            "10\n",
            "20\n"
          ]
        }
      ]
    },
    {
      "cell_type": "markdown",
      "source": [
        "10. What is the data type of None?\n",
        "\n",
        "- The None keyword is used to define a null value, or no value at all.\n",
        "- None is not the same as 0, False, or an empty string. None is a data type of its own (NoneType) and only None can be None."
      ],
      "metadata": {
        "id": "W06dbZZZXipp"
      }
    },
    {
      "cell_type": "code",
      "source": [
        "x = None\n",
        "\n",
        "if x:\n",
        "  print(\"Do you think None is True?\")\n",
        "elif x is False:\n",
        "  print (\"Do you think None is False?\")\n",
        "else:\n",
        "  print(\"None is not True, or False, None is just None...\")"
      ],
      "metadata": {
        "colab": {
          "base_uri": "https://localhost:8080/"
        },
        "id": "o73orjUkXYGr",
        "outputId": "f017e57e-48d9-4dfa-ee5b-fd245195a554"
      },
      "execution_count": 7,
      "outputs": [
        {
          "output_type": "stream",
          "name": "stdout",
          "text": [
            "None is not True, or False, None is just None...\n"
          ]
        }
      ]
    },
    {
      "cell_type": "markdown",
      "source": [
        "11. What does the sentence import areallyourpetsnamederic do?\n",
        "- What does the sentence import areallyourpetsnamederic do?"
      ],
      "metadata": {
        "id": "g-niZdR7YQCF"
      }
    },
    {
      "cell_type": "markdown",
      "source": [
        "12. If you had a bacon() feature in a spam module, what would you call it after importing spam?\n",
        "\n",
        "- This function can be called with spam.bacon()."
      ],
      "metadata": {
        "id": "-_4e4DKtl0ib"
      }
    },
    {
      "cell_type": "markdown",
      "source": [
        "13. What can you do to save a programme from crashing if it encounters an error?\n",
        "\n",
        "- Place the line of code that might cause an error in a try clause."
      ],
      "metadata": {
        "id": "_dKm_8f9l8wE"
      }
    },
    {
      "cell_type": "markdown",
      "source": [
        "14. What is the purpose of the try clause? What is the purpose of the except clause?\n",
        "\n",
        "- The code that could potentially cause an error goes in the try clause.\n",
        "-The code that executes if an error happens goes in the except clause."
      ],
      "metadata": {
        "id": "6aowohvtmKiB"
      }
    }
  ]
}