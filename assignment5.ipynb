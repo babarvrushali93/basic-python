{
  "nbformat": 4,
  "nbformat_minor": 0,
  "metadata": {
    "colab": {
      "provenance": []
    },
    "kernelspec": {
      "name": "python3",
      "display_name": "Python 3"
    },
    "language_info": {
      "name": "python"
    }
  },
  "cells": [
    {
      "cell_type": "markdown",
      "source": [
        "1. What does an empty dictionary&#39;s code look like?\n",
        "\n",
        "- In python ,an empty dictionary's code look like this:\n",
        "\n",
        "- this creates a new dictionary object named 'my_dict' that doesn't contain any key-value pairs.\n",
        "- it's just an empty dictionary waiting to be populated with data.\n"
      ],
      "metadata": {
        "id": "hJF9pIFGbGCB"
      }
    },
    {
      "cell_type": "code",
      "source": [
        "my_dice = {}"
      ],
      "metadata": {
        "id": "9P_YXJTpbJ6B"
      },
      "execution_count": null,
      "outputs": []
    },
    {
      "cell_type": "markdown",
      "source": [
        "2. What is the value of a dictionary value with the key &#39;foo&#39; and the value 42?"
      ],
      "metadata": {
        "id": "BOFklDZcbse6"
      }
    },
    {
      "cell_type": "code",
      "source": [
        "dict = {'foo':42}\n",
        "\n",
        "value = dict['foo']\n",
        "\n",
        "print(value)"
      ],
      "metadata": {
        "colab": {
          "base_uri": "https://localhost:8080/"
        },
        "id": "_5uUmBJXdEf-",
        "outputId": "bae0c428-d18b-4a00-b351-34af3b5d1f4e"
      },
      "execution_count": 4,
      "outputs": [
        {
          "output_type": "stream",
          "name": "stdout",
          "text": [
            "42\n"
          ]
        }
      ]
    },
    {
      "cell_type": "markdown",
      "source": [
        "3. What is the most significant distinction between a dictionary and a list?\n",
        "- Lists are used to store the data, which should be ordered and sequential.\n",
        "- On the other hand, dictionary is used to store large amounts of data for easy and quick access.\n",
        "- List is ordered and mutable, whereas dictionaries are unordered and mutable."
      ],
      "metadata": {
        "id": "LbF4afiQeIvP"
      }
    },
    {
      "cell_type": "code",
      "source": [
        "# dict\n",
        "\n",
        "dict = {'b':'beauty', 'j':'joy', 'c':'computing'}\n",
        "print(dict)"
      ],
      "metadata": {
        "colab": {
          "base_uri": "https://localhost:8080/"
        },
        "id": "JrL1Ywj5e78W",
        "outputId": "682ddd07-352f-43c3-c029-923c22cc776b"
      },
      "execution_count": 8,
      "outputs": [
        {
          "output_type": "stream",
          "name": "stdout",
          "text": [
            "{'b': 'beauty', 'j': 'joy', 'c': 'computing'}\n"
          ]
        }
      ]
    },
    {
      "cell_type": "code",
      "source": [
        "# list\n",
        "\n",
        "list = [1,2,3,4]\n",
        "print(list)"
      ],
      "metadata": {
        "colab": {
          "base_uri": "https://localhost:8080/"
        },
        "id": "BZkMNsLhh-Mk",
        "outputId": "e494584d-061a-4bcb-fd0c-ea04626b2710"
      },
      "execution_count": 9,
      "outputs": [
        {
          "output_type": "stream",
          "name": "stdout",
          "text": [
            "[1, 2, 3, 4]\n"
          ]
        }
      ]
    },
    {
      "cell_type": "markdown",
      "source": [
        "4. What happens if you try to access spam[&#39;foo&#39;] if spam is {&#39;bar&#39;: 100}?\n",
        "- if you try to access 'spam['foo']' where 'spam' is '{'bar':100}' , it will raise a 'keyerror' because the key 'foo' does not exist in the dictionary 'spam'."
      ],
      "metadata": {
        "id": "jDauKxzriSS5"
      }
    },
    {
      "cell_type": "code",
      "source": [
        "spam = {'bar':100}\n",
        "value = spam['foo']"
      ],
      "metadata": {
        "colab": {
          "base_uri": "https://localhost:8080/",
          "height": 182
        },
        "id": "YlTo51fxiWYV",
        "outputId": "a88874fb-0a94-45bb-ea53-5a0ce542c672"
      },
      "execution_count": 10,
      "outputs": [
        {
          "output_type": "error",
          "ename": "KeyError",
          "evalue": "ignored",
          "traceback": [
            "\u001b[0;31m---------------------------------------------------------------------------\u001b[0m",
            "\u001b[0;31mKeyError\u001b[0m                                  Traceback (most recent call last)",
            "\u001b[0;32m<ipython-input-10-120c5888198b>\u001b[0m in \u001b[0;36m<cell line: 2>\u001b[0;34m()\u001b[0m\n\u001b[1;32m      1\u001b[0m \u001b[0mspam\u001b[0m \u001b[0;34m=\u001b[0m \u001b[0;34m{\u001b[0m\u001b[0;34m'bar'\u001b[0m\u001b[0;34m:\u001b[0m\u001b[0;36m100\u001b[0m\u001b[0;34m}\u001b[0m\u001b[0;34m\u001b[0m\u001b[0;34m\u001b[0m\u001b[0m\n\u001b[0;32m----> 2\u001b[0;31m \u001b[0mvalue\u001b[0m \u001b[0;34m=\u001b[0m \u001b[0mspam\u001b[0m\u001b[0;34m[\u001b[0m\u001b[0;34m'foo'\u001b[0m\u001b[0;34m]\u001b[0m\u001b[0;34m\u001b[0m\u001b[0;34m\u001b[0m\u001b[0m\n\u001b[0m",
            "\u001b[0;31mKeyError\u001b[0m: 'foo'"
          ]
        }
      ]
    },
    {
      "cell_type": "markdown",
      "source": [
        "5. If a dictionary is stored in spam, what is the difference between the expressions &#39;cat&#39; in spam and\n",
        "&#39;cat&#39; in spam.keys()?\n",
        "\n",
        "- In Python, when you have a dictionary stored in the variable spam, the expression 'cat' in spam checks whether the key 'cat' exists in the dictionary. It returns True if the key is present and False otherwise.\n",
        "\n",
        "On the other hand, the expression 'cat' in spam.keys() checks whether the key 'cat' is present in the list of keys of the spam dictionary. It returns True if the key is present in the dictionary's keys and False otherwise.\n",
        "\n",
        "In summary, 'cat' in spam checks if 'cat' is a key in the dictionary spam, while 'cat' in spam.keys() checks if 'cat' is a key among the keys of the spam dictionary. The two expressions will return the same result in most cases since spam.keys() returns a view object that represents the keys of the dictionary."
      ],
      "metadata": {
        "id": "EcmjGieKqjcI"
      }
    },
    {
      "cell_type": "markdown",
      "source": [
        "6. If a dictionary is stored in spam, what is the difference between the expressions &#39;cat&#39; in spam and\n",
        "&#39;cat&#39; in spam.values()?\n",
        "- If a dictionary is stored in the variable spam, the expressions 'cat' in spam and 'cat' in spam.values() have different meanings and purposes:\n",
        "\n",
        "1. 'cat' in spam: This expression checks if the key 'cat' exists in the dictionary spam. It evaluates to True if the key is present as a key in the dictionary, and False otherwise. It specifically checks for the presence of the key in the dictionary's keys, not the values.\n",
        "\n",
        "2. 'cat' in spam.values(): This expression checks if the value 'cat' exists in any of the values of the dictionary spam. It evaluates to True if the value is found in any of the dictionary's values, and False otherwise. It specifically checks for the presence of the value in the dictionary's values, not the keys.\n",
        "\n",
        "To summarize, 'cat' in spam checks if 'cat' is a key in the dictionary, while 'cat' in spam.values() checks if 'cat' is a value in the dictionary. The former checks for the existence of a key, while the latter checks for the existence of a value."
      ],
      "metadata": {
        "id": "UC9pXQUtnzuw"
      }
    },
    {
      "cell_type": "markdown",
      "source": [
        "7. What is a shortcut for the following code?\n",
        "if &#39;color&#39; not in spam:\n",
        "spam[&#39;color&#39;] = &#39;black&#39;"
      ],
      "metadata": {
        "id": "56M5Ibz_nuby"
      }
    },
    {
      "cell_type": "code",
      "source": [
        "spam.setdefault('colour','black')"
      ],
      "metadata": {
        "colab": {
          "base_uri": "https://localhost:8080/",
          "height": 36
        },
        "id": "csx3jfcrnewO",
        "outputId": "bf3ab3e4-7576-4730-c8db-ec09fb6855d4"
      },
      "execution_count": 11,
      "outputs": [
        {
          "output_type": "execute_result",
          "data": {
            "text/plain": [
              "'black'"
            ],
            "application/vnd.google.colaboratory.intrinsic+json": {
              "type": "string"
            }
          },
          "metadata": {},
          "execution_count": 11
        }
      ]
    },
    {
      "cell_type": "markdown",
      "source": [
        "8. How do you &quot;pretty print&quot; dictionary values using which module and function?\n",
        "- To \"pretty print\" dictionary values in Python, you can use the pprint module and its pprint function. Here's how you can use it:\n",
        "\n",
        "- The pprint.pprint() function will display the dictionary in a formatted and readable way, with each key-value pair on a separate line and appropriate indentation. It also handles nested dictionaries and other complex data structures nicely.\n"
      ],
      "metadata": {
        "id": "cU7mD-XDntWN"
      }
    },
    {
      "cell_type": "code",
      "source": [
        "import pprint\n",
        "\n",
        "my_dict = {\n",
        "    'key1':'value1',\n",
        "    'key2':'value2',\n",
        "    'key3':'value3'\n",
        "\n",
        "}\n",
        "\n",
        "pprint.pprint(my_dict)"
      ],
      "metadata": {
        "colab": {
          "base_uri": "https://localhost:8080/"
        },
        "id": "9zmBiq8FrTCt",
        "outputId": "b84e3a97-9d50-42d5-81f0-452b6635889b"
      },
      "execution_count": 13,
      "outputs": [
        {
          "output_type": "stream",
          "name": "stdout",
          "text": [
            "{'key1': 'value1', 'key2': 'value2', 'key3': 'value3'}\n"
          ]
        }
      ]
    }
  ]
}