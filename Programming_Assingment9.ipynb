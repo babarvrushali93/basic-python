{
  "nbformat": 4,
  "nbformat_minor": 0,
  "metadata": {
    "colab": {
      "provenance": []
    },
    "kernelspec": {
      "name": "python3",
      "display_name": "Python 3"
    },
    "language_info": {
      "name": "python"
    }
  },
  "cells": [
    {
      "cell_type": "markdown",
      "source": [
        "1. Write a Python program to check if the given number is a Disarium Number?"
      ],
      "metadata": {
        "id": "DdP4jINyfpNs"
      }
    },
    {
      "cell_type": "code",
      "source": [
        "Number = int(input(\"Enter the number to check Disarium number = \"))\n",
        "length = len(str(Number))\n",
        "Temp = Number\n",
        "Sum = 0\n",
        "rem = 0\n",
        "\n",
        "while Temp > 0:\n",
        "    rem = Temp % 10\n",
        "    Sum = Sum + int(rem**length)\n",
        "    Temp = Temp // 10\n",
        "    length = length - 1\n",
        "\n",
        "print(\"The Sum of the Digits = %d\" %Sum)\n",
        "\n",
        "if Sum == Number:\n",
        "    print(\"\\n%d is a Disarium Number.\" %Number)\n",
        "else:\n",
        "    print(\"%d is Not a Disarium Number.\" %Number)\n"
      ],
      "metadata": {
        "colab": {
          "base_uri": "https://localhost:8080/"
        },
        "id": "pH0X1tg3frgq",
        "outputId": "06ca8415-a30f-4076-dbb7-60011071d6d2"
      },
      "execution_count": 6,
      "outputs": [
        {
          "output_type": "stream",
          "name": "stdout",
          "text": [
            "Enter the number to check Disarium number = 175\n",
            "The Sum of the Digits = 175\n",
            "\n",
            "175 is a Disarium Number.\n"
          ]
        }
      ]
    },
    {
      "cell_type": "markdown",
      "source": [
        "2. Write a Python program to print all disarium numbers between 1 to 100?"
      ],
      "metadata": {
        "id": "2Z6ewd9ZifjS"
      }
    },
    {
      "cell_type": "code",
      "source": [
        "#calculateLength() will count the digits present in a number\n",
        "def calculateLength(n):\n",
        "    length = 0;\n",
        "    while(n != 0):\n",
        "        length = length + 1;\n",
        "        n = n//10;\n",
        "    return length;\n",
        "\n",
        "#sumOfDigits() will calculates the sum of digits powered with their respective position\n",
        "def sumOfDigits(num):\n",
        "    rem = sum = 0;\n",
        "    len = calculateLength(num);\n",
        "\n",
        "    while(num > 0):\n",
        "        rem = num%10;\n",
        "        sum = sum + (rem**len);\n",
        "        num = num//10;\n",
        "        len = len - 1;\n",
        "    return sum;\n",
        "\n",
        "result = 0;\n",
        "\n",
        "#Displays all disarium numbers between 1 and 100\n",
        "print(\"Disarium numbers between 1 and 100 are\");\n",
        "for i in range(1, 101):\n",
        "    result = sumOfDigits(i);\n",
        "\n",
        "    if(result == i):\n",
        "        print(i),"
      ],
      "metadata": {
        "colab": {
          "base_uri": "https://localhost:8080/"
        },
        "id": "0AlS7tqpjBSH",
        "outputId": "86fac2a2-300f-4fd1-fa45-5124157eadeb"
      },
      "execution_count": 7,
      "outputs": [
        {
          "output_type": "stream",
          "name": "stdout",
          "text": [
            "Disarium numbers between 1 and 100 are\n",
            "1\n",
            "2\n",
            "3\n",
            "4\n",
            "5\n",
            "6\n",
            "7\n",
            "8\n",
            "9\n",
            "89\n"
          ]
        }
      ]
    },
    {
      "cell_type": "markdown",
      "source": [
        "3. Write a Python program to check if the given number is Happy Number?"
      ],
      "metadata": {
        "id": "cuvTE6W7jaP1"
      }
    },
    {
      "cell_type": "code",
      "source": [
        "#isHappyNumber() will determine whether a number is happy or not\n",
        "def isHappyNumber(num):\n",
        "    rem = sum = 0;\n",
        "\n",
        "    #Calculates the sum of squares of digits\n",
        "    while(num > 0):\n",
        "        rem = num%10;\n",
        "        sum = sum + (rem*rem);\n",
        "        num = num//10;\n",
        "    return sum;\n",
        "\n",
        "num = 82;\n",
        "result = num;\n",
        "\n",
        "while(result != 1 and result != 4):\n",
        "    result = isHappyNumber(result);\n",
        "\n",
        "#Happy number always ends with 1\n",
        "if(result == 1):\n",
        "    print(str(num) + \" is a happy number\");\n",
        "#Unhappy number ends in a cycle of repeating numbers which contain 4\n",
        "elif(result == 4):\n",
        "    print(str(num) + \" is not a happy number\")"
      ],
      "metadata": {
        "colab": {
          "base_uri": "https://localhost:8080/"
        },
        "id": "X9OJdWWvjBmE",
        "outputId": "79639846-64fb-4444-b69e-655bcec0d5d6"
      },
      "execution_count": 8,
      "outputs": [
        {
          "output_type": "stream",
          "name": "stdout",
          "text": [
            "82 is a happy number\n"
          ]
        }
      ]
    },
    {
      "cell_type": "markdown",
      "source": [
        "4. Write a Python program to print all happy numbers between 1 and 100?"
      ],
      "metadata": {
        "id": "QWEvFKdhj7Ls"
      }
    },
    {
      "cell_type": "code",
      "source": [
        "#isHappyNumber() will determine whether a number is happy or not\n",
        "def isHappyNumber(num):\n",
        "    rem = sum = 0;\n",
        "\n",
        "    #Calculates the sum of squares of digits\n",
        "    while(num > 0):\n",
        "        rem = num%10;\n",
        "        sum = sum + (rem*rem);\n",
        "        num = num//10;\n",
        "    return sum;\n",
        "\n",
        "#Displays all happy numbers between 1 and 100\n",
        "print(\"List of happy numbers between 1 and 100: \");\n",
        "for i in range(1, 101):\n",
        "    result = i;\n",
        "\n",
        "    #Happy number always ends with 1 and\n",
        "    #unhappy number ends in a cycle of repeating numbers which contains 4\n",
        "    while(result != 1 and result != 4):\n",
        "        result = isHappyNumber(result);\n",
        "\n",
        "    if(result == 1):\n",
        "        print(i),\n",
        "        print(\" \"),"
      ],
      "metadata": {
        "colab": {
          "base_uri": "https://localhost:8080/"
        },
        "id": "x99ztWerkOzI",
        "outputId": "52fc8ce8-5075-42fb-90ca-cc69ee1dad9e"
      },
      "execution_count": 9,
      "outputs": [
        {
          "output_type": "stream",
          "name": "stdout",
          "text": [
            "List of happy numbers between 1 and 100: \n",
            "1\n",
            " \n",
            "7\n",
            " \n",
            "10\n",
            " \n",
            "13\n",
            " \n",
            "19\n",
            " \n",
            "23\n",
            " \n",
            "28\n",
            " \n",
            "31\n",
            " \n",
            "32\n",
            " \n",
            "44\n",
            " \n",
            "49\n",
            " \n",
            "68\n",
            " \n",
            "70\n",
            " \n",
            "79\n",
            " \n",
            "82\n",
            " \n",
            "86\n",
            " \n",
            "91\n",
            " \n",
            "94\n",
            " \n",
            "97\n",
            " \n",
            "100\n",
            " \n"
          ]
        }
      ]
    },
    {
      "cell_type": "markdown",
      "source": [
        "5. Write a Python program to determine whether the given number is a Harshad Number?"
      ],
      "metadata": {
        "id": "nxyTlE9ekVUd"
      }
    },
    {
      "cell_type": "code",
      "source": [
        "num = 156;\n",
        "rem = sum = 0;\n",
        "\n",
        "#Make a copy of num and store it in variable n\n",
        "n = num;\n",
        "\n",
        "#Calculates sum of digits\n",
        "while(num > 0):\n",
        "    rem = num%10;\n",
        "    sum = sum + rem;\n",
        "    num = num//10;\n",
        "\n",
        "#Checks whether the number is divisible by the sum of digits\n",
        "if(n%sum == 0):\n",
        "    print(str(n) + \" is a harshad number\");\n",
        "else:\n",
        "    print(str(n) + \" is not a harshad number\");"
      ],
      "metadata": {
        "colab": {
          "base_uri": "https://localhost:8080/"
        },
        "id": "AQfhD3CzkX3L",
        "outputId": "c1e8cb7b-0ac8-4ea8-f507-f07513827bd1"
      },
      "execution_count": 10,
      "outputs": [
        {
          "output_type": "stream",
          "name": "stdout",
          "text": [
            "156 is a harshad number\n"
          ]
        }
      ]
    },
    {
      "cell_type": "markdown",
      "source": [
        "6. Write a Python program to print all pronic numbers between 1 and 100?"
      ],
      "metadata": {
        "id": "9J4NxUYJk-qN"
      }
    },
    {
      "cell_type": "code",
      "source": [
        "#isPronicNumber() will determine whether a given number is a pronic number or not\n",
        "def isPronicNumber(num):\n",
        "    flag = False;\n",
        "\n",
        "    for j in range(1, num+1):\n",
        "        #Checks for pronic number by multiplying consecutive numbers\n",
        "        if((j*(j+1)) == num):\n",
        "            flag = True;\n",
        "            break;\n",
        "    return flag;\n",
        "\n",
        "#Displays pronic numbers between 1 and 100\n",
        "print(\"Pronic numbers between 1 and 100: \");\n",
        "for i in range(1, 101):\n",
        "    if(isPronicNumber(i)):\n",
        "        print(i),\n",
        "        print(\" \"),"
      ],
      "metadata": {
        "colab": {
          "base_uri": "https://localhost:8080/"
        },
        "id": "Nrs0ZEezk9uR",
        "outputId": "b9854096-c32f-4736-b558-e825ac02d924"
      },
      "execution_count": 11,
      "outputs": [
        {
          "output_type": "stream",
          "name": "stdout",
          "text": [
            "Pronic numbers between 1 and 100: \n",
            "2\n",
            " \n",
            "6\n",
            " \n",
            "12\n",
            " \n",
            "20\n",
            " \n",
            "30\n",
            " \n",
            "42\n",
            " \n",
            "56\n",
            " \n",
            "72\n",
            " \n",
            "90\n",
            " \n"
          ]
        }
      ]
    }
  ]
}