{
  "nbformat": 4,
  "nbformat_minor": 0,
  "metadata": {
    "colab": {
      "provenance": []
    },
    "kernelspec": {
      "name": "python3",
      "display_name": "Python 3"
    },
    "language_info": {
      "name": "python"
    }
  },
  "cells": [
    {
      "cell_type": "markdown",
      "source": [
        "1. Write a Python Program to Display Fibonacci Sequence Using Recursion?"
      ],
      "metadata": {
        "id": "I_dlg6cSnsYX"
      }
    },
    {
      "cell_type": "code",
      "source": [
        "# Python program to display the Fibonacci sequence\n",
        "\n",
        "def recur_fibo(n):\n",
        "   if n <= 1:\n",
        "       return n\n",
        "   else:\n",
        "       return(recur_fibo(n-1) + recur_fibo(n-2))\n",
        "\n",
        "nterms = 10\n",
        "\n",
        "# check if the number of terms is valid\n",
        "if nterms <= 0:\n",
        "   print(\"Plese enter a positive integer\")\n",
        "else:\n",
        "   print(\"Fibonacci sequence:\")\n",
        "   for i in range(nterms):\n",
        "       print(recur_fibo(i))\n"
      ],
      "metadata": {
        "colab": {
          "base_uri": "https://localhost:8080/"
        },
        "id": "1uN0SL-WnwRy",
        "outputId": "479ca38f-8d61-4d98-d468-eb92b224696c"
      },
      "execution_count": 2,
      "outputs": [
        {
          "output_type": "stream",
          "name": "stdout",
          "text": [
            "Fibonacci sequence:\n",
            "0\n",
            "1\n",
            "1\n",
            "2\n",
            "3\n",
            "5\n",
            "8\n",
            "13\n",
            "21\n",
            "34\n"
          ]
        }
      ]
    },
    {
      "cell_type": "markdown",
      "source": [
        "2. Write a Python Program to Find Factorial of Number Using Recursion?"
      ],
      "metadata": {
        "id": "jq2Z4eoroH5l"
      }
    },
    {
      "cell_type": "code",
      "source": [
        "# Python Program to find the factors of a number\n",
        "\n",
        "# This function computes the factor of the argument passed\n",
        "def print_factors(x):\n",
        "   print(\"The factors of\",x,\"are:\")\n",
        "   for i in range(1, x + 1):\n",
        "       if x % i == 0:\n",
        "           print(i)\n",
        "\n",
        "num = 320\n",
        "\n",
        "print_factors(num)\n"
      ],
      "metadata": {
        "colab": {
          "base_uri": "https://localhost:8080/"
        },
        "id": "jCvlLnPVoMIX",
        "outputId": "739f07db-bc3e-4ace-965a-531c85b8096a"
      },
      "execution_count": 1,
      "outputs": [
        {
          "output_type": "stream",
          "name": "stdout",
          "text": [
            "The factors of 320 are:\n",
            "1\n",
            "2\n",
            "4\n",
            "5\n",
            "8\n",
            "10\n",
            "16\n",
            "20\n",
            "32\n",
            "40\n",
            "64\n",
            "80\n",
            "160\n",
            "320\n"
          ]
        }
      ]
    },
    {
      "cell_type": "markdown",
      "source": [
        "3. Write a Python Program to calculate your Body Mass Index?"
      ],
      "metadata": {
        "id": "vPddNAAIoeNp"
      }
    },
    {
      "cell_type": "code",
      "source": [
        "height = float(input(\"Input your height in Feet: \"))\n",
        "weight = float(input(\"Input your weight in Kilogram: \"))\n",
        "print(\"Your body mass index is: \", round(weight / (height * height), 2))\n"
      ],
      "metadata": {
        "colab": {
          "base_uri": "https://localhost:8080/"
        },
        "id": "vnYAURiWoi0I",
        "outputId": "5c36fbb1-61b9-4164-a9c2-cf1f181b873c"
      },
      "execution_count": 3,
      "outputs": [
        {
          "output_type": "stream",
          "name": "stdout",
          "text": [
            "Input your height in Feet: 6\n",
            "Input your weight in Kilogram: 65\n",
            "Your body mass index is:  1.81\n"
          ]
        }
      ]
    },
    {
      "cell_type": "markdown",
      "source": [
        "4. Write a Python Program to calculate the natural logarithm of any number?"
      ],
      "metadata": {
        "id": "3RXRpvd-o_Zt"
      }
    },
    {
      "cell_type": "code",
      "source": [
        "import math\n",
        "\n",
        "number = int(input(\"Enter the number: \"))\n",
        "\n",
        "ans = math.log(number)\n",
        "\n",
        "print(\"The value is:\",ans)"
      ],
      "metadata": {
        "colab": {
          "base_uri": "https://localhost:8080/"
        },
        "id": "xGt1ca7LpL9e",
        "outputId": "94c8f960-0e70-4a05-d1b9-1a8ee5edecd4"
      },
      "execution_count": 4,
      "outputs": [
        {
          "output_type": "stream",
          "name": "stdout",
          "text": [
            "Enter the number: 5\n",
            "The value is: 1.6094379124341003\n"
          ]
        }
      ]
    },
    {
      "cell_type": "markdown",
      "source": [
        "5. Write a Python Program for cube sum of first n natural numbers?"
      ],
      "metadata": {
        "id": "7_m2m1x_pQaF"
      }
    },
    {
      "cell_type": "code",
      "source": [
        "# Simple Python program to find sum of series\n",
        "# with cubes of first n natural numbers\n",
        "\n",
        "# Returns the sum of series\n",
        "def sumOfSeries(n):\n",
        "    sum = 0\n",
        "    for i in range(1, n+1):\n",
        "        sum +=pow(i,3)\n",
        "\n",
        "    return sum\n",
        "\n",
        "\n",
        "# Driver Function\n",
        "n = 5\n",
        "print(sumOfSeries(n))\n",
        ""
      ],
      "metadata": {
        "colab": {
          "base_uri": "https://localhost:8080/"
        },
        "id": "WN7B50piq5eN",
        "outputId": "4cf17e41-c3f4-4a90-ae91-74b6b294450f"
      },
      "execution_count": 12,
      "outputs": [
        {
          "output_type": "stream",
          "name": "stdout",
          "text": [
            "225\n"
          ]
        }
      ]
    }
  ]
}