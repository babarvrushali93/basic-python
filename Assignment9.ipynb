{
  "nbformat": 4,
  "nbformat_minor": 0,
  "metadata": {
    "colab": {
      "provenance": []
    },
    "kernelspec": {
      "name": "python3",
      "display_name": "Python 3"
    },
    "language_info": {
      "name": "python"
    }
  },
  "cells": [
    {
      "cell_type": "markdown",
      "source": [
        "1.To what does a relative path refer?\n",
        "\n",
        "Answer -\n",
        "\n",
        "Relative paths are relative to the current working directory."
      ],
      "metadata": {
        "id": "_l_p1YuK1u0G"
      }
    },
    {
      "cell_type": "markdown",
      "source": [
        "2.What does an absolute path start with your operating system?\n",
        "\n",
        "Answer -\n",
        "\n",
        "Absolute paths start with the root folder, such as / or C:. An absolute path always contains the root elements and the complete list of directories to locate the specific file or folder. All the information required to locate the file or folder is available in the absolute path."
      ],
      "metadata": {
        "id": "lmHY9Wvb12Qf"
      }
    },
    {
      "cell_type": "markdown",
      "source": [
        "3.What do the functions os.getcwd() and os.chdir() do?\n",
        "\n",
        "Answer -\n",
        "\n",
        "The os.getcwd() function returns the current working directory. The os.chdir() function changes the current working directory."
      ],
      "metadata": {
        "id": "A_ZakZEx199g"
      }
    },
    {
      "cell_type": "markdown",
      "source": [
        "4.What are the . and .. folders?\n",
        "\n",
        "Answer -\n",
        "\n",
        "The . folder is the current folder, and .. is the parent folder."
      ],
      "metadata": {
        "id": "uic3i81q2J8w"
      }
    },
    {
      "cell_type": "markdown",
      "source": [
        "5.In C:\\bacon\\eggs\\spam.txt, which part is the dir name, and which part is the base name?\n",
        "\n",
        "Answer -\n",
        "\n",
        "C:\\bacon\\eggs is the dir name, while spam.txt is the base name."
      ],
      "metadata": {
        "id": "9LdGsgSM2Vcr"
      }
    },
    {
      "cell_type": "markdown",
      "source": [
        "6.What are the three “mode” arguments that can be passed to the open() function?\n",
        "\n",
        "Answer -\n",
        "\n",
        "The string 'r' for read mode, 'w' for write mode, and 'a' for append mode"
      ],
      "metadata": {
        "id": "CU7_sxkB2kyA"
      }
    },
    {
      "cell_type": "markdown",
      "source": [
        "7.What happens if an existing file is opened in write mode?\n",
        "\n",
        "Answer -\n",
        "\n",
        "An existing file opened in write mode is erased and completely overwritten."
      ],
      "metadata": {
        "id": "Vbh5g0Xo2zhl"
      }
    },
    {
      "cell_type": "markdown",
      "source": [
        "8.How do you tell the difference between read() and readlines()?\n",
        "\n",
        "Answer -\n",
        "\n",
        "The read() method returns the file's entire contents as a single string value. The readlines() method returns a list of strings, where each string is a line from the file's contents."
      ],
      "metadata": {
        "id": "F0SYcTzr3UZd"
      }
    },
    {
      "cell_type": "markdown",
      "source": [
        "9.What data structure does a shelf value resemble?\n",
        "\n",
        "Answer -\n",
        "\n",
        "A shelf value resembles a dictionary value; it has keys and values, along with keys() and values() methods that work similarly to the dictionary methods of the same names."
      ],
      "metadata": {
        "id": "1t5A5T6V3e6o"
      }
    }
  ]
}