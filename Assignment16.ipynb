{
  "nbformat": 4,
  "nbformat_minor": 0,
  "metadata": {
    "colab": {
      "provenance": []
    },
    "kernelspec": {
      "name": "python3",
      "display_name": "Python 3"
    },
    "language_info": {
      "name": "python"
    }
  },
  "cells": [
    {
      "cell_type": "markdown",
      "source": [
        "1.Create a list called years_list, starting with the year of your birth, and each year thereafter until the year of your fifth birthday. For example, if you were born in 1980. the list would be years_list = [1980, 1981, 1982, 1983, 1984, 1985].\n",
        "\n",
        "Answer -"
      ],
      "metadata": {
        "id": "0vf5KJdf69_W"
      }
    },
    {
      "cell_type": "code",
      "source": [
        "years_list = [1998,1999,2000,2001,2002,2003]"
      ],
      "metadata": {
        "id": "PaUIGaqg7Hxb"
      },
      "execution_count": 1,
      "outputs": []
    },
    {
      "cell_type": "markdown",
      "source": [
        "2.In which year in years_list was your third birthday? Remember, you were 0 years of age for your first year.\n",
        "\n",
        "Answer -"
      ],
      "metadata": {
        "id": "lXkEagyj7Vxp"
      }
    },
    {
      "cell_type": "code",
      "source": [
        "years_list[2]"
      ],
      "metadata": {
        "colab": {
          "base_uri": "https://localhost:8080/"
        },
        "id": "Evm0cYiX7j3L",
        "outputId": "4b367793-dec6-4a58-e5a8-a3527279ddc4"
      },
      "execution_count": 2,
      "outputs": [
        {
          "output_type": "execute_result",
          "data": {
            "text/plain": [
              "2000"
            ]
          },
          "metadata": {},
          "execution_count": 2
        }
      ]
    },
    {
      "cell_type": "markdown",
      "source": [
        "3.In the years list, which year were you the oldest?\n",
        "\n",
        " Answer -"
      ],
      "metadata": {
        "id": "4bwoQA8K7vU0"
      }
    },
    {
      "cell_type": "code",
      "source": [
        "years_list[-1]"
      ],
      "metadata": {
        "colab": {
          "base_uri": "https://localhost:8080/"
        },
        "id": "sVnodyHO7wYJ",
        "outputId": "55e8cdd4-885e-403d-f64c-7eb7395aed86"
      },
      "execution_count": 4,
      "outputs": [
        {
          "output_type": "execute_result",
          "data": {
            "text/plain": [
              "2003"
            ]
          },
          "metadata": {},
          "execution_count": 4
        }
      ]
    },
    {
      "cell_type": "markdown",
      "source": [
        "4.Make a list called things with these three strings as elements: \"mozzarella\", \"cinderella\", \"salmonella\".\n",
        "\n",
        "Answer -"
      ],
      "metadata": {
        "id": "Uuch1Rfd7757"
      }
    },
    {
      "cell_type": "code",
      "source": [
        "things = [\"mozzarella\", \"cinderella\", \"salmonella\"]\n",
        "things"
      ],
      "metadata": {
        "colab": {
          "base_uri": "https://localhost:8080/"
        },
        "id": "Twcn9lTA8G_L",
        "outputId": "a34d6b05-2b5a-49dc-d67e-99a7eef1da2a"
      },
      "execution_count": 5,
      "outputs": [
        {
          "output_type": "execute_result",
          "data": {
            "text/plain": [
              "['mozzarella', 'cinderella', 'salmonella']"
            ]
          },
          "metadata": {},
          "execution_count": 5
        }
      ]
    },
    {
      "cell_type": "markdown",
      "source": [
        "5.Capitalize the element in things that refers to a person and then print the list. Did it change the element in the list?\n",
        "\n",
        "Answer -\n",
        "\n",
        "This capitalizes the word, but doesn’t change it in the list:"
      ],
      "metadata": {
        "id": "VFkpYJGh8RHA"
      }
    },
    {
      "cell_type": "code",
      "source": [
        "things_cap = things.copy()\n",
        "things_cap[1].capitalize()"
      ],
      "metadata": {
        "colab": {
          "base_uri": "https://localhost:8080/",
          "height": 36
        },
        "id": "OrVgPFQu8bSy",
        "outputId": "4b191c20-d475-4086-8e6d-7816ef1db1eb"
      },
      "execution_count": 6,
      "outputs": [
        {
          "output_type": "execute_result",
          "data": {
            "text/plain": [
              "'Cinderella'"
            ],
            "application/vnd.google.colaboratory.intrinsic+json": {
              "type": "string"
            }
          },
          "metadata": {},
          "execution_count": 6
        }
      ]
    },
    {
      "cell_type": "code",
      "source": [
        "things_cap"
      ],
      "metadata": {
        "colab": {
          "base_uri": "https://localhost:8080/"
        },
        "id": "jYB4MpMu8kUW",
        "outputId": "9598d638-c995-4688-b3b7-86fe49ffd00a"
      },
      "execution_count": 7,
      "outputs": [
        {
          "output_type": "execute_result",
          "data": {
            "text/plain": [
              "['mozzarella', 'cinderella', 'salmonella']"
            ]
          },
          "metadata": {},
          "execution_count": 7
        }
      ]
    },
    {
      "cell_type": "markdown",
      "source": [
        "6.Make a surprise list with the elements \"Groucho,\" \"Chico,\" and \"Harpo.\"\n",
        "\n",
        "Answer -"
      ],
      "metadata": {
        "id": "1JLHOGlh8swh"
      }
    },
    {
      "cell_type": "code",
      "source": [
        "surprise = ['Groucho', 'Chico', 'Harpo']\n",
        "surprise"
      ],
      "metadata": {
        "colab": {
          "base_uri": "https://localhost:8080/"
        },
        "id": "pQm2Ks9h9Air",
        "outputId": "e0872c65-9ef6-4cc4-b30b-357dee0f5106"
      },
      "execution_count": 11,
      "outputs": [
        {
          "output_type": "execute_result",
          "data": {
            "text/plain": [
              "['Groucho', 'Chico', 'Harpo']"
            ]
          },
          "metadata": {},
          "execution_count": 11
        }
      ]
    },
    {
      "cell_type": "markdown",
      "source": [
        "7.Lowercase the last element of the surprise list, reverse it, and then capitalize it\n",
        "\n",
        "Answer -"
      ],
      "metadata": {
        "id": "RZYuTmWT9EUJ"
      }
    },
    {
      "cell_type": "code",
      "source": [
        "surprise[-1] = surprise[-1].lower()\n",
        "surprise[-1] = surprise[-1][::-1]\n",
        "surprise[-1].capitalize()"
      ],
      "metadata": {
        "colab": {
          "base_uri": "https://localhost:8080/",
          "height": 36
        },
        "id": "So9llYpQ9WE8",
        "outputId": "e824969b-0890-45a0-e8d6-f45f8baea652"
      },
      "execution_count": 12,
      "outputs": [
        {
          "output_type": "execute_result",
          "data": {
            "text/plain": [
              "'Oprah'"
            ],
            "application/vnd.google.colaboratory.intrinsic+json": {
              "type": "string"
            }
          },
          "metadata": {},
          "execution_count": 12
        }
      ]
    },
    {
      "cell_type": "markdown",
      "source": [
        "8.Make an English-to-French dictionary called e2f and print it. Here are your starter words: dog is chien, cat is chat, and walrus is morse.\n",
        "\n",
        "Answer -"
      ],
      "metadata": {
        "id": "XIqq6A6W9mXW"
      }
    },
    {
      "cell_type": "code",
      "source": [
        "e2f = {'dog': 'chien', 'cat': 'chat', 'walrus': 'morse'}\n",
        "e2f"
      ],
      "metadata": {
        "colab": {
          "base_uri": "https://localhost:8080/"
        },
        "id": "ZrbQMACb9n3p",
        "outputId": "e3c4dbf9-6015-4898-c43f-9dc0ed0be5ac"
      },
      "execution_count": 15,
      "outputs": [
        {
          "output_type": "execute_result",
          "data": {
            "text/plain": [
              "{'dog': 'chien', 'cat': 'chat', 'walrus': 'morse'}"
            ]
          },
          "metadata": {},
          "execution_count": 15
        }
      ]
    },
    {
      "cell_type": "markdown",
      "source": [
        "9.Write the French word for walrus in your three-word dictionary e2f.\n",
        "\n",
        "Answer -"
      ],
      "metadata": {
        "id": "QQWNe4lE9qum"
      }
    },
    {
      "cell_type": "code",
      "source": [
        "e2f['walrus']"
      ],
      "metadata": {
        "colab": {
          "base_uri": "https://localhost:8080/",
          "height": 36
        },
        "id": "qUK34vzG9yG-",
        "outputId": "d7233814-7c3e-4ccf-ca88-ede8f43b21dd"
      },
      "execution_count": 16,
      "outputs": [
        {
          "output_type": "execute_result",
          "data": {
            "text/plain": [
              "'morse'"
            ],
            "application/vnd.google.colaboratory.intrinsic+json": {
              "type": "string"
            }
          },
          "metadata": {},
          "execution_count": 16
        }
      ]
    },
    {
      "cell_type": "markdown",
      "source": [
        "10.Make a French-to-English dictionary called f2e from e2f. Use the items method.\n",
        "\n",
        "Answer -"
      ],
      "metadata": {
        "id": "dKLjzTyU9-_d"
      }
    },
    {
      "cell_type": "code",
      "source": [
        "f2e = {}\n",
        "for english, french in e2f.items():\n",
        " f2e[french] = english\n",
        "f2e"
      ],
      "metadata": {
        "colab": {
          "base_uri": "https://localhost:8080/"
        },
        "id": "JXLvgfgj-HGk",
        "outputId": "ab8d9632-f69e-4f90-9395-736b89dbd081"
      },
      "execution_count": 30,
      "outputs": [
        {
          "output_type": "execute_result",
          "data": {
            "text/plain": [
              "{'chien': 'dog', 'chat': 'cat', 'morse': 'walrus'}"
            ]
          },
          "metadata": {},
          "execution_count": 30
        }
      ]
    },
    {
      "cell_type": "markdown",
      "source": [
        "11.Print the English version of the French word chien using f2e.\n",
        "\n",
        "Answer -"
      ],
      "metadata": {
        "id": "99GiTACk95Z5"
      }
    },
    {
      "cell_type": "code",
      "source": [
        "f2e['chien']"
      ],
      "metadata": {
        "colab": {
          "base_uri": "https://localhost:8080/",
          "height": 36
        },
        "id": "t8kpBpvJ-6C7",
        "outputId": "abf03b22-5992-47e2-96fc-faa53789f72d"
      },
      "execution_count": 31,
      "outputs": [
        {
          "output_type": "execute_result",
          "data": {
            "text/plain": [
              "'dog'"
            ],
            "application/vnd.google.colaboratory.intrinsic+json": {
              "type": "string"
            }
          },
          "metadata": {},
          "execution_count": 31
        }
      ]
    },
    {
      "cell_type": "markdown",
      "source": [
        "12.Make and print a set of English words from the keys in e2f.\n",
        "\n",
        "Answer -"
      ],
      "metadata": {
        "id": "QJYqn1e4_HN0"
      }
    },
    {
      "cell_type": "code",
      "source": [
        "set(e2f.keys())"
      ],
      "metadata": {
        "colab": {
          "base_uri": "https://localhost:8080/"
        },
        "id": "HQWHroWl_PYc",
        "outputId": "f552d280-b1d2-4f4f-e0a0-b549b3a6c54d"
      },
      "execution_count": 32,
      "outputs": [
        {
          "output_type": "execute_result",
          "data": {
            "text/plain": [
              "{'cat', 'dog', 'walrus'}"
            ]
          },
          "metadata": {},
          "execution_count": 32
        }
      ]
    },
    {
      "cell_type": "markdown",
      "source": [
        "13.Make a multilevel dictionary called life. Use these strings for the topmost keys: 'animals', 'plants', and 'other'. Make the 'animals' key refer to another dictionary with the keys 'cats', 'octopi', and 'emus'. Make the 'cats' key refer to a list of strings with the values 'Henri', 'Grumpy', and 'Lucy'. Make all the other keys refer to empty dictionaries.\n",
        "\n",
        "Answer -"
      ],
      "metadata": {
        "id": "plj6D6BP_Wxb"
      }
    },
    {
      "cell_type": "code",
      "source": [
        "life = {'animals': {'cats': ['Henri', 'Grumpy', 'Lucy'],'octopi': {},'emus': {}},'plants': {},'other': {}}\n",
        "life"
      ],
      "metadata": {
        "colab": {
          "base_uri": "https://localhost:8080/"
        },
        "id": "z3fmK6-N_hHd",
        "outputId": "db1a8f44-e2c5-4755-e9cd-6330f977626d"
      },
      "execution_count": 33,
      "outputs": [
        {
          "output_type": "execute_result",
          "data": {
            "text/plain": [
              "{'animals': {'cats': ['Henri', 'Grumpy', 'Lucy'], 'octopi': {}, 'emus': {}},\n",
              " 'plants': {},\n",
              " 'other': {}}"
            ]
          },
          "metadata": {},
          "execution_count": 33
        }
      ]
    },
    {
      "cell_type": "markdown",
      "source": [
        "14.Print the top-level keys of life.\n",
        "\n",
        "Answer -"
      ],
      "metadata": {
        "id": "IxsV8sI1_zbi"
      }
    },
    {
      "cell_type": "code",
      "source": [
        "print(life.keys())"
      ],
      "metadata": {
        "colab": {
          "base_uri": "https://localhost:8080/"
        },
        "id": "USjcXYS2_09M",
        "outputId": "1c8389c6-708a-4982-f211-c1cf61905e18"
      },
      "execution_count": 34,
      "outputs": [
        {
          "output_type": "stream",
          "name": "stdout",
          "text": [
            "dict_keys(['animals', 'plants', 'other'])\n"
          ]
        }
      ]
    },
    {
      "cell_type": "markdown",
      "source": [
        "15.Print the keys for life['animals'].\n",
        "\n",
        "Answer -\n"
      ],
      "metadata": {
        "id": "jK0YqtvM_4da"
      }
    },
    {
      "cell_type": "code",
      "source": [
        "print(life['animals'].keys())"
      ],
      "metadata": {
        "colab": {
          "base_uri": "https://localhost:8080/"
        },
        "id": "TTrR1MUXABYS",
        "outputId": "8cc0cb7b-5404-404d-f9bd-dbb604d7f0c6"
      },
      "execution_count": 35,
      "outputs": [
        {
          "output_type": "stream",
          "name": "stdout",
          "text": [
            "dict_keys(['cats', 'octopi', 'emus'])\n"
          ]
        }
      ]
    },
    {
      "cell_type": "markdown",
      "source": [
        "16.Print the values for life['animals']['cats']\n",
        "\n",
        "Answer -"
      ],
      "metadata": {
        "id": "roWcrlRxAJBA"
      }
    },
    {
      "cell_type": "code",
      "source": [
        "print(life['animals']['cats'])"
      ],
      "metadata": {
        "colab": {
          "base_uri": "https://localhost:8080/"
        },
        "id": "kXZxWj4MAPvN",
        "outputId": "4cd5ae8b-e81c-4c0d-a0db-848b0d5c5400"
      },
      "execution_count": 36,
      "outputs": [
        {
          "output_type": "stream",
          "name": "stdout",
          "text": [
            "['Henri', 'Grumpy', 'Lucy']\n"
          ]
        }
      ]
    }
  ]
}