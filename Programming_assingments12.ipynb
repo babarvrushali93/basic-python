{
  "nbformat": 4,
  "nbformat_minor": 0,
  "metadata": {
    "colab": {
      "provenance": []
    },
    "kernelspec": {
      "name": "python3",
      "display_name": "Python 3"
    },
    "language_info": {
      "name": "python"
    }
  },
  "cells": [
    {
      "cell_type": "markdown",
      "source": [
        "1. Write a Python program to Extract Unique values dictionary values?"
      ],
      "metadata": {
        "id": "ufqYlaxj3Bwr"
      }
    },
    {
      "cell_type": "code",
      "source": [
        "dict1 = {'A' : [1,3,5,4],\n",
        "             'B' : [4,6,8,10],\n",
        "             'c':[6,12,4,8],\n",
        "             'D' : [5,7,2]}\n",
        "\n",
        "print(\"The original dictionary is : \" , dict1)\n",
        "\n",
        "# using list compresension , values() and sorted()\n",
        "res = list(sorted({ele for val in dict1.values() for ele in val}))\n",
        "\n",
        "# print result\n",
        "print(\"The unique values list is : \" , res)"
      ],
      "metadata": {
        "colab": {
          "base_uri": "https://localhost:8080/"
        },
        "id": "JFmZpAnG3C1o",
        "outputId": "cb5534d8-51f6-4080-9b47-c033ea5494f3"
      },
      "execution_count": 1,
      "outputs": [
        {
          "output_type": "stream",
          "name": "stdout",
          "text": [
            "The original dictionary is :  {'A': [1, 3, 5, 4], 'B': [4, 6, 8, 10], 'c': [6, 12, 4, 8], 'D': [5, 7, 2]}\n",
            "The unique values list is :  [1, 2, 3, 4, 5, 6, 7, 8, 10, 12]\n"
          ]
        }
      ]
    },
    {
      "cell_type": "markdown",
      "source": [
        "2. Write a Python program to find the sum of all items in a dictionary?"
      ],
      "metadata": {
        "id": "KUfFPpFb9sx-"
      }
    },
    {
      "cell_type": "code",
      "source": [
        "# sum of values in dictionary\n",
        "#initialisation\n",
        "dic={ 'x':455, 'y':223, 'z':300,'p':908}\n",
        "\n",
        "print(\"Dictionary:\", dic)\n",
        "\n",
        "#using sum() and values()\n",
        "print(\"sum: \",sum(dic.values()))"
      ],
      "metadata": {
        "colab": {
          "base_uri": "https://localhost:8080/"
        },
        "id": "hDP-XlZ-96ba",
        "outputId": "5287c482-6efe-4d6a-960e-af012822cdc1"
      },
      "execution_count": 2,
      "outputs": [
        {
          "output_type": "stream",
          "name": "stdout",
          "text": [
            "Dictionary: {'x': 455, 'y': 223, 'z': 300, 'p': 908}\n",
            "sum:  1886\n"
          ]
        }
      ]
    },
    {
      "cell_type": "markdown",
      "source": [
        "3. Write a Python program to Merging two Dictionaries?"
      ],
      "metadata": {
        "id": "tLhKOnDP_efT"
      }
    },
    {
      "cell_type": "code",
      "source": [
        "dic1= {'x': 3, 'y' : 8, 'z': 5 }\n",
        "dic2= {1: 8, 'x': 4, 2: 6}\n",
        "\n",
        "merge_dic= {**dic1,**dic2}\n",
        "\n",
        "print(\"MERGED: \" , merge_dic)\n",
        "\n"
      ],
      "metadata": {
        "colab": {
          "base_uri": "https://localhost:8080/"
        },
        "id": "UbBFFLhvAV6M",
        "outputId": "0d64e01c-2ad8-44d0-c290-ac816ae5d014"
      },
      "execution_count": 3,
      "outputs": [
        {
          "output_type": "stream",
          "name": "stdout",
          "text": [
            "MERGED:  {'x': 4, 'y': 8, 'z': 5, 1: 8, 2: 6}\n"
          ]
        }
      ]
    },
    {
      "cell_type": "markdown",
      "source": [
        "4. Write a Python program to convert key-values list to flat dictionary?"
      ],
      "metadata": {
        "id": "gOd9nyCyAej_"
      }
    },
    {
      "cell_type": "code",
      "source": [
        "dic= {\"day\": [1,2,3], \"name\":['Mon','Tues','wed' ] }\n",
        "print(\"Original dictionary: \",dic)\n",
        "\n",
        "\n",
        "# convert to flat dictionary\n",
        "\n",
        "f_dic= dict(zip(dic[\"day\"], dic[\"name\"]))\n",
        "print(\"FLATTENED DICTIONARY: \",f_dic)"
      ],
      "metadata": {
        "colab": {
          "base_uri": "https://localhost:8080/"
        },
        "id": "DQBxdJPJA48R",
        "outputId": "21a46a8e-deae-402d-aeda-30118228b525"
      },
      "execution_count": 5,
      "outputs": [
        {
          "output_type": "stream",
          "name": "stdout",
          "text": [
            "Original dictionary:  {'day': [1, 2, 3], 'name': ['Mon', 'Tues', 'wed']}\n",
            "FLATTENED DICTIONARY:  {1: 'Mon', 2: 'Tues', 3: 'wed'}\n"
          ]
        }
      ]
    },
    {
      "cell_type": "markdown",
      "source": [
        "5. Write a Python program to insertion at the beginning in OrderedDict?"
      ],
      "metadata": {
        "id": "6JD8oVe3DRM6"
      }
    },
    {
      "cell_type": "code",
      "source": [
        "from collections import OrderedDict\n",
        "dic1 = OrderedDict([('A','100'),('B','200'),('C', '300')])\n",
        "insrt = OrderedDict([(\"D\",'400')])\n",
        "\n",
        "\n",
        "final = OrderedDict(list(insrt.items()) + list(dict1.items()))\n",
        "\n",
        "\n",
        "#print result\n",
        "print(\"Resulatent Dictionary :\" , final)"
      ],
      "metadata": {
        "colab": {
          "base_uri": "https://localhost:8080/"
        },
        "id": "yi1bw3gnDSOk",
        "outputId": "bfbfa25e-7889-4fe3-9fd2-712ea07816d8"
      },
      "execution_count": 6,
      "outputs": [
        {
          "output_type": "stream",
          "name": "stdout",
          "text": [
            "Resulatent Dictionary : OrderedDict([('D', [5, 7, 2]), ('A', [1, 3, 5, 4]), ('B', [4, 6, 8, 10]), ('c', [6, 12, 4, 8])])\n"
          ]
        }
      ]
    },
    {
      "cell_type": "markdown",
      "source": [
        "6. Write a Python program to check order of character in string using OrderedDict()?"
      ],
      "metadata": {
        "id": "4AThtH4gFf6D"
      }
    },
    {
      "cell_type": "code",
      "source": [
        "from collections import OrderedDict\n",
        "def checkOrder(string, pattern):\n",
        "    dic = OrderedDict.fromkeys(string)\n",
        "    ptr = 0\n",
        "    for key,value in dic.items():\n",
        "        if (key == pattern[ptr]):\n",
        "            ptr = ptr + 1\n",
        "        if (ptr == (len(pattern))):\n",
        "            return 'True'\n",
        "    return 'False'\n",
        "\n",
        "string = 'Study tonight'\n",
        "pattern = 'stu'\n",
        "print (checkOrder(string,pattern))\n",
        "\n",
        "string2= 'Welcome'\n",
        "pattern2= 'cm'\n",
        "print (checkOrder(string2,pattern2))"
      ],
      "metadata": {
        "colab": {
          "base_uri": "https://localhost:8080/"
        },
        "id": "rLj9trRPK41i",
        "outputId": "8459cc0e-076a-4f72-c2d8-61bd19cd31fd"
      },
      "execution_count": 9,
      "outputs": [
        {
          "output_type": "stream",
          "name": "stdout",
          "text": [
            "False\n",
            "True\n"
          ]
        }
      ]
    },
    {
      "cell_type": "markdown",
      "source": [
        "7. Write a Python program to sort Python Dictionaries by Key or Value?"
      ],
      "metadata": {
        "id": "f3HZDSynLSDf"
      }
    },
    {
      "cell_type": "code",
      "source": [
        "key_value={}\n",
        "\n",
        "key_value[5] = 10\n",
        "key_value[3] = 8\n",
        "key_value[6] = 77\n",
        "key_value[4] = 23\n",
        "key_value[2] = 9\n",
        "key_value[1] = 43\n",
        "\n",
        "print(\"sorting on the basis of keys\")\n",
        "\n",
        "for i in sorted(key_value) :\n",
        "    print ((i, key_value[i]), end =\" \")"
      ],
      "metadata": {
        "colab": {
          "base_uri": "https://localhost:8080/"
        },
        "id": "t6j-3-uOLUzM",
        "outputId": "efb8e4fb-4a27-4ad1-eb7e-de666a16059f"
      },
      "execution_count": 10,
      "outputs": [
        {
          "output_type": "stream",
          "name": "stdout",
          "text": [
            "sorting on the basis of keys\n",
            "(1, 43) (2, 9) (3, 8) (4, 23) (5, 10) (6, 77) "
          ]
        }
      ]
    }
  ]
}