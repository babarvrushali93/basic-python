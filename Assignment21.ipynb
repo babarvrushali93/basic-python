{
  "nbformat": 4,
  "nbformat_minor": 0,
  "metadata": {
    "colab": {
      "provenance": []
    },
    "kernelspec": {
      "name": "python3",
      "display_name": "Python 3"
    },
    "language_info": {
      "name": "python"
    }
  },
  "cells": [
    {
      "cell_type": "markdown",
      "source": [
        "1.Add the current date to the text file today.txt as a string.\n",
        "\n",
        "Answer -\n"
      ],
      "metadata": {
        "id": "DnWrrGAbQTuQ"
      }
    },
    {
      "cell_type": "code",
      "source": [
        "from datetime import date\n",
        "now = date.today()\n",
        "now_str = now.isoformat()\n",
        "with open('today.txt', 'wt') as output:\n",
        "    print(now_str, file=output)\n",
        "now_str"
      ],
      "metadata": {
        "colab": {
          "base_uri": "https://localhost:8080/",
          "height": 36
        },
        "id": "ID_ZW8yIQi3p",
        "outputId": "7b7807ff-06b1-43a3-a4c0-893d5f21dd40"
      },
      "execution_count": 7,
      "outputs": [
        {
          "output_type": "execute_result",
          "data": {
            "text/plain": [
              "'2023-06-29'"
            ],
            "application/vnd.google.colaboratory.intrinsic+json": {
              "type": "string"
            }
          },
          "metadata": {},
          "execution_count": 7
        }
      ]
    },
    {
      "cell_type": "markdown",
      "source": [
        "2.Read the text file today.txt into the string today_string\n",
        "\n",
        "Answer -"
      ],
      "metadata": {
        "id": "869nJirrQrqa"
      }
    },
    {
      "cell_type": "code",
      "source": [
        "with open('today.txt', 'rt') as input:\n",
        "    today_string = input.read()\n",
        "\n",
        "today_string"
      ],
      "metadata": {
        "colab": {
          "base_uri": "https://localhost:8080/",
          "height": 36
        },
        "id": "gZOA9j1VQzzd",
        "outputId": "1289a09c-57a4-4291-f68b-3c7f9257d20f"
      },
      "execution_count": 2,
      "outputs": [
        {
          "output_type": "execute_result",
          "data": {
            "text/plain": [
              "'2023-06-29\\n'"
            ],
            "application/vnd.google.colaboratory.intrinsic+json": {
              "type": "string"
            }
          },
          "metadata": {},
          "execution_count": 2
        }
      ]
    },
    {
      "cell_type": "markdown",
      "source": [
        "3.Parse the date from today_string.\n",
        "\n",
        "Answer -\n"
      ],
      "metadata": {
        "id": "E4Vy2dfPRAiC"
      }
    },
    {
      "cell_type": "code",
      "source": [
        "from datetime import datetime\n",
        "fmt = '%Y-%m-%d\\n'\n",
        "datetime.strptime(today_string, fmt)"
      ],
      "metadata": {
        "colab": {
          "base_uri": "https://localhost:8080/"
        },
        "id": "E8P6yM1fRIKd",
        "outputId": "55da5358-1c5b-4149-ecdf-1862217423f5"
      },
      "execution_count": 3,
      "outputs": [
        {
          "output_type": "execute_result",
          "data": {
            "text/plain": [
              "datetime.datetime(2023, 6, 29, 0, 0)"
            ]
          },
          "metadata": {},
          "execution_count": 3
        }
      ]
    },
    {
      "cell_type": "markdown",
      "source": [
        "4.List the files in your current directory\n",
        "\n",
        "Answer -"
      ],
      "metadata": {
        "id": "jDRjDx7FRQLO"
      }
    },
    {
      "cell_type": "code",
      "source": [
        "import os\n",
        "os.listdir('.')"
      ],
      "metadata": {
        "colab": {
          "base_uri": "https://localhost:8080/"
        },
        "id": "UYtXBWPlRRu8",
        "outputId": "a6a4042d-dceb-471d-9a14-00b87d651df8"
      },
      "execution_count": 4,
      "outputs": [
        {
          "output_type": "execute_result",
          "data": {
            "text/plain": [
              "['.config', 'today.txt', 'sample_data']"
            ]
          },
          "metadata": {},
          "execution_count": 4
        }
      ]
    },
    {
      "cell_type": "markdown",
      "source": [
        "5.Create a list of all of the files in your parent directory (minimum five files should be available).\n",
        "\n",
        "Answer -"
      ],
      "metadata": {
        "id": "MAGuNd-XRihQ"
      }
    },
    {
      "cell_type": "code",
      "source": [
        "os.listdir('..')"
      ],
      "metadata": {
        "colab": {
          "base_uri": "https://localhost:8080/"
        },
        "id": "gNWqx2jXRkmq",
        "outputId": "a1f45473-8a43-4a15-da03-b725dd786bfc"
      },
      "execution_count": 5,
      "outputs": [
        {
          "output_type": "execute_result",
          "data": {
            "text/plain": [
              "['opt',\n",
              " 'lib32',\n",
              " 'mnt',\n",
              " 'libx32',\n",
              " 'lib64',\n",
              " 'sbin',\n",
              " 'media',\n",
              " 'lib',\n",
              " 'boot',\n",
              " 'proc',\n",
              " 'dev',\n",
              " 'root',\n",
              " 'run',\n",
              " 'etc',\n",
              " 'srv',\n",
              " 'tmp',\n",
              " 'usr',\n",
              " 'var',\n",
              " 'sys',\n",
              " 'home',\n",
              " 'bin',\n",
              " 'content',\n",
              " '.dockerenv',\n",
              " 'tools',\n",
              " 'datalab',\n",
              " 'python-apt',\n",
              " 'NGC-DL-CONTAINER-LICENSE']"
            ]
          },
          "metadata": {},
          "execution_count": 5
        }
      ]
    },
    {
      "cell_type": "markdown",
      "source": [
        "6.Use multiprocessing to create three separate processes. Make each one wait a random number of seconds between one and five, print the current time, and then exit.\n",
        "\n",
        "Answer -"
      ],
      "metadata": {
        "id": "0iOHOqQjRxe5"
      }
    },
    {
      "cell_type": "code",
      "source": [
        "import multiprocessing\n",
        "\n",
        "def printsec(seconds):\n",
        "    from datetime import datetime\n",
        "    from time import sleep\n",
        "    sleep(seconds)\n",
        "    print('wait', seconds, 'seconds, time is', datetime.utcnow())\n",
        "\n",
        "if __name__ == '__main__':\n",
        "    import random\n",
        "    for n in range(3):\n",
        "        seconds = random.random()\n",
        "        proc = multiprocessing.Process(target=printsec, args=(seconds,))\n",
        "        proc.start()"
      ],
      "metadata": {
        "colab": {
          "base_uri": "https://localhost:8080/"
        },
        "id": "5BiojomVSfWI",
        "outputId": "cd71c244-d58e-45dd-e40c-5420fbd27637"
      },
      "execution_count": 8,
      "outputs": [
        {
          "output_type": "stream",
          "name": "stdout",
          "text": [
            "wait 0.23105036336186258 seconds, time is 2023-06-29 08:34:23.703165\n",
            "wait0.48842965970311625"
          ]
        }
      ]
    },
    {
      "cell_type": "code",
      "source": [
        "!python multi_process.py"
      ],
      "metadata": {
        "colab": {
          "base_uri": "https://localhost:8080/"
        },
        "id": "ByMdOloZYrqs",
        "outputId": "ea64f606-539f-4afb-887d-84e565232d00"
      },
      "execution_count": 29,
      "outputs": [
        {
          "output_type": "stream",
          "name": "stdout",
          "text": [
            "python3: can't open file '/content/multi_process.py': [Errno 2] No such file or directory\n"
          ]
        }
      ]
    },
    {
      "cell_type": "markdown",
      "source": [
        "7.Create a date object of your day of birth.\n",
        "\n",
        "Answer -\n",
        "\n"
      ],
      "metadata": {
        "id": "onrJIXSVTot3"
      }
    },
    {
      "cell_type": "code",
      "source": [
        "my_day = date(1996, 2, 10)\n",
        "my_day"
      ],
      "metadata": {
        "colab": {
          "base_uri": "https://localhost:8080/"
        },
        "id": "Vr4j6E-zTxhF",
        "outputId": "70efa21f-9cf5-48ac-930a-f3baa196c6e6"
      },
      "execution_count": 13,
      "outputs": [
        {
          "output_type": "execute_result",
          "data": {
            "text/plain": [
              "datetime.date(1996, 2, 10)"
            ]
          },
          "metadata": {},
          "execution_count": 13
        }
      ]
    },
    {
      "cell_type": "markdown",
      "source": [
        "8.What day of the week was your day of birth?\n",
        "\n",
        "Answer -\n",
        "\n",
        "With weekday(), Monday is 0 and Sunday is 6. With isoweekday(), Monday is 1 and\n",
        "\n",
        "Sunday is 7. Therefore, this date is a Saturday."
      ],
      "metadata": {
        "id": "hLixQZb6T4AP"
      }
    },
    {
      "cell_type": "code",
      "source": [
        "my_day.weekday()"
      ],
      "metadata": {
        "colab": {
          "base_uri": "https://localhost:8080/"
        },
        "id": "1VOQPfh1UMkD",
        "outputId": "da0167ae-9338-4a84-b9cd-ec7291f1956f"
      },
      "execution_count": 14,
      "outputs": [
        {
          "output_type": "execute_result",
          "data": {
            "text/plain": [
              "5"
            ]
          },
          "metadata": {},
          "execution_count": 14
        }
      ]
    },
    {
      "cell_type": "code",
      "source": [
        "my_day.isoweekday()"
      ],
      "metadata": {
        "colab": {
          "base_uri": "https://localhost:8080/"
        },
        "id": "NwFZKuPRUKwy",
        "outputId": "11ca0ccc-ed0f-4001-9772-2447ee8cbf99"
      },
      "execution_count": 15,
      "outputs": [
        {
          "output_type": "execute_result",
          "data": {
            "text/plain": [
              "6"
            ]
          },
          "metadata": {},
          "execution_count": 15
        }
      ]
    },
    {
      "cell_type": "markdown",
      "source": [
        "9.When will you be (or when were you) 10,000 days old?\n",
        "\n",
        "Answer -"
      ],
      "metadata": {
        "id": "VfY4p3HnUT5M"
      }
    },
    {
      "cell_type": "code",
      "source": [
        "from datetime import timedelta\n",
        "ten_thousand = my_day + timedelta(days=10000)\n",
        "ten_thousand"
      ],
      "metadata": {
        "colab": {
          "base_uri": "https://localhost:8080/"
        },
        "id": "p9vMcE4GUVUE",
        "outputId": "b990ffe0-f7bf-488c-aeb0-c78185c82568"
      },
      "execution_count": 16,
      "outputs": [
        {
          "output_type": "execute_result",
          "data": {
            "text/plain": [
              "datetime.date(2023, 6, 28)"
            ]
          },
          "metadata": {},
          "execution_count": 16
        }
      ]
    }
  ]
}