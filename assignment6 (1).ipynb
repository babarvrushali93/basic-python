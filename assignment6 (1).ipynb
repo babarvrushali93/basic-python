{
  "nbformat": 4,
  "nbformat_minor": 0,
  "metadata": {
    "colab": {
      "provenance": []
    },
    "kernelspec": {
      "name": "python3",
      "display_name": "Python 3"
    },
    "language_info": {
      "name": "python"
    }
  },
  "cells": [
    {
      "cell_type": "markdown",
      "source": [
        "1.What are escape characters, and how do you use them?\n",
        "\n",
        "Answer -\n",
        "\n",
        "Escape characters represent characters in string values that would otherwise be difficult or impossible to type into code. The escape character allows yus to use double quotes when you normally would not be allowed."
      ],
      "metadata": {
        "id": "Rgg12IbR76G9"
      }
    },
    {
      "cell_type": "code",
      "source": [
        "data = \"We have enrolled in \\\"iNeuron's\\\" Full Stack Data Science class.\"\n",
        "print(data)\n"
      ],
      "metadata": {
        "colab": {
          "base_uri": "https://localhost:8080/"
        },
        "id": "OWYAJUWO8EVt",
        "outputId": "82f23e68-dd84-44a3-da55-73487a1086d8"
      },
      "execution_count": null,
      "outputs": [
        {
          "output_type": "stream",
          "name": "stdout",
          "text": [
            "We have enrolled in \"iNeuron's\" Full Stack Data Science class.\n"
          ]
        }
      ]
    },
    {
      "cell_type": "markdown",
      "source": [
        "2.What do the escape characters n and t stand for?\n",
        "\n",
        "Answer -\n",
        "\n",
        "The escape characters n and t stand for newline and tab respectively. \\n is a newline; \\t is a tab"
      ],
      "metadata": {
        "id": "ARHtKaYZ8CwC"
      }
    },
    {
      "cell_type": "markdown",
      "source": [
        "3.What is the way to include backslash characters in a string?\n",
        "\n",
        "Answer -\n",
        "\n",
        "The \\ escape character will represent a backslash character."
      ],
      "metadata": {
        "id": "Zgza31rQ8TM-"
      }
    },
    {
      "cell_type": "markdown",
      "source": [
        "4.The string \"Howl's Moving Castle\" is a correct value. Why isn't the single quote character in the word Howl's not escaped a problem?\n",
        "\n",
        "Answer -\n",
        "\n",
        "The single quote in Howl's is fine because we have used double quotes to mark the beginning and end of the string."
      ],
      "metadata": {
        "id": "G4ZlPiBj8bRG"
      }
    },
    {
      "cell_type": "markdown",
      "source": [
        "5.How do you write a string of newlines if you don't want to use the n character?\n",
        "\n",
        "Answer -\n",
        "\n",
        "Multiline strings allow us to use newlines in strings without the \\n escape character."
      ],
      "metadata": {
        "id": "tw98myY08dzs"
      }
    },
    {
      "cell_type": "markdown",
      "source": [
        "6.What are the values of the given expressions?\n",
        "\n",
        "- 'Hello, world!'[1]\n",
        "\n",
        "- 'Hello, world!'[0:5]\n",
        "\n",
        "- 'Hello, world!'[:5]\n",
        "\n",
        "- 'Hello, world!'[3:]"
      ],
      "metadata": {
        "id": "wgbfsBc48jOS"
      }
    },
    {
      "cell_type": "code",
      "source": [
        "'Hello, world!'[1]"
      ],
      "metadata": {
        "colab": {
          "base_uri": "https://localhost:8080/",
          "height": 36
        },
        "id": "lSKqhysh8u0U",
        "outputId": "0567834a-3904-4e50-baa0-3665ef63a124"
      },
      "execution_count": null,
      "outputs": [
        {
          "output_type": "execute_result",
          "data": {
            "text/plain": [
              "'e'"
            ],
            "application/vnd.google.colaboratory.intrinsic+json": {
              "type": "string"
            }
          },
          "metadata": {},
          "execution_count": 2
        }
      ]
    },
    {
      "cell_type": "code",
      "source": [
        "'Hello, world!'[0:5]"
      ],
      "metadata": {
        "colab": {
          "base_uri": "https://localhost:8080/",
          "height": 36
        },
        "id": "i24jfkO387pm",
        "outputId": "392734b5-6931-4708-baf9-dbf3f0ce2bf4"
      },
      "execution_count": null,
      "outputs": [
        {
          "output_type": "execute_result",
          "data": {
            "text/plain": [
              "'Hello'"
            ],
            "application/vnd.google.colaboratory.intrinsic+json": {
              "type": "string"
            }
          },
          "metadata": {},
          "execution_count": 3
        }
      ]
    },
    {
      "cell_type": "code",
      "source": [
        "'Hello, world!'[:5]\n",
        "\n"
      ],
      "metadata": {
        "colab": {
          "base_uri": "https://localhost:8080/",
          "height": 36
        },
        "id": "4h7n_Q8m889L",
        "outputId": "0d34d3b5-a1b3-4355-d0b5-00d7c3137f8b"
      },
      "execution_count": null,
      "outputs": [
        {
          "output_type": "execute_result",
          "data": {
            "text/plain": [
              "'Hello'"
            ],
            "application/vnd.google.colaboratory.intrinsic+json": {
              "type": "string"
            }
          },
          "metadata": {},
          "execution_count": 4
        }
      ]
    },
    {
      "cell_type": "code",
      "source": [
        "'Hello, world!'[3:]"
      ],
      "metadata": {
        "colab": {
          "base_uri": "https://localhost:8080/",
          "height": 36
        },
        "id": "ENS6RTxo9AT3",
        "outputId": "b47a504c-1242-4721-a5a3-c7971d497105"
      },
      "execution_count": null,
      "outputs": [
        {
          "output_type": "execute_result",
          "data": {
            "text/plain": [
              "'lo, world!'"
            ],
            "application/vnd.google.colaboratory.intrinsic+json": {
              "type": "string"
            }
          },
          "metadata": {},
          "execution_count": 5
        }
      ]
    },
    {
      "cell_type": "markdown",
      "source": [
        "7. What are the values of the following expressions?\n",
        "\n",
        "- &#39;Hello&#39;.upper()\n",
        "\n",
        "- &#39;Hello&#39;.upper().isupper()\n",
        "\n",
        "- &#39;Hello&#39;.upper().lower()"
      ],
      "metadata": {
        "id": "oJOZKdAy9M8s"
      }
    },
    {
      "cell_type": "code",
      "source": [
        "'Hello'.upper()\n",
        "\n"
      ],
      "metadata": {
        "colab": {
          "base_uri": "https://localhost:8080/",
          "height": 36
        },
        "id": "EiUcC6AYYDQ8",
        "outputId": "68af87fd-e13b-4a8f-9ec7-4081da70748f"
      },
      "execution_count": 1,
      "outputs": [
        {
          "output_type": "execute_result",
          "data": {
            "text/plain": [
              "'HELLO'"
            ],
            "application/vnd.google.colaboratory.intrinsic+json": {
              "type": "string"
            }
          },
          "metadata": {},
          "execution_count": 1
        }
      ]
    },
    {
      "cell_type": "code",
      "source": [
        "'Hello'.upper().isupper()"
      ],
      "metadata": {
        "colab": {
          "base_uri": "https://localhost:8080/"
        },
        "id": "--PvlvmGYn54",
        "outputId": "72cc5fc1-a540-4b6f-e973-ac3c827c013f"
      },
      "execution_count": 2,
      "outputs": [
        {
          "output_type": "execute_result",
          "data": {
            "text/plain": [
              "True"
            ]
          },
          "metadata": {},
          "execution_count": 2
        }
      ]
    },
    {
      "cell_type": "code",
      "source": [
        "'Hello'.upper().lower()"
      ],
      "metadata": {
        "colab": {
          "base_uri": "https://localhost:8080/",
          "height": 36
        },
        "id": "t3tzUONHYsMc",
        "outputId": "c1f4205c-6d3d-49e2-aa35-57165c8af2a6"
      },
      "execution_count": 3,
      "outputs": [
        {
          "output_type": "execute_result",
          "data": {
            "text/plain": [
              "'hello'"
            ],
            "application/vnd.google.colaboratory.intrinsic+json": {
              "type": "string"
            }
          },
          "metadata": {},
          "execution_count": 3
        }
      ]
    },
    {
      "cell_type": "markdown",
      "source": [
        "8. What are the values of the following expressions?\n",
        "\n",
        "- &#39;Remember, remember, the fifth of July.&#39;.split()\n",
        "\n",
        "- &#39;-&#39;.join(&#39;There can only one.&#39;.split())"
      ],
      "metadata": {
        "id": "nMh6T1gZY29b"
      }
    },
    {
      "cell_type": "code",
      "source": [
        "'Remember, remember, the fifth of July.'.split()"
      ],
      "metadata": {
        "colab": {
          "base_uri": "https://localhost:8080/"
        },
        "id": "ccGL-phLZY0b",
        "outputId": "ecd456c5-b00b-4fb5-e5e1-95c339e03b96"
      },
      "execution_count": 4,
      "outputs": [
        {
          "output_type": "execute_result",
          "data": {
            "text/plain": [
              "['Remember,', 'remember,', 'the', 'fifth', 'of', 'July.']"
            ]
          },
          "metadata": {},
          "execution_count": 4
        }
      ]
    },
    {
      "cell_type": "code",
      "source": [
        "'-'.join('There can only one.'.split())"
      ],
      "metadata": {
        "colab": {
          "base_uri": "https://localhost:8080/",
          "height": 36
        },
        "id": "X-DI7GHdZg11",
        "outputId": "554b2230-22de-4a50-9990-feae04fe6c98"
      },
      "execution_count": 5,
      "outputs": [
        {
          "output_type": "execute_result",
          "data": {
            "text/plain": [
              "'There-can-only-one.'"
            ],
            "application/vnd.google.colaboratory.intrinsic+json": {
              "type": "string"
            }
          },
          "metadata": {},
          "execution_count": 5
        }
      ]
    },
    {
      "cell_type": "markdown",
      "source": [
        "9.What are the methods for right-justifying, left-justifying, and centering a string?\n",
        "\n",
        "Answer-\n",
        "\n",
        " The rjust(), ljust(), and center() string methods, respectively are the methods for right-justifying, left-justifying, and centering a string."
      ],
      "metadata": {
        "id": "0Ro_h3gaZUUd"
      }
    },
    {
      "cell_type": "markdown",
      "source": [
        "10. What is the best way to remove whitespace characters from the start or end?\n",
        "\n",
        "answer-\n",
        "\n",
        " The lstrip() and rstrip() methods remove whitespace from the left and right ends of a string, respectively."
      ],
      "metadata": {
        "id": "03M7VmKPZ4vY"
      }
    }
  ]
}