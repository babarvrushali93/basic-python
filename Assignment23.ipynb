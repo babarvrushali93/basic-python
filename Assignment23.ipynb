{
  "nbformat": 4,
  "nbformat_minor": 0,
  "metadata": {
    "colab": {
      "provenance": []
    },
    "kernelspec": {
      "name": "python3",
      "display_name": "Python 3"
    },
    "language_info": {
      "name": "python"
    }
  },
  "cells": [
    {
      "cell_type": "markdown",
      "source": [
        "1.What is the result of the code, and why?\n",
        "\n",
        "def func(a, b=6, c=8):print(a, b, c)\n",
        "\n",
        "func(1, 2)\n",
        "\n",
        "Answer -\n",
        "\n",
        "The line func() takes two values, that is 1 and 2 respectively, but the func() is defined to take 3 values, as in func() we pass only two values, the third value comes from the default value, that is c = 8."
      ],
      "metadata": {
        "id": "tyiQFscTJWXc"
      }
    },
    {
      "cell_type": "code",
      "source": [
        "def func(a, b=6, c=8):\n",
        "  print(a, b, c)\n",
        "\n",
        "func(1, 2)"
      ],
      "metadata": {
        "colab": {
          "base_uri": "https://localhost:8080/"
        },
        "id": "S8aFLKMgJnHG",
        "outputId": "fb73af28-68bd-46dc-9eeb-f210e871b0cc"
      },
      "execution_count": 1,
      "outputs": [
        {
          "output_type": "stream",
          "name": "stdout",
          "text": [
            "1 2 8\n"
          ]
        }
      ]
    },
    {
      "cell_type": "markdown",
      "source": [
        "2.What is the result of this code, and why?\n",
        "\n",
        "def func(a, b, c=5):print(a, b, c)\n",
        "\n",
        "func(1, c=3, b=2)\n",
        "\n",
        "Answer -\n",
        "\n",
        "The line func() takes three values, that is 1 , c= 3 snd b = 2 respectively,the func() is defined to take 3 values, as in func() we pass othree values, the default values gets overwritten, and we get the newly passed values."
      ],
      "metadata": {
        "id": "DFhwEabZJsWD"
      }
    },
    {
      "cell_type": "code",
      "source": [
        "def func(a, b, c=5):\n",
        "  print(a, b, c)\n",
        "\n",
        "func(1, c=3, b=2)\n"
      ],
      "metadata": {
        "colab": {
          "base_uri": "https://localhost:8080/"
        },
        "id": "CEgt3j04J_dX",
        "outputId": "165137a5-a246-41fb-9437-67ff624f5daa"
      },
      "execution_count": 2,
      "outputs": [
        {
          "output_type": "stream",
          "name": "stdout",
          "text": [
            "1 2 3\n"
          ]
        }
      ]
    },
    {
      "cell_type": "markdown",
      "source": [
        "3.How about this code: what is its result, and why?\n",
        "\n",
        "def func(a, *pargs):print(a, pargs)\n",
        "\n",
        "func(1, 2, 3)\n",
        "\n",
        "Answer -\n",
        "\n",
        "The special syntax pargs in function definitions in python is used to pass a variable number of arguments to a function. It is used to pass a non-key worded, variable-length argument list. The syntax is to use the symbol to take in a variable number of arguments; by convention, it is often used with the word args.\n",
        "\n",
        "What pargs allows you to do is take in more arguments than the number of formal arguments that you previously defined. With pargs, any number of extra arguments can be tacked on to your current formal parameters (including zero extra arguments)."
      ],
      "metadata": {
        "id": "3ubnwuAvKB1H"
      }
    },
    {
      "cell_type": "code",
      "source": [
        "def func(a, *pargs):\n",
        "  print(a, pargs)\n",
        "\n",
        "func(1, 2, 3)"
      ],
      "metadata": {
        "colab": {
          "base_uri": "https://localhost:8080/"
        },
        "id": "OitHjHlYKONi",
        "outputId": "7ab6d8e0-a0af-4c52-a9d9-8a99cf6cbfa0"
      },
      "execution_count": 3,
      "outputs": [
        {
          "output_type": "stream",
          "name": "stdout",
          "text": [
            "1 (2, 3)\n"
          ]
        }
      ]
    },
    {
      "cell_type": "markdown",
      "source": [
        "4.What does this code print, and why?\n",
        "\n",
        "def func(a, **kargs):print(a, kargs)\n",
        "\n",
        "func(a=1, c=3, b=2)\n",
        "\n",
        "Answer -\n",
        "\n",
        "The special syntax **kargs in function definitions in python is used to pass a keyworded, variable-length argument list. We use the name kwargs with the double star. The reason is because the double star allows us to pass through keyword arguments (and any number of them).\n"
      ],
      "metadata": {
        "id": "7RHHtdKkKawK"
      }
    },
    {
      "cell_type": "code",
      "source": [
        "def func(a, **kargs):\n",
        "  print(a, kargs)\n",
        "\n",
        "func(a=1, c=3, b=2)"
      ],
      "metadata": {
        "colab": {
          "base_uri": "https://localhost:8080/"
        },
        "id": "ntjbq5SxKfSv",
        "outputId": "a7e589b0-8775-47c8-e6e0-446b37558f77"
      },
      "execution_count": 4,
      "outputs": [
        {
          "output_type": "stream",
          "name": "stdout",
          "text": [
            "1 {'c': 3, 'b': 2}\n"
          ]
        }
      ]
    },
    {
      "cell_type": "markdown",
      "source": [
        "5.What gets printed by this, and explain?\n",
        "\n",
        "def func(a, b, c=8, d=5): print(a, b, c, d)\n",
        "\n",
        "func(1, *(5, 6))\n",
        "\n",
        "Answer -\n"
      ],
      "metadata": {
        "id": "tAVKJ5coKmUA"
      }
    },
    {
      "cell_type": "code",
      "source": [
        "def func(a, b, c=8, d=5):\n",
        "   print(a, b, c, d)\n",
        "\n",
        "func(1, *(5, 6))"
      ],
      "metadata": {
        "colab": {
          "base_uri": "https://localhost:8080/"
        },
        "id": "zoMYSEIGKwfG",
        "outputId": "aa64054d-1105-47e1-9e22-37f8d5181c61"
      },
      "execution_count": 5,
      "outputs": [
        {
          "output_type": "stream",
          "name": "stdout",
          "text": [
            "1 5 6 5\n"
          ]
        }
      ]
    },
    {
      "cell_type": "markdown",
      "source": [
        "6.what is the result of this, and explain?\n",
        "\n",
        "def func(a, b, c): a = 2; b[0] = 'x'; c['a'] = 'y'\n",
        "\n",
        "l=1; m=[1]; n={'a':0}\n",
        "\n",
        "func(l, m, n)\n",
        "\n",
        "Answer -"
      ],
      "metadata": {
        "id": "uCAbYbBzK_qb"
      }
    },
    {
      "cell_type": "code",
      "source": [
        "def func(a, b, c):\n",
        "   a = 2; b[0] = 'x'; c['a'] = 'y'\n",
        "\n",
        "l=1; m=[1]; n={'a':0}\n",
        "\n",
        "func(l, m, n)\n",
        "\n",
        "l,m,n\n"
      ],
      "metadata": {
        "colab": {
          "base_uri": "https://localhost:8080/"
        },
        "id": "uMQ4Lk4lLEyI",
        "outputId": "89f3b671-ab52-492e-ad6c-7544987cc7fd"
      },
      "execution_count": 8,
      "outputs": [
        {
          "output_type": "execute_result",
          "data": {
            "text/plain": [
              "(1, ['x'], {'a': 'y'})"
            ]
          },
          "metadata": {},
          "execution_count": 8
        }
      ]
    }
  ]
}