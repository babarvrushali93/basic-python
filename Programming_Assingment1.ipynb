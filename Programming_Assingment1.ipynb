{
  "nbformat": 4,
  "nbformat_minor": 0,
  "metadata": {
    "colab": {
      "provenance": []
    },
    "kernelspec": {
      "name": "python3",
      "display_name": "Python 3"
    },
    "language_info": {
      "name": "python"
    }
  },
  "cells": [
    {
      "cell_type": "markdown",
      "source": [
        "1.Write a Python program to print &quot;Hello Python&quot;?"
      ],
      "metadata": {
        "id": "nSdzLETuGuFo"
      }
    },
    {
      "cell_type": "code",
      "source": [
        "print(\"Hello Python\")"
      ],
      "metadata": {
        "colab": {
          "base_uri": "https://localhost:8080/"
        },
        "id": "l-3ylH1_GxF9",
        "outputId": "b1cd900a-4f9e-4941-d7fa-e5c62497e82f"
      },
      "execution_count": 1,
      "outputs": [
        {
          "output_type": "stream",
          "name": "stdout",
          "text": [
            "Hello Python\n"
          ]
        }
      ]
    },
    {
      "cell_type": "markdown",
      "source": [
        "2. Write a Python program to do arithmetical operations addition and division.?"
      ],
      "metadata": {
        "id": "UfdiWInvH0Bq"
      }
    },
    {
      "cell_type": "code",
      "source": [
        "# Arithmetical operations: Addition and Division\n",
        "\n",
        "#input two numbers\n",
        "num1=float(input(\"Enter the first number: \"))\n",
        "num2=float(input(\"Enter the second number: \"))\n",
        "\n",
        "# perform addition\n",
        "addition = num1 +num2\n",
        "\n",
        "# perform division\n",
        "if num2 != 0:\n",
        "  division = num1 / num2\n",
        "else:\n",
        "   division = \"cannot divide by zero\"\n",
        "\n",
        "# print the results\n",
        "print(\"Addition:\",addition)\n",
        "print(\"Division:\",division)"
      ],
      "metadata": {
        "colab": {
          "base_uri": "https://localhost:8080/"
        },
        "id": "PcB8YT1AH6R7",
        "outputId": "6c3e0b78-b785-47d3-abb1-6854d5eadd30"
      },
      "execution_count": 3,
      "outputs": [
        {
          "output_type": "stream",
          "name": "stdout",
          "text": [
            "Enter the first number: 10\n",
            "Enter the second number: 5\n",
            "Addition: 15.0\n",
            "Division: 2.0\n"
          ]
        }
      ]
    },
    {
      "cell_type": "markdown",
      "source": [
        "3.Write a Python program to find the area of a triangle?"
      ],
      "metadata": {
        "id": "ajPZtZ-tJ8tT"
      }
    },
    {
      "cell_type": "code",
      "source": [
        "# program to calculate the are of a triangle\n",
        "\n",
        "\n",
        "#input the base and height of the triangle\n",
        "base = float(input(\"Enter the base length of the triangle: \"))\n",
        "height = float(input(\"Enter the height of the  triangle: \"))\n",
        "\n",
        "# calculate the area of the triangle\n",
        "area = 0.5 * base * height\n",
        "\n",
        "# print the result\n",
        "print(\"The area of the triangle is :\",area)\n",
        "\n",
        "\n",
        "\n"
      ],
      "metadata": {
        "colab": {
          "base_uri": "https://localhost:8080/"
        },
        "id": "yM1Iz6FKKCrc",
        "outputId": "5e983fda-b82d-4624-abf6-a32deb446e09"
      },
      "execution_count": 4,
      "outputs": [
        {
          "output_type": "stream",
          "name": "stdout",
          "text": [
            "Enter the base length of the triangle: 4\n",
            "Enter the height of the  triangle: 2\n",
            "The area of the triangle is : 4.0\n"
          ]
        }
      ]
    },
    {
      "cell_type": "markdown",
      "source": [
        "4. Write a Python program to swap two variables?"
      ],
      "metadata": {
        "id": "0NOypEYoMPUz"
      }
    },
    {
      "cell_type": "code",
      "source": [
        "# program to swap two variables\n",
        "\n",
        "# input the values of the variables\n",
        "variable1 = input(\"Enter the value of variable 1:\")\n",
        "variable2 = input(\"Enter the value of variable 2:\")\n",
        "\n",
        "# print the original values\n",
        "print(\"before swapping:\")\n",
        "print(\"variable 1 =\", variable1)\n",
        "print(\"variable 2 =\", variable2)\n",
        "\n",
        "# swap the values\n",
        "temp = variable1\n",
        "variable1 = variable2\n",
        "variable2 = temp\n",
        "\n",
        "#print the swapped values\n",
        "print(\"After swapping:\")\n",
        "print(\"variable 1 =\", variable1)\n",
        "print(\"variable 2 =\", variable2)"
      ],
      "metadata": {
        "colab": {
          "base_uri": "https://localhost:8080/"
        },
        "id": "G-PWUfKWMT1E",
        "outputId": "231fd650-998a-446c-fff5-6152e82b9cc9"
      },
      "execution_count": 5,
      "outputs": [
        {
          "output_type": "stream",
          "name": "stdout",
          "text": [
            "Enter the value of variable 1:10\n",
            "Enter the value of variable 2:20\n",
            "before swapping:\n",
            "variable 1 = 10\n",
            "variable 2 = 20\n",
            "After swapping:\n",
            "variable 1 = 20\n",
            "variable 2 = 10\n"
          ]
        }
      ]
    },
    {
      "cell_type": "markdown",
      "source": [
        "5.Write a Python program to generate a random number?\n",
        "\n"
      ],
      "metadata": {
        "id": "mnE64hWIPre7"
      }
    },
    {
      "cell_type": "code",
      "source": [
        "import random\n",
        "\n",
        "# Generate a random number between 1 and 100 (inclusive)\n",
        "random_number = random.randint(1,100)\n",
        "\n",
        "# print the random number\n",
        "print(\"Random number:\",random_number)"
      ],
      "metadata": {
        "colab": {
          "base_uri": "https://localhost:8080/"
        },
        "id": "jBdZX7fIPzYM",
        "outputId": "67a2a985-5a03-4c83-b170-327d811171b1"
      },
      "execution_count": 7,
      "outputs": [
        {
          "output_type": "stream",
          "name": "stdout",
          "text": [
            "Random number: 2\n"
          ]
        }
      ]
    }
  ]
}