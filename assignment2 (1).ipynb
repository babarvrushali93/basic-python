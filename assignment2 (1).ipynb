{
  "nbformat": 4,
  "nbformat_minor": 0,
  "metadata": {
    "colab": {
      "provenance": []
    },
    "kernelspec": {
      "name": "python3",
      "display_name": "Python 3"
    },
    "language_info": {
      "name": "python"
    }
  },
  "cells": [
    {
      "cell_type": "markdown",
      "source": [
        "1.What are the two values of the Boolean data type? How do you write them?\n",
        "\n",
        "- The Boolean data type represents a logical value and has two possible values: true and false. In programming languages, these values are typically written as keywords, often in lowercase.\n",
        "\n",
        "In many programming languages, including Python, JavaScript, and Java, the two Boolean values are written as:\n",
        "\n",
        "- true (represents the true value)\n",
        "- false (represents the false value)"
      ],
      "metadata": {
        "id": "zVesfDbuxB_U"
      }
    },
    {
      "cell_type": "code",
      "source": [
        "\n",
        "x = int(input(\"enter the x value :\"))\n",
        "y = int(input(\"enter the y value :\"))\n",
        "\n",
        "if x > y :\n",
        "  print(True)\n",
        "else:\n",
        "  print(False)"
      ],
      "metadata": {
        "colab": {
          "base_uri": "https://localhost:8080/"
        },
        "id": "pKyBo6QqzN8K",
        "outputId": "04211027-8635-4d8c-8226-3358d01b8f1d"
      },
      "execution_count": null,
      "outputs": [
        {
          "output_type": "stream",
          "name": "stdout",
          "text": [
            "enter the x value :4\n",
            "enter the y value :5\n",
            "False\n"
          ]
        }
      ]
    },
    {
      "cell_type": "markdown",
      "source": [
        "2. What are the three different types of Boolean operators?\n",
        "\n",
        "-  Boolean Operators are simple words (AND, OR, NOT or AND NOT) used as conjunctions to combine or exclude keywords in a search, resulting in more focused and productive results.\n",
        "\n",
        "1.AND operator: The AND operator is used to combine two or more conditions in a Boolean expression. It returns true if all the conditions are true, and false otherwise. In programming, the AND operator is often represented by the symbol \"&&\". For example, in the expression \"A && B\", both A and B must be true for the overall expression to be true.\n",
        "\n",
        "2.OR operator: The OR operator is used to combine two or more conditions in a Boolean expression. It returns true if at least one of the conditions is true, and false if all the conditions are false. In programming, the OR operator is often represented by the symbol \"||\". For example, in the expression \"A || B\", the expression is true if either A or B (or both) are true.\n",
        "\n",
        "3.NOT operator: The NOT operator, also known as the negation operator, is used to reverse the logical state of a condition. It returns true if the condition is false, and false if the condition is true. In programming, the NOT operator is often represented by the symbol \"!\". For example, in the expression \"!A\", if A is true, then \"!A\" is false, and vice versa.\n",
        "\n",
        "These Boolean operators are fundamental in Boolean algebra and are widely used in programming, database queries, search engines, and other areas where logical conditions need to be evaluated.\n",
        "\n",
        "\n",
        "\n",
        "\n",
        "\n",
        "\n"
      ],
      "metadata": {
        "id": "emIU88bOxwpd"
      }
    },
    {
      "cell_type": "markdown",
      "source": [
        "3. Make a list of each Boolean operator&#39;s truth tables (i.e. every possible combination of Boolean\n",
        "values for the operator and what it evaluate ).\n",
        "\n",
        "- the truth tables for the four basic Boolean operators: AND, OR, NOT, and XOR.\n",
        "\n",
        "1.AND Operator (&&):\n",
        "\n",
        "| A | B | A && B |\n",
        "|---|---|--------|\n",
        "| 0 | 0 |   0    |\n",
        "| 0 | 1 |   0    |\n",
        "| 1 | 0 |   0    |\n",
        "| 1 | 1 |   1    |\n",
        "\n",
        "\n",
        "2.OR Operator (||):\n",
        "\n",
        "| A | B | A || B |\n",
        "\n",
        "|---|---|--------|\n",
        "\n",
        "| 0 | 0 |   0    |\n",
        "\n",
        "| 0 | 1 |   1    |\n",
        "\n",
        "| 1 | 0 |   1    |\n",
        "\n",
        "| 1 | 1 |   1    |\n",
        "\n",
        "\n",
        "\n",
        "3.NOT Operator (!):\n",
        "\n",
        "| A | !A |\n",
        "|---|----|\n",
        "| 0 | 1  |\n",
        "| 1 | 0  |\n",
        "\n",
        "4.XOR Operator (^):\n",
        "\n",
        "| A | B | A ^ B |\n",
        "|---|---|-------|\n",
        "| 0 | 0 |   0   |\n",
        "| 0 | 1 |   1   |\n",
        "| 1 | 0 |   1   |\n",
        "| 1 | 1 |   0   |\n",
        "\n",
        "\n",
        "Note:\n",
        "\n",
        "In the truth tables, A and B represent Boolean values, either 0 or 1.\n",
        "A && B represents the logical AND operation between A and B.\n",
        "A || B represents the logical OR operation between A and B.\n",
        "!A represents the logical NOT operation on A.\n",
        "A ^ B represents the logical XOR (exclusive OR) operation between A and B.\n",
        "\n",
        "\n",
        "\n",
        "\n"
      ],
      "metadata": {
        "id": "gxNJRi2O2veo"
      }
    },
    {
      "cell_type": "markdown",
      "source": [
        "4. What are the values of the following expressions?\n",
        "\n",
        "1.(5 &gt; 4) and (3 == 5)\n",
        "\n",
        "2.not (5 &gt; 4)\n",
        "\n",
        "3.(5 &gt; 4) or (3 == 5)\n",
        "\n",
        "4.not ((5 &gt; 4) or (3 == 5))\n",
        "\n",
        "5.(True and True) and (True == False)\n",
        "\n",
        "6.(not False) or (not True)\n",
        "\n",
        "\n",
        "\n",
        "1.(5 > 4) and (3 == 5)\n",
        "\n",
        "The first part, 5 > 4, is true.\n",
        "The second part, 3 == 5, is false.\n",
        "The overall expression is false because both parts need to be true for the entire expression to be true.\n",
        "Value: False\n",
        "\n",
        "2.not (5 > 4)\n",
        "The expression 5 > 4 is true.\n",
        "The \"not\" operator negates the result.\n",
        "The overall expression is false because the original expression is true.\n",
        "Value: False\n",
        "\n",
        "3.(5 > 4) or (3 == 5):\n",
        "\n",
        "The expression (5 > 4) is True.\n",
        "The expression (3 == 5) is False.\n",
        "The 'or' operator returns True if at least one of the expressions on its sides is True.\n",
        "Therefore, (5 > 4) or (3 == 5) evaluates to True.\n",
        "\n",
        "4.not ((5 > 4) or (3 == 5)):\n",
        "The expression (5 > 4) or (3 == 5) evaluates to True (as explained in the previous step).\n",
        "The 'not' operator negates the value of the expression.\n",
        "Therefore, not ((5 > 4) or (3 == 5)) evaluates to False.\n",
        "\n",
        "5.(True and True) and (True == False):\n",
        "The expressions True and True are both True.\n",
        "The expression True == False is False because True is not equal to False.\n",
        "The 'and' operator returns True only if both expressions on its sides are True.\n",
        "Therefore, (True and True) and (True == False) evaluates to False.\n",
        "\n",
        "6.(not False) or (not True):\n",
        "The expression not False is True because it negates the value False.\n",
        "The expression not True is False because it negates the value True.\n",
        "The 'or' operator returns True if at least one of the expressions on its sides is True.\n",
        "Therefore, (not False) or (not True) evaluates to True.\n",
        "\n",
        "\n",
        "\n",
        "\n",
        "\n"
      ],
      "metadata": {
        "id": "L6c1Zoof7GcD"
      }
    },
    {
      "cell_type": "markdown",
      "source": [
        "5.What are the six comparison operators?\n",
        "\n",
        "The six comparison operators commonly used in programming languages are:\n",
        "\n",
        "1. Equal to (==): Compares if two values are equal. For example, 5 == 5 evaluates to true, while 5 == 6 evaluates to false.\n",
        "\n",
        "2. Not equal to (!=): Checks if two values are not equal. For instance, 5 != 6 evaluates to true, while 5 != 5 evaluates to false.\n",
        "\n",
        "3. Greater than (>): Tests if one value is greater than another. For example, 10 > 5 evaluates to true, while 5 > 10 evaluates to false.\n",
        "\n",
        "4. Less than (<): Determines if one value is less than another. For instance, 5 < 10 evaluates to true, while 10 < 5 evaluates to false.\n",
        "\n",
        "5. Greater than or equal to (>=): Checks if one value is greater than or equal to another. For example, 10 >= 5 evaluates to true, while 5 >= 10 evaluates to false.\n",
        "\n",
        "6.Less than or equal to (<=): Determines if one value is less than or equal to another. For instance, 5 <= 10 evaluates to true, while 10 <= 5 evaluates to false.\n",
        "\n",
        "These comparison operators are commonly used in conditional statements and loops to make decisions based on the comparison results."
      ],
      "metadata": {
        "id": "zyQILQkY7Yh4"
      }
    },
    {
      "cell_type": "markdown",
      "source": [
        "6. How do you tell the difference between the equal to and assignment operators?Describe a condition and when you would use one.\n",
        "\n",
        "- the equal to operator and the assignment operator are two distinct operators used in programming languages, including languages like C++, Java, and Python. Here's how you can differentiate between them:\n",
        "\n",
        "1.Equal to operator: The equal to operator (==) is used to compare two values for equality. It checks if the values on both sides of the operator are equal. The result of the comparison is a Boolean value: true if the values are equal and false if they are not equal.\n",
        "\n",
        "2.Assignment operator: The assignment operator (=) is used to assign a value to a variable. It assigns the value on the right-hand side to the variable on the left-hand side."
      ],
      "metadata": {
        "id": "r1vhEpv_8GMU"
      }
    },
    {
      "cell_type": "code",
      "source": [
        "# Equal to operator\n",
        "x = 5\n",
        "y = 4\n",
        "\n",
        "if x == y:\n",
        "  print(\"x is equal to y\")\n",
        "else:\n",
        "  print(\"x is not equal to y\")"
      ],
      "metadata": {
        "colab": {
          "base_uri": "https://localhost:8080/"
        },
        "id": "oTOFbYHU9KQQ",
        "outputId": "4f4204be-5707-447c-ccd9-6e7e60e17511"
      },
      "execution_count": null,
      "outputs": [
        {
          "output_type": "stream",
          "name": "stdout",
          "text": [
            "x is not equal to y\n"
          ]
        }
      ]
    },
    {
      "cell_type": "code",
      "source": [
        "# Assignment operator:\n",
        "x = 5\n",
        "y = x\n",
        "\n",
        "print(\"the value of y is :\", y)"
      ],
      "metadata": {
        "colab": {
          "base_uri": "https://localhost:8080/"
        },
        "id": "oP0T93J19KvX",
        "outputId": "77cc67d7-5838-46d0-a926-aa80368f0bdc"
      },
      "execution_count": null,
      "outputs": [
        {
          "output_type": "stream",
          "name": "stdout",
          "text": [
            "the value of y is : 5\n"
          ]
        }
      ]
    },
    {
      "cell_type": "markdown",
      "source": [
        "7. Identify the three blocks in this code:\n",
        "\n",
        "spam = 0\n",
        "\n",
        "if spam == 10:\n",
        "\n",
        "print(&#39;eggs&#39;)\n",
        "\n",
        "if spam &gt; 5:\n",
        "\n",
        "print(&#39;bacon&#39;)\n",
        "\n",
        "else:\n",
        "\n",
        "print(&#39;ham&#39;)\n",
        "\n",
        "print(&#39;spam&#39;)\n",
        "\n",
        "print(&#39;spam&#39;)"
      ],
      "metadata": {
        "id": "0gLSjEwO_pZ8"
      }
    },
    {
      "cell_type": "code",
      "source": [
        "spam = 0\n",
        "if spam == 10:\n",
        "  print('eggs')"
      ],
      "metadata": {
        "id": "qd7HdksI_r_b"
      },
      "execution_count": null,
      "outputs": []
    },
    {
      "cell_type": "code",
      "source": [
        "if spam > 5:\n",
        "  print('bacon')\n",
        "else:\n",
        "  print('ham')\n"
      ],
      "metadata": {
        "colab": {
          "base_uri": "https://localhost:8080/"
        },
        "id": "5cr_HF8k_sOD",
        "outputId": "7711f755-c7b1-4a5e-e13c-564cedc008c8"
      },
      "execution_count": null,
      "outputs": [
        {
          "output_type": "stream",
          "name": "stdout",
          "text": [
            "ham\n"
          ]
        }
      ]
    },
    {
      "cell_type": "code",
      "source": [
        "print('spam')\n",
        "\n",
        "print('spam')"
      ],
      "metadata": {
        "colab": {
          "base_uri": "https://localhost:8080/"
        },
        "id": "vkJfnN1y_sZP",
        "outputId": "81106fb9-3734-4ebe-b0c4-7a70d52fefec"
      },
      "execution_count": null,
      "outputs": [
        {
          "output_type": "stream",
          "name": "stdout",
          "text": [
            "spam\n",
            "spam\n"
          ]
        }
      ]
    },
    {
      "cell_type": "markdown",
      "source": [
        "8. Write code that prints Hello if 1 is stored in spam, prints Howdy if 2 is stored in spam, and prints\n",
        "Greetings! if anything else is stored in spam."
      ],
      "metadata": {
        "id": "mY5tj-anBLeO"
      }
    },
    {
      "cell_type": "code",
      "source": [
        "\n",
        "spam = int(input(\"Enter the value of spam\"))\n",
        "\n",
        "if spam == 1:\n",
        "  print(\"Hello\")\n",
        "elif spam == 2:\n",
        "  print(\"Howdy\")\n",
        "else:\n",
        "  print(\"Greetings! \")"
      ],
      "metadata": {
        "colab": {
          "base_uri": "https://localhost:8080/"
        },
        "id": "TuL00fcQBXuH",
        "outputId": "82b304ee-cf7c-4152-affa-8e784665814a"
      },
      "execution_count": null,
      "outputs": [
        {
          "output_type": "stream",
          "name": "stdout",
          "text": [
            "Enter the value of spam2\n",
            "Howdy\n"
          ]
        }
      ]
    }
  ]
}