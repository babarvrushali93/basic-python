{
  "nbformat": 4,
  "nbformat_minor": 0,
  "metadata": {
    "colab": {
      "provenance": []
    },
    "kernelspec": {
      "name": "python3",
      "display_name": "Python 3"
    },
    "language_info": {
      "name": "python"
    }
  },
  "cells": [
    {
      "cell_type": "markdown",
      "source": [
        "1.Create an assert statement that throws an AssertionError if the variable spam is a negative integer.\n",
        "\n",
        "Answer -\n"
      ],
      "metadata": {
        "id": "V29At_F3wrTs"
      }
    },
    {
      "cell_type": "code",
      "source": [
        "spam = -55\n",
        "assert spam > 0, 'The spam variable is is a negative integer.'"
      ],
      "metadata": {
        "colab": {
          "base_uri": "https://localhost:8080/",
          "height": 182
        },
        "id": "rJdA-1zmwvso",
        "outputId": "8d1fd1c8-eacb-4991-8468-bc17bf7eb5fc"
      },
      "execution_count": 6,
      "outputs": [
        {
          "output_type": "error",
          "ename": "AssertionError",
          "evalue": "ignored",
          "traceback": [
            "\u001b[0;31m---------------------------------------------------------------------------\u001b[0m",
            "\u001b[0;31mAssertionError\u001b[0m                            Traceback (most recent call last)",
            "\u001b[0;32m<ipython-input-6-d8f84495732b>\u001b[0m in \u001b[0;36m<cell line: 2>\u001b[0;34m()\u001b[0m\n\u001b[1;32m      1\u001b[0m \u001b[0mspam\u001b[0m \u001b[0;34m=\u001b[0m \u001b[0;34m-\u001b[0m\u001b[0;36m55\u001b[0m\u001b[0;34m\u001b[0m\u001b[0;34m\u001b[0m\u001b[0m\n\u001b[0;32m----> 2\u001b[0;31m \u001b[0;32massert\u001b[0m \u001b[0mspam\u001b[0m \u001b[0;34m>\u001b[0m \u001b[0;36m0\u001b[0m\u001b[0;34m,\u001b[0m \u001b[0;34m'The spam variable is is a negative integer.'\u001b[0m\u001b[0;34m\u001b[0m\u001b[0;34m\u001b[0m\u001b[0m\n\u001b[0m",
            "\u001b[0;31mAssertionError\u001b[0m: The spam variable is is a negative integer."
          ]
        }
      ]
    },
    {
      "cell_type": "markdown",
      "source": [
        "2.Write an assert statement that triggers an AssertionError if the variables eggs and bacon contain strings that are the same as each other, even if their cases are different (that is, 'hello' and 'hello' are considered the same, and 'goodbye' and 'GOODbye' are also considered the same).\n"
      ],
      "metadata": {
        "id": "5Lo69yGMpfH5"
      }
    },
    {
      "cell_type": "code",
      "source": [
        "eggs = 'hello'\n",
        "bacon = 'Hello'\n",
        "\n",
        "assert eggs.lower() != bacon.lower(), 'The eggs and bacon variables are the same!'\n",
        "assert eggs.upper() != bacon.upper(), 'The eggs and bacon variables are the same!'"
      ],
      "metadata": {
        "colab": {
          "base_uri": "https://localhost:8080/",
          "height": 217
        },
        "id": "j2zbV00yplgq",
        "outputId": "d74cee29-2ee2-4c29-cbec-d688a02df3b1"
      },
      "execution_count": null,
      "outputs": [
        {
          "output_type": "error",
          "ename": "AssertionError",
          "evalue": "ignored",
          "traceback": [
            "\u001b[0;31m---------------------------------------------------------------------------\u001b[0m",
            "\u001b[0;31mAssertionError\u001b[0m                            Traceback (most recent call last)",
            "\u001b[0;32m<ipython-input-3-53586d290ac7>\u001b[0m in \u001b[0;36m<cell line: 4>\u001b[0;34m()\u001b[0m\n\u001b[1;32m      2\u001b[0m \u001b[0mbacon\u001b[0m \u001b[0;34m=\u001b[0m \u001b[0;34m'Hello'\u001b[0m\u001b[0;34m\u001b[0m\u001b[0;34m\u001b[0m\u001b[0m\n\u001b[1;32m      3\u001b[0m \u001b[0;34m\u001b[0m\u001b[0m\n\u001b[0;32m----> 4\u001b[0;31m \u001b[0;32massert\u001b[0m \u001b[0meggs\u001b[0m\u001b[0;34m.\u001b[0m\u001b[0mlower\u001b[0m\u001b[0;34m(\u001b[0m\u001b[0;34m)\u001b[0m \u001b[0;34m!=\u001b[0m \u001b[0mbacon\u001b[0m\u001b[0;34m.\u001b[0m\u001b[0mlower\u001b[0m\u001b[0;34m(\u001b[0m\u001b[0;34m)\u001b[0m\u001b[0;34m,\u001b[0m \u001b[0;34m'The eggs and bacon variables are the same!'\u001b[0m\u001b[0;34m\u001b[0m\u001b[0;34m\u001b[0m\u001b[0m\n\u001b[0m\u001b[1;32m      5\u001b[0m \u001b[0;32massert\u001b[0m \u001b[0meggs\u001b[0m\u001b[0;34m.\u001b[0m\u001b[0mupper\u001b[0m\u001b[0;34m(\u001b[0m\u001b[0;34m)\u001b[0m \u001b[0;34m!=\u001b[0m \u001b[0mbacon\u001b[0m\u001b[0;34m.\u001b[0m\u001b[0mupper\u001b[0m\u001b[0;34m(\u001b[0m\u001b[0;34m)\u001b[0m\u001b[0;34m,\u001b[0m \u001b[0;34m'The eggs and bacon variables are the same!'\u001b[0m\u001b[0;34m\u001b[0m\u001b[0;34m\u001b[0m\u001b[0m\n",
            "\u001b[0;31mAssertionError\u001b[0m: The eggs and bacon variables are the same!"
          ]
        }
      ]
    },
    {
      "cell_type": "markdown",
      "source": [
        "3.Create an assert statement that throws an AssertionError every time.\n",
        "\n",
        "Answer -\n",
        "\n",
        "assert False, 'This assertion always triggers.'"
      ],
      "metadata": {
        "id": "Pgo21OqEqHM5"
      }
    },
    {
      "cell_type": "markdown",
      "source": [
        "4.What are the two lines that must be present in your software in order to call logging.debug()?\n",
        "\n",
        "Answer -\n",
        "\n",
        "To be able to call logging.debug(), you must have these two lines at the start of your program:"
      ],
      "metadata": {
        "id": "nBFWZVuqq2PO"
      }
    },
    {
      "cell_type": "code",
      "source": [
        "import logging\n",
        "logging.basicConfig(level=logging.DEBUG, format=' %(asctime)s -%(levelname)s - %(message)s')\n"
      ],
      "metadata": {
        "id": "NF2pxIMRroy1"
      },
      "execution_count": null,
      "outputs": []
    },
    {
      "cell_type": "markdown",
      "source": [
        "\n",
        "5.What are the two lines that your program must have in order to have logging.debug() send a logging message to a file named programLog.txt?\n",
        "\n",
        "Answer -\n",
        "\n",
        "To be able to send logging messages to a file named programLog.txt with logging.debug(), you must have these two lines at the start of your program:\n",
        "\n"
      ],
      "metadata": {
        "id": "9rfHKeuArSIy"
      }
    },
    {
      "cell_type": "code",
      "source": [
        "import logging\n",
        "logging.basicConfig(filename='programLog.txt', level=logging.DEBUG, format=' %(asctime)s - %(levelname)s - %(message)s')"
      ],
      "metadata": {
        "id": "rCudav_XrUHd"
      },
      "execution_count": null,
      "outputs": []
    },
    {
      "cell_type": "markdown",
      "source": [
        "6.What are the five levels of logging?\n",
        "\n",
        "Answer -\n",
        "\n",
        "DEBUG, INFO, WARNING, ERROR, and CRITICAL"
      ],
      "metadata": {
        "id": "lO7zL2qjsakk"
      }
    },
    {
      "cell_type": "markdown",
      "source": [
        "7.What line of code would you add to your software to disable all logging messages?\n",
        "\n",
        "Answer -\n",
        "\n",
        "logging.disable(logging.CRITICAL)\n",
        "\n"
      ],
      "metadata": {
        "id": "NsJYuWWPslOC"
      }
    },
    {
      "cell_type": "markdown",
      "source": [
        "8.Why is using logging messages better than using print() to display the same message?\n",
        "\n",
        "Answer -\n",
        "\n",
        "You can disable logging messages without removing the logging function calls. You can selectively disable lower-level logging messages. You can create logging messages. Logging messages provides a timestamp.\n",
        "\n"
      ],
      "metadata": {
        "id": "eiq4lGz0s_0a"
      }
    },
    {
      "cell_type": "markdown",
      "source": [
        "9.What are the differences between the Step Over, Step In, and Step Out buttons in the debugger?\n",
        "\n",
        "Answer -\n",
        "\n",
        "The Step button will move the debugger into a function call. The Over button will quickly execute the function call without stepping into it. The Out button will quickly execute the rest of the code until it steps out of the function it currently is in.\n",
        "\n"
      ],
      "metadata": {
        "id": "Jy9CavCXtCwJ"
      }
    },
    {
      "cell_type": "markdown",
      "source": [
        "10.After you click Continue, when will the debugger stop ?\n",
        "\n",
        "Answer -\n",
        "\n",
        "After you click Continue, the debugger will stop when it has reached the end of the program or a line with a breakpoint."
      ],
      "metadata": {
        "id": "tWo9y-gMtMxJ"
      }
    },
    {
      "cell_type": "markdown",
      "source": [
        "11.What is the concept of a breakpoint?\n",
        "\n",
        "Answer -\n",
        "\n",
        "Breakpoint is a setting on a line of code that causes the debugger to pause when the program execution reaches the line"
      ],
      "metadata": {
        "id": "pmQxc4hKxOhR"
      }
    }
  ]
}