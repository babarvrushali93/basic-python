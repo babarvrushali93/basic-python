{
  "nbformat": 4,
  "nbformat_minor": 0,
  "metadata": {
    "colab": {
      "provenance": []
    },
    "kernelspec": {
      "name": "python3",
      "display_name": "Python 3"
    },
    "language_info": {
      "name": "python"
    }
  },
  "cells": [
    {
      "cell_type": "markdown",
      "source": [
        "1.What advantages do Excel spreadsheets have over CSV spreadsheets?\n",
        "\n",
        "Answer -\n",
        "\n",
        "In Excel, spreadsheets can have values of datatypes other than strings; cells can have different fonts, sizes, or color settings; cells can have varying widths and heights; adjecent cells can be merged; and we can embed images and charts."
      ],
      "metadata": {
        "id": "9vWDuu1t1beN"
      }
    },
    {
      "cell_type": "markdown",
      "source": [
        "2.What do you pass to csv.reader() and csv.writer() to create reader and writer objects?\n",
        "\n",
        "Answer -\n",
        "\n",
        "We pass a file object, obtained from call to open()."
      ],
      "metadata": {
        "id": "r8TZcPfB1dvu"
      }
    },
    {
      "cell_type": "markdown",
      "source": [
        "3.What modes do File objects for reader and writer objects need to be opened in?\n",
        "\n",
        "Answer -\n",
        "\n",
        "File objects need to be opened in read-binary ('rb') for reader objects and write-binary ('wb') fro writer objects."
      ],
      "metadata": {
        "id": "dIK_QDHm1pA5"
      }
    },
    {
      "cell_type": "markdown",
      "source": [
        "4.What method takes a list argument and writes it to a CSV file?\n",
        "\n",
        "Answer -\n",
        "\n",
        "The writerrow() method."
      ],
      "metadata": {
        "id": "M_VlxYef1wMa"
      }
    },
    {
      "cell_type": "markdown",
      "source": [
        "5.What do the keyword arguments delimiter and line terminator do?\n",
        "\n",
        "Answer -\n",
        "\n",
        "The delimeter argument change the string used to separate cells in a row. The lineterminator argument changes the string used to separate rows."
      ],
      "metadata": {
        "id": "fSzhHED712aF"
      }
    },
    {
      "cell_type": "markdown",
      "source": [
        "6.What function takes a string of JSON data and returns a Python data structure?\n",
        "\n",
        "Answer -\n",
        "\n",
        "json.loads()"
      ],
      "metadata": {
        "id": "zwQyrOQA2AzE"
      }
    },
    {
      "cell_type": "markdown",
      "source": [
        "7.What function takes a Python data structure and returns a string of JSON data?\n",
        "\n",
        "Answer -\n",
        "\n",
        "json.dumps()"
      ],
      "metadata": {
        "id": "OIUY03Yr2DpU"
      }
    }
  ]
}