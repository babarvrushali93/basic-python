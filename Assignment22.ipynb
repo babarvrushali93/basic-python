{
  "nbformat": 4,
  "nbformat_minor": 0,
  "metadata": {
    "colab": {
      "provenance": []
    },
    "kernelspec": {
      "name": "python3",
      "display_name": "Python 3"
    },
    "language_info": {
      "name": "python"
    }
  },
  "cells": [
    {
      "cell_type": "markdown",
      "source": [
        "1.What is the result of the code, and explain?\n",
        "\n",
        "X = 'iNeuron'\n",
        "\n",
        "def func():\n",
        "\n",
        "print(X)\n",
        "\n",
        "func()\n",
        "\n",
        "Answer -\n",
        "\n",
        "The line, func() Call the function we defined which prints the value of X."
      ],
      "metadata": {
        "id": "zMVFrAw9MMZE"
      }
    },
    {
      "cell_type": "code",
      "source": [
        "X = 'iNeuron'\n",
        "\n",
        "def func():\n",
        "  print(X)\n",
        "\n"
      ],
      "metadata": {
        "id": "M6IihPBdMN-B"
      },
      "execution_count": 2,
      "outputs": []
    },
    {
      "cell_type": "code",
      "source": [
        "func()"
      ],
      "metadata": {
        "colab": {
          "base_uri": "https://localhost:8080/"
        },
        "id": "20vnxJ7hMSxX",
        "outputId": "347cc641-34a9-4bf0-babd-5cd3a13a19e3"
      },
      "execution_count": 3,
      "outputs": [
        {
          "output_type": "stream",
          "name": "stdout",
          "text": [
            "iNeuron\n"
          ]
        }
      ]
    },
    {
      "cell_type": "markdown",
      "source": [
        "2.What is the result of the code, and explain?\n",
        "\n",
        "X = 'iNeuron'\n",
        "\n",
        "def func():\n",
        "\n",
        "X = 'NI!'\n",
        "\n",
        "func()\n",
        "\n",
        "print(X)\n",
        "\n",
        "Answer -\n",
        "\n",
        "The line, func() Call the function we defined, with \"NI\" as the value of X inside the funtion, but doesn't prints it, as there is no print statement inside the function.\n",
        "\n",
        "The line, print(X), prints the value of X, which is \"iNeuron\", which is outside func()."
      ],
      "metadata": {
        "id": "-ZtC4g79Mkef"
      }
    },
    {
      "cell_type": "code",
      "source": [
        "X = 'iNeuron'\n",
        "\n",
        "def func():\n",
        " X = 'NI!'\n",
        "func()"
      ],
      "metadata": {
        "id": "xH4Jr9HRMpcN"
      },
      "execution_count": 5,
      "outputs": []
    },
    {
      "cell_type": "code",
      "source": [
        "print(X)"
      ],
      "metadata": {
        "colab": {
          "base_uri": "https://localhost:8080/"
        },
        "id": "ngNkeLTwMpl_",
        "outputId": "1c9bc38e-d204-4c9b-9c0b-d1240ef06a4b"
      },
      "execution_count": 7,
      "outputs": [
        {
          "output_type": "stream",
          "name": "stdout",
          "text": [
            "iNeuron\n"
          ]
        }
      ]
    },
    {
      "cell_type": "markdown",
      "source": [
        "3.What does this code print, and why?\n",
        "\n",
        "X = 'iNeuron'\n",
        "\n",
        "def func():\n",
        "\n",
        "X = 'NI'\n",
        "\n",
        "print(X)\n",
        "\n",
        "func()\n",
        "\n",
        "print(X)\n",
        "\n",
        "Answer -\n",
        "\n",
        "The line, func() Call the function we defined which prints the value of X, which is \"NI\" inside the funtion.\n",
        "\n",
        "The line, print(X), prints the value of X, which is \"iNeuron\", which is outside func()."
      ],
      "metadata": {
        "id": "n4DE-9ryM0vn"
      }
    },
    {
      "cell_type": "code",
      "source": [
        "\n",
        "X = 'iNeuron'\n",
        "\n",
        "def func():\n",
        " X = 'NI'\n",
        "\n",
        " print(X)\n",
        "func()"
      ],
      "metadata": {
        "colab": {
          "base_uri": "https://localhost:8080/"
        },
        "id": "FQw5L5ppNBEZ",
        "outputId": "8c306fa3-aed1-45be-bf85-dbf32745e002"
      },
      "execution_count": 8,
      "outputs": [
        {
          "output_type": "stream",
          "name": "stdout",
          "text": [
            "NI\n"
          ]
        }
      ]
    },
    {
      "cell_type": "code",
      "source": [
        "print(X)"
      ],
      "metadata": {
        "colab": {
          "base_uri": "https://localhost:8080/"
        },
        "id": "hdm-jCyiNBH1",
        "outputId": "0f087890-a133-47db-98fb-385837a96504"
      },
      "execution_count": 9,
      "outputs": [
        {
          "output_type": "stream",
          "name": "stdout",
          "text": [
            "iNeuron\n"
          ]
        }
      ]
    },
    {
      "cell_type": "markdown",
      "source": [
        "4.What output does this code produce? Why?\n",
        "\n",
        "X = 'iNeuron'\n",
        "\n",
        "def func():\n",
        "\n",
        "global X\n",
        "\n",
        "X = 'NI'\n",
        "\n",
        "func()\n",
        "\n",
        "print(X)\n",
        "\n",
        "Answer -\n",
        "\n",
        "The line, func() Call the function we defined, with \"NI\" as the value of X inside the funtion, but doesn't prints it, as there is no print statement inside the function, and we have used global keyword, which means, global keyword allows us to modify the variable, that is \"X\", outside of the current function.\n",
        "\n",
        "The line, print(X), prints the value of X, which is now \"NI\", as we used global keyword inside the function."
      ],
      "metadata": {
        "id": "q4bSnKTXNQpk"
      }
    },
    {
      "cell_type": "code",
      "source": [
        "X = 'iNeuron'\n",
        "\n",
        "def func():\n",
        " global X\n",
        " X = 'NI'\n",
        "func()"
      ],
      "metadata": {
        "id": "ZNE4tizUNhlj"
      },
      "execution_count": 10,
      "outputs": []
    },
    {
      "cell_type": "code",
      "source": [
        "print(X)"
      ],
      "metadata": {
        "colab": {
          "base_uri": "https://localhost:8080/"
        },
        "id": "IqywPzFZNhsg",
        "outputId": "5de835c8-bff2-4c33-ddd3-86367d1baaf1"
      },
      "execution_count": 11,
      "outputs": [
        {
          "output_type": "stream",
          "name": "stdout",
          "text": [
            "NI\n"
          ]
        }
      ]
    },
    {
      "cell_type": "markdown",
      "source": [
        "5.X = 'iNeuron'\n",
        "\n",
        "def func():\n",
        "\n",
        "X = 'NI'\n",
        "\n",
        "def nested():\n",
        "\n",
        "print(X)\n",
        "\n",
        "nested()\n",
        "\n",
        "func()\n",
        "\n",
        "X\n",
        "\n",
        "Answer -"
      ],
      "metadata": {
        "id": "44QwB2F9Nuwf"
      }
    },
    {
      "cell_type": "code",
      "source": [
        "X = 'iNeuron'\n",
        "\n",
        "def func():\n",
        " X = 'NI'\n",
        "def nested():\n",
        " print(X)\n",
        "nested()"
      ],
      "metadata": {
        "colab": {
          "base_uri": "https://localhost:8080/"
        },
        "id": "O7J6d06NNxzq",
        "outputId": "ff45e67a-447b-4b1f-8de6-9a1b0a213397"
      },
      "execution_count": 12,
      "outputs": [
        {
          "output_type": "stream",
          "name": "stdout",
          "text": [
            "iNeuron\n"
          ]
        }
      ]
    },
    {
      "cell_type": "code",
      "source": [
        "func()\n",
        "\n",
        "X"
      ],
      "metadata": {
        "colab": {
          "base_uri": "https://localhost:8080/",
          "height": 36
        },
        "id": "K_Meu84_Nx4l",
        "outputId": "b752c7ff-cd48-4583-f4eb-582178bc8ae8"
      },
      "execution_count": 13,
      "outputs": [
        {
          "output_type": "execute_result",
          "data": {
            "text/plain": [
              "'iNeuron'"
            ],
            "application/vnd.google.colaboratory.intrinsic+json": {
              "type": "string"
            }
          },
          "metadata": {},
          "execution_count": 13
        }
      ]
    },
    {
      "cell_type": "markdown",
      "source": [
        "6.def func():\n",
        "\n",
        "X = 'NI'\n",
        "\n",
        "def nested():\n",
        "\n",
        "nonlocal X\n",
        "\n",
        "X = 'Spam'\n",
        "\n",
        "nested()\n",
        "\n",
        "print(X)\n",
        "\n",
        "func()\n",
        "\n",
        "Answer -\n",
        "\n",
        "The nonlocal keyword is used to work with variables inside nested functions, where the variable should not belong to the inner function.Use the keyword nonlocal to declare that the variable is not local."
      ],
      "metadata": {
        "id": "YNYn7PgHOFwP"
      }
    },
    {
      "cell_type": "code",
      "source": [
        "def func():\n",
        "    X = 'NI'\n",
        "    def nested():\n",
        "        nonlocal X\n",
        "        X = 'spam'\n",
        "    nested()\n",
        "    print(X)\n",
        "\n",
        "func()"
      ],
      "metadata": {
        "colab": {
          "base_uri": "https://localhost:8080/"
        },
        "id": "tpErh81mPeAr",
        "outputId": "03fbd5a8-5cc9-4fce-f989-3fd19188eee6"
      },
      "execution_count": 31,
      "outputs": [
        {
          "output_type": "stream",
          "name": "stdout",
          "text": [
            "spam\n"
          ]
        }
      ]
    }
  ]
}