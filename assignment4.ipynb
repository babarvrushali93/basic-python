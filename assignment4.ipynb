{
  "nbformat": 4,
  "nbformat_minor": 0,
  "metadata": {
    "colab": {
      "provenance": []
    },
    "kernelspec": {
      "name": "python3",
      "display_name": "Python 3"
    },
    "language_info": {
      "name": "python"
    }
  },
  "cells": [
    {
      "cell_type": "markdown",
      "source": [
        "1. What exactly is []?\n",
        "\n",
        " - The symble \"[]\" typically represents an empty list or  an empty array ,depending on the context . it is commonly used in computer programming languages to denote a collection of elements.\n",
        "\n",
        " - in some progamming languages like python , the \"[]\" syntax is used to define an empty list."
      ],
      "metadata": {
        "id": "Xt0Qtwv7OrJC"
      }
    },
    {
      "cell_type": "code",
      "source": [
        "# ex , in python .\n",
        "\n",
        "list = []"
      ],
      "metadata": {
        "id": "FnH-gz7HQdMV"
      },
      "execution_count": null,
      "outputs": []
    },
    {
      "cell_type": "code",
      "source": [
        "list"
      ],
      "metadata": {
        "colab": {
          "base_uri": "https://localhost:8080/"
        },
        "id": "U1ZoE3SyQwsH",
        "outputId": "a71c40b2-b87f-46a9-f656-70bdaa04c41d"
      },
      "execution_count": null,
      "outputs": [
        {
          "output_type": "execute_result",
          "data": {
            "text/plain": [
              "[]"
            ]
          },
          "metadata": {},
          "execution_count": 3
        }
      ]
    },
    {
      "cell_type": "markdown",
      "source": [
        "  - in some progamming languages like javascript ,the \"[]\" syntax is used to define an empty array."
      ],
      "metadata": {
        "id": "-m_E25vcQ3yR"
      }
    },
    {
      "cell_type": "code",
      "source": [
        "# ex , in javascript .\n",
        "\n",
        "my_array = []"
      ],
      "metadata": {
        "id": "0shFxgAORZQ1"
      },
      "execution_count": null,
      "outputs": []
    },
    {
      "cell_type": "code",
      "source": [
        "my_array"
      ],
      "metadata": {
        "colab": {
          "base_uri": "https://localhost:8080/"
        },
        "id": "EGnVV7t9Rx0X",
        "outputId": "58daf53d-4034-43bc-eb45-495874f0a82d"
      },
      "execution_count": null,
      "outputs": [
        {
          "output_type": "execute_result",
          "data": {
            "text/plain": [
              "[]"
            ]
          },
          "metadata": {},
          "execution_count": 5
        }
      ]
    },
    {
      "cell_type": "markdown",
      "source": [
        "2. In a list of values stored in a variable called spam, how would you assign the value &#39;hello&#39; as the\n",
        "third value? (Assume [2, 4, 6, 8, 10] are in spam.)"
      ],
      "metadata": {
        "id": "H-K3lD4lR_uR"
      }
    },
    {
      "cell_type": "code",
      "source": [
        "spam = [2, 4, 6, 8, 10]\n",
        "\n",
        "spam[2] = 'hello'\n",
        "\n",
        "spam[2]"
      ],
      "metadata": {
        "colab": {
          "base_uri": "https://localhost:8080/",
          "height": 36
        },
        "id": "IpwmHbmVR0hH",
        "outputId": "29f94e84-4c98-45f3-a4ff-3ebd1e0d8a4e"
      },
      "execution_count": null,
      "outputs": [
        {
          "output_type": "execute_result",
          "data": {
            "text/plain": [
              "'hello'"
            ],
            "application/vnd.google.colaboratory.intrinsic+json": {
              "type": "string"
            }
          },
          "metadata": {},
          "execution_count": 7
        }
      ]
    },
    {
      "cell_type": "markdown",
      "source": [
        "### Let&#39;s pretend the spam includes the list [&#39;a&#39;, &#39;b&#39;, &#39;c&#39;, &#39;d&#39;] for the next three queries.\n",
        "\n",
        "3. What is the value of spam[int(int(&#39;3&#39; * 2) / 11)]?"
      ],
      "metadata": {
        "id": "XrADYrmxTZJy"
      }
    },
    {
      "cell_type": "code",
      "source": [
        "spam = ['a','b','c','d']\n",
        "\n",
        "spam[int(int('3'*2)/11)]"
      ],
      "metadata": {
        "colab": {
          "base_uri": "https://localhost:8080/",
          "height": 36
        },
        "id": "IK2qgoMUT0VP",
        "outputId": "a6bcffd4-37a2-4b84-c7d3-c168e85ee1f2"
      },
      "execution_count": null,
      "outputs": [
        {
          "output_type": "execute_result",
          "data": {
            "text/plain": [
              "'d'"
            ],
            "application/vnd.google.colaboratory.intrinsic+json": {
              "type": "string"
            }
          },
          "metadata": {},
          "execution_count": 9
        }
      ]
    },
    {
      "cell_type": "markdown",
      "source": [
        "4. What is the value of spam[-1]?"
      ],
      "metadata": {
        "id": "pnAHGcTGTsKs"
      }
    },
    {
      "cell_type": "code",
      "source": [
        "spam[-1]"
      ],
      "metadata": {
        "colab": {
          "base_uri": "https://localhost:8080/",
          "height": 36
        },
        "id": "Yt4-GviATOn_",
        "outputId": "950cd7b8-739e-45a1-c283-6dc71043c592"
      },
      "execution_count": null,
      "outputs": [
        {
          "output_type": "execute_result",
          "data": {
            "text/plain": [
              "'d'"
            ],
            "application/vnd.google.colaboratory.intrinsic+json": {
              "type": "string"
            }
          },
          "metadata": {},
          "execution_count": 10
        }
      ]
    },
    {
      "cell_type": "markdown",
      "source": [
        "5. What is the value of spam[:2]?"
      ],
      "metadata": {
        "id": "s9_2prn6Twua"
      }
    },
    {
      "cell_type": "code",
      "source": [
        "spam[:2]"
      ],
      "metadata": {
        "colab": {
          "base_uri": "https://localhost:8080/"
        },
        "id": "J6vgq26wTOrb",
        "outputId": "e1758dc5-8270-4e57-e94b-df1673a653f1"
      },
      "execution_count": null,
      "outputs": [
        {
          "output_type": "execute_result",
          "data": {
            "text/plain": [
              "['a', 'b']"
            ]
          },
          "metadata": {},
          "execution_count": 11
        }
      ]
    },
    {
      "cell_type": "markdown",
      "source": [
        "### Let&#39;s pretend bacon has the list [3.14, &#39;cat,&#39; 11, &#39;cat,&#39; True] for the next three questions.\n",
        "6. What is the value of bacon.index(&#39;cat&#39;)?"
      ],
      "metadata": {
        "id": "BCZouueFUsNi"
      }
    },
    {
      "cell_type": "code",
      "source": [
        "bacon = [3.14,'cat',11,'cat',True]\n",
        "\n",
        "bacon.index('cat')"
      ],
      "metadata": {
        "colab": {
          "base_uri": "https://localhost:8080/"
        },
        "id": "k6UyBnrmUq-H",
        "outputId": "e87cd2c3-4ffd-410f-ffb9-6fadfc1f29f6"
      },
      "execution_count": null,
      "outputs": [
        {
          "output_type": "execute_result",
          "data": {
            "text/plain": [
              "1"
            ]
          },
          "metadata": {},
          "execution_count": 12
        }
      ]
    },
    {
      "cell_type": "markdown",
      "source": [
        "7. How does bacon.append(99) change the look of the list value in bacon?"
      ],
      "metadata": {
        "id": "dNhPrQXmU2Cp"
      }
    },
    {
      "cell_type": "code",
      "source": [
        "bacon.append(99)"
      ],
      "metadata": {
        "id": "ByyH-C37U6AO"
      },
      "execution_count": null,
      "outputs": []
    },
    {
      "cell_type": "code",
      "source": [
        "bacon"
      ],
      "metadata": {
        "colab": {
          "base_uri": "https://localhost:8080/"
        },
        "id": "TCBcKJe3WG4N",
        "outputId": "14798721-9a0a-4ff5-e00b-9ae01c54b6c3"
      },
      "execution_count": null,
      "outputs": [
        {
          "output_type": "execute_result",
          "data": {
            "text/plain": [
              "[3.14, 'cat', 11, 'cat', True, 99]"
            ]
          },
          "metadata": {},
          "execution_count": 14
        }
      ]
    },
    {
      "cell_type": "markdown",
      "source": [
        "8. How does bacon.remove(&#39;cat&#39;) change the look of the list in bacon?"
      ],
      "metadata": {
        "id": "Vd4iNs32U6so"
      }
    },
    {
      "cell_type": "code",
      "source": [
        "bacon = [3.14,'cat',11,'cat',True]\n",
        "\n",
        "bacon.remove('cat')"
      ],
      "metadata": {
        "id": "_YMwieKwXC0i"
      },
      "execution_count": null,
      "outputs": []
    },
    {
      "cell_type": "code",
      "source": [
        "bacon"
      ],
      "metadata": {
        "colab": {
          "base_uri": "https://localhost:8080/"
        },
        "id": "QQ3QP2UMWeiQ",
        "outputId": "4519698c-3940-42c1-9945-912386ccb3bd"
      },
      "execution_count": null,
      "outputs": [
        {
          "output_type": "execute_result",
          "data": {
            "text/plain": [
              "[3.14, 11, 'cat', True]"
            ]
          },
          "metadata": {},
          "execution_count": 25
        }
      ]
    },
    {
      "cell_type": "markdown",
      "source": [
        "9. What are the list concatenation and list replication operators?\n",
        "\n",
        "  - In python , the list concatenation operaction is the plus sign (+) and it is combine two lists into a single list."
      ],
      "metadata": {
        "id": "Jhlwx-8Zushl"
      }
    },
    {
      "cell_type": "code",
      "source": [
        " list1 = [1,2,3]\n",
        " list2 = [4,5,6]\n",
        "\n",
        " concatenation_list = list1 + list2\n",
        "\n",
        " print(concatenation_list)\n"
      ],
      "metadata": {
        "colab": {
          "base_uri": "https://localhost:8080/"
        },
        "id": "CNup-hDBuhBD",
        "outputId": "9c12b821-2f4d-4b9f-a0f9-2cedcfff42a1"
      },
      "execution_count": null,
      "outputs": [
        {
          "output_type": "stream",
          "name": "stdout",
          "text": [
            "[1, 2, 3, 4, 5, 6]\n"
          ]
        }
      ]
    },
    {
      "cell_type": "markdown",
      "source": [
        "- The list replication operators asterisk(*) symbol. it allows you to creare a new list by repeating the elements of an existing list a certain number of times."
      ],
      "metadata": {
        "id": "qr1n9Vo0x43d"
      }
    },
    {
      "cell_type": "code",
      "source": [
        "list1=[1,2,3,4]\n",
        "\n",
        "replication_list = list1 * 3\n",
        "\n",
        "print(replication_list)\n"
      ],
      "metadata": {
        "colab": {
          "base_uri": "https://localhost:8080/"
        },
        "id": "bPZKipMJwlbh",
        "outputId": "44648817-b645-40c0-8f88-6ef337960917"
      },
      "execution_count": null,
      "outputs": [
        {
          "output_type": "stream",
          "name": "stdout",
          "text": [
            "[1, 2, 3, 4, 1, 2, 3, 4, 1, 2, 3, 4]\n"
          ]
        }
      ]
    },
    {
      "cell_type": "markdown",
      "source": [
        "10. What is difference between the list methods append() and insert()?\n",
        " -  In 'append()'methods is used to  adds element to end of a list.\n",
        " - take a single  argument , which is the element to be added to the list.\n",
        " - the element is appended as the last item in the list."
      ],
      "metadata": {
        "id": "-GHn13ydzShy"
      }
    },
    {
      "cell_type": "code",
      "source": [
        "list = [2,4,'sham',2.3]\n",
        "\n",
        "list.append(80)\n",
        "\n",
        "list"
      ],
      "metadata": {
        "colab": {
          "base_uri": "https://localhost:8080/"
        },
        "id": "DMmt28ijzUSc",
        "outputId": "916ff5e7-1232-4507-ec03-9cb714d0dfda"
      },
      "execution_count": null,
      "outputs": [
        {
          "output_type": "execute_result",
          "data": {
            "text/plain": [
              "[2, 4, 'sham', 2.3, 80]"
            ]
          },
          "metadata": {},
          "execution_count": 11
        }
      ]
    },
    {
      "cell_type": "markdown",
      "source": [
        "- In insert() methods is used to insert an element specified position in the list.\n",
        "- it takes a two argument , the index where the element is to be inserted and the element itself.\n",
        "- the element is inserted at the specified index ,and all the elements after that index are shifted to the right."
      ],
      "metadata": {
        "id": "tmAiyNqR0xJJ"
      }
    },
    {
      "cell_type": "code",
      "source": [
        "list = [2,4,'sham',2.3]\n",
        "\n",
        "list.insert(2,'ram')\n",
        "\n",
        "list"
      ],
      "metadata": {
        "colab": {
          "base_uri": "https://localhost:8080/"
        },
        "id": "owwsCYpxzz5X",
        "outputId": "505d91fc-a799-4cb0-d76e-24a566f8d2d5"
      },
      "execution_count": null,
      "outputs": [
        {
          "output_type": "execute_result",
          "data": {
            "text/plain": [
              "[2, 4, 'ram', 'sham', 2.3]"
            ]
          },
          "metadata": {},
          "execution_count": 12
        }
      ]
    },
    {
      "cell_type": "markdown",
      "source": [
        "11. What are the two methods for removing items from a list?\n",
        "\n",
        "- using the 'remove()' method : the 'remove()' method allowys you to remove the first occurrence of a sepcific item in a list.\n",
        "- you need to specific the value of the item you want to remove."
      ],
      "metadata": {
        "id": "BZqRWPiY2bqA"
      }
    },
    {
      "cell_type": "code",
      "source": [
        "list = [2,4,'sham',2.3]\n",
        "list.remove(4)\n",
        "\n",
        "print(list)"
      ],
      "metadata": {
        "colab": {
          "base_uri": "https://localhost:8080/"
        },
        "id": "GdHY5MU39HqR",
        "outputId": "f5a0a78a-7a85-4019-dfa6-672419b8d18c"
      },
      "execution_count": null,
      "outputs": [
        {
          "output_type": "stream",
          "name": "stdout",
          "text": [
            "[2, 'sham', 2.3]\n"
          ]
        }
      ]
    },
    {
      "cell_type": "markdown",
      "source": [
        "- using the 'pop()' method: the 'pop()'method remove and returns the item at a specified index in a list.\n",
        "- if you don't provide an index, it removes and returns the last item in the list."
      ],
      "metadata": {
        "id": "JqVT8Tjq8w2p"
      }
    },
    {
      "cell_type": "code",
      "source": [
        "my_list = [2,4,'sham',2.3]\n",
        "removed_item = my_list.pop(2)\n",
        "\n",
        "print(removed_item)\n",
        "print(my_list)"
      ],
      "metadata": {
        "colab": {
          "base_uri": "https://localhost:8080/"
        },
        "id": "OLfOOYll2d9L",
        "outputId": "0df70c25-06fd-4911-b653-d97c644b0ac6"
      },
      "execution_count": null,
      "outputs": [
        {
          "output_type": "stream",
          "name": "stdout",
          "text": [
            "sham\n",
            "[2, 4, 2.3]\n"
          ]
        }
      ]
    },
    {
      "cell_type": "markdown",
      "source": [
        "12. Describe how list values and string values are identical.\n",
        "\n",
        "- The similarity between lists and string in python is that both are sequences.\n",
        "- the differences between them are that firstly ,list are mutable but strings are immutable.\n",
        "- secondly ,element of a list can be of different types whereas a string only contains characters that are all of string type."
      ],
      "metadata": {
        "id": "dI6xjvFWDcWx"
      }
    },
    {
      "cell_type": "markdown",
      "source": [
        "13. What&#39;s the difference between tuples and lists?\n",
        "\n",
        "## list\n",
        "- Lists are one of the most flexible and powerful containers in Python. It is similar to an array in other languages like Java.\n",
        "\n",
        "The list has the following features -\n",
        "\n",
        "You can use Python lists to store data of multiple types simultaneously.\n",
        "Lists help preserve data sequences and further process those sequences in other ways.\n",
        "- Lists are dynamic.\n",
        "- Lists are mutable.\n",
        "- Lists are ordered.\n",
        "- An index is used to traverse a list.\n",
        "Lists help store multiple items and then iterate over them using a loop. Because lists are dynamic, you can easily add or remove items anytime.\n",
        "- A list is initiated with the [ ] symbol."
      ],
      "metadata": {
        "id": "zrjik96rFOrW"
      }
    },
    {
      "cell_type": "code",
      "source": [
        "l= [1,2,3,'sham',3.14]\n",
        "print(l)"
      ],
      "metadata": {
        "colab": {
          "base_uri": "https://localhost:8080/"
        },
        "id": "R-l2PLNsGbPI",
        "outputId": "4a6f8e85-6a1e-4069-aa41-03d6e421e14c"
      },
      "execution_count": 2,
      "outputs": [
        {
          "output_type": "stream",
          "name": "stdout",
          "text": [
            "[1, 2, 3, 'sham', 3.14]\n"
          ]
        }
      ]
    },
    {
      "cell_type": "markdown",
      "source": [
        "## Tuple\n",
        "- Tuples are also a sequence data type containing elements of different data types.\n",
        "\n",
        "It comes in handy when storing a collection of items, especially if you want those items to be unchanging.\n",
        "\n",
        "A python tuple has the following features -\n",
        "\n",
        "- Tuples are used to store heterogeneous and homogeneous data.\n",
        "- Tuples are immutable in nature.\n",
        "- Tuples are ordered\n",
        "- An index is used to traverse a tuple.\n",
        "- Tuples are similar to lists. It also preserves the data sequence.\n",
        "As tuples are immutable, they are faster than the list because they are static.\n",
        "- A tuple is initiated with the () symbol."
      ],
      "metadata": {
        "id": "8egAjIZQGTnR"
      }
    },
    {
      "cell_type": "code",
      "source": [
        "t =(1,2,3,4)\n",
        "print(t)\n"
      ],
      "metadata": {
        "colab": {
          "base_uri": "https://localhost:8080/"
        },
        "id": "MDlfa7stFy1u",
        "outputId": "47f9db74-f881-4d3d-f02c-a2e63bb2ca17"
      },
      "execution_count": 3,
      "outputs": [
        {
          "output_type": "stream",
          "name": "stdout",
          "text": [
            "(1, 2, 3, 4)\n"
          ]
        }
      ]
    },
    {
      "cell_type": "markdown",
      "source": [
        "14. How do you type a tuple value that only contains the integer 42?"
      ],
      "metadata": {
        "id": "WWfb_rUeHgBF"
      }
    },
    {
      "cell_type": "code",
      "source": [
        "tuple = (42)\n",
        "print(tuple)"
      ],
      "metadata": {
        "colab": {
          "base_uri": "https://localhost:8080/"
        },
        "id": "zIo6xcFgIofd",
        "outputId": "2b82b878-d5f9-472b-eeba-a914ecd3450c"
      },
      "execution_count": 4,
      "outputs": [
        {
          "output_type": "stream",
          "name": "stdout",
          "text": [
            "42\n"
          ]
        }
      ]
    },
    {
      "cell_type": "markdown",
      "source": [
        "15. How do you get a list value&#39;s tuple form? How do you get a tuple value&#39;s list form?"
      ],
      "metadata": {
        "id": "ljovjteSJUnp"
      }
    },
    {
      "cell_type": "code",
      "source": [
        "my_list = [1,2,3,4]\n",
        "my_tuple = tuple(my_list)\n",
        "print(my_tuple)\n",
        "print(type(my_tuple))"
      ],
      "metadata": {
        "colab": {
          "base_uri": "https://localhost:8080/",
          "height": 217
        },
        "id": "GbxU3lD6W7OL",
        "outputId": "36de990a-435d-4c49-bce6-7b44d70b9b78"
      },
      "execution_count": 63,
      "outputs": [
        {
          "output_type": "error",
          "ename": "TypeError",
          "evalue": "ignored",
          "traceback": [
            "\u001b[0;31m---------------------------------------------------------------------------\u001b[0m",
            "\u001b[0;31mTypeError\u001b[0m                                 Traceback (most recent call last)",
            "\u001b[0;32m<ipython-input-63-d3d5ab5f78c1>\u001b[0m in \u001b[0;36m<cell line: 2>\u001b[0;34m()\u001b[0m\n\u001b[1;32m      1\u001b[0m \u001b[0mmy_list\u001b[0m \u001b[0;34m=\u001b[0m \u001b[0;34m[\u001b[0m\u001b[0;36m1\u001b[0m\u001b[0;34m,\u001b[0m\u001b[0;36m2\u001b[0m\u001b[0;34m,\u001b[0m\u001b[0;36m3\u001b[0m\u001b[0;34m,\u001b[0m\u001b[0;36m4\u001b[0m\u001b[0;34m]\u001b[0m\u001b[0;34m\u001b[0m\u001b[0;34m\u001b[0m\u001b[0m\n\u001b[0;32m----> 2\u001b[0;31m \u001b[0mmy_tuple\u001b[0m \u001b[0;34m=\u001b[0m \u001b[0mtuple\u001b[0m\u001b[0;34m(\u001b[0m\u001b[0mmy_list\u001b[0m\u001b[0;34m)\u001b[0m\u001b[0;34m\u001b[0m\u001b[0;34m\u001b[0m\u001b[0m\n\u001b[0m\u001b[1;32m      3\u001b[0m \u001b[0mprint\u001b[0m\u001b[0;34m(\u001b[0m\u001b[0mmy_tuple\u001b[0m\u001b[0;34m)\u001b[0m\u001b[0;34m\u001b[0m\u001b[0;34m\u001b[0m\u001b[0m\n\u001b[1;32m      4\u001b[0m \u001b[0mprint\u001b[0m\u001b[0;34m(\u001b[0m\u001b[0mtype\u001b[0m\u001b[0;34m(\u001b[0m\u001b[0mmy_tuple\u001b[0m\u001b[0;34m)\u001b[0m\u001b[0;34m)\u001b[0m\u001b[0;34m\u001b[0m\u001b[0;34m\u001b[0m\u001b[0m\n",
            "\u001b[0;31mTypeError\u001b[0m: 'int' object is not callable"
          ]
        }
      ]
    },
    {
      "cell_type": "code",
      "source": [
        "my_tuple = (1, 2, 3)\n",
        "my_list= list(my_tuple)\n",
        "print(my_list)\n",
        "print(type(my_list))"
      ],
      "metadata": {
        "colab": {
          "base_uri": "https://localhost:8080/"
        },
        "id": "h8fwMPKtPBMv",
        "outputId": "34fa94c6-2b40-42aa-a483-2ad2dcd37da2"
      },
      "execution_count": 30,
      "outputs": [
        {
          "output_type": "stream",
          "name": "stdout",
          "text": [
            "[1, 2, 3]\n",
            "<class 'list'>\n"
          ]
        }
      ]
    },
    {
      "cell_type": "markdown",
      "source": [
        "16. Variables that &quot;contain&quot; list values are not necessarily lists themselves. Instead, what do they contain?\n",
        "\n",
        "- variables will contain references to list values rather than list values themselves. But for strings and integer values, variables simply contain the string or integer value."
      ],
      "metadata": {
        "id": "ud9mG3GJMug-"
      }
    },
    {
      "cell_type": "code",
      "source": [
        "list =[1,2,3]\n",
        "another_list = list\n",
        "\n",
        "list.append(4)\n",
        "print(another_list)"
      ],
      "metadata": {
        "colab": {
          "base_uri": "https://localhost:8080/"
        },
        "id": "hSxDVDc-M8Rg",
        "outputId": "d9a73123-22d4-45a1-f7d1-2fb9b401985a"
      },
      "execution_count": 37,
      "outputs": [
        {
          "output_type": "stream",
          "name": "stdout",
          "text": [
            "[1, 2, 3, 4]\n"
          ]
        }
      ]
    },
    {
      "cell_type": "markdown",
      "source": [
        "17. How do you distinguish between copy.copy() and copy.deepcopy()?\n",
        "\n",
        "- copy.copy() create reference to original object. If you change copied object - you change the original object.\n",
        "- copy. deepcopy() creates new object and does real copying of original object to new one. Changing new deepcopied object doesn't affect original object"
      ],
      "metadata": {
        "id": "sJ99pc--NHhc"
      }
    },
    {
      "cell_type": "code",
      "source": [
        "import copy\n",
        "\n",
        "old_list = [[1, 1, 1], [2, 2, 2], [3, 3, 3]]\n",
        "new_list = copy.copy(old_list)\n",
        "\n",
        "old_list[1][1] = 'AA'\n",
        "\n",
        "print(\"Old list:\", old_list)\n",
        "print(\"New list:\", new_list)"
      ],
      "metadata": {
        "colab": {
          "base_uri": "https://localhost:8080/"
        },
        "id": "WDFZtmFuWDoN",
        "outputId": "9c8dbd6d-662b-44ab-e3b3-e23d4853c099"
      },
      "execution_count": 45,
      "outputs": [
        {
          "output_type": "stream",
          "name": "stdout",
          "text": [
            "Old list: [[1, 1, 1], [2, 'AA', 2], [3, 3, 3]]\n",
            "New list: [[1, 1, 1], [2, 'AA', 2], [3, 3, 3]]\n"
          ]
        }
      ]
    },
    {
      "cell_type": "code",
      "source": [
        "import copy\n",
        "\n",
        "old_list = [[1, 1, 1], [2, 2, 2], [3, 3, 3]]\n",
        "new_list = copy.deepcopy(old_list)\n",
        "\n",
        "print(\"Old list:\", old_list)\n",
        "print(\"New list:\", new_list)"
      ],
      "metadata": {
        "colab": {
          "base_uri": "https://localhost:8080/"
        },
        "id": "S6d_vIRnMwD7",
        "outputId": "33dbabaa-39a8-4904-f0e9-76d16d275672"
      },
      "execution_count": 44,
      "outputs": [
        {
          "output_type": "stream",
          "name": "stdout",
          "text": [
            "Old list: [[1, 1, 1], [2, 2, 2], [3, 3, 3]]\n",
            "New list: [[1, 1, 1], [2, 2, 2], [3, 3, 3]]\n"
          ]
        }
      ]
    }
  ]
}