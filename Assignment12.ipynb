{
  "nbformat": 4,
  "nbformat_minor": 0,
  "metadata": {
    "colab": {
      "provenance": []
    },
    "kernelspec": {
      "name": "python3",
      "display_name": "Python 3"
    },
    "language_info": {
      "name": "python"
    }
  },
  "cells": [
    {
      "cell_type": "markdown",
      "source": [
        "1.In what modes should the PdfFileReader() and PdfFileWriter() File objects will be opened?\n",
        "\n",
        "Answer -\n",
        "\n",
        "PdfFileReader() needs to be opened in read-binary mode by passing 'rb' as the second argument to open(). Likewise, the File object passed to PyPDF2. PdfFileWriter() needs to be opened in write-binary mode with 'wb'."
      ],
      "metadata": {
        "id": "vl5eLblKxi_k"
      }
    },
    {
      "cell_type": "markdown",
      "source": [
        "2.From a PdfFileReader object, how do you get a Page object for page 5?\n",
        "\n",
        "Answer -\n",
        "\n",
        "Calling getPage(4) will return a page object for page 5, since page 0 is the first page."
      ],
      "metadata": {
        "id": "kiGdyw5hxqKO"
      }
    },
    {
      "cell_type": "markdown",
      "source": [
        "3.What PdfFileReader variable stores the number of pages in the PDF document?\n",
        "\n",
        "Answer -\n",
        "\n",
        "The total number of pages in the document is stored in the numPages variable of a PdfFileReader object."
      ],
      "metadata": {
        "id": "daLQ1LlGxwV8"
      }
    },
    {
      "cell_type": "markdown",
      "source": [
        "4.If a PdfFileReader object’s PDF is encrypted with the password swordfish, what must you do before you can obtain Page objects from it?\n",
        "\n",
        "Answer -\n",
        "\n",
        "To read an encrypted PDF, call the decrypt() function and pass the password as a string, in our case it is swordfish. After we call decrypt() with the correct password, you’ll see that calling getPage() no longer causes an error. Call decrypt('swordfish').\n"
      ],
      "metadata": {
        "id": "W4hP_oEqyDeL"
      }
    },
    {
      "cell_type": "markdown",
      "source": [
        "5.What methods do you use to rotate a page?\n",
        "\n",
        "Answer -\n",
        "\n",
        "The pages of a PDF can be rotated in 90-degree increments with the rotateClockwise() and rotateCounterClockwise() methods."
      ],
      "metadata": {
        "id": "8dcHobWZyMFc"
      }
    },
    {
      "cell_type": "markdown",
      "source": [
        "6.What is the difference between a Run object and a Paragraph object?\n",
        "\n",
        "Answer -\n",
        "\n",
        "A document contains multiple paragraphs. A paragraph begins on a new line and contains multiple runs. Runs are contiguous groups of charecters within a paragraph."
      ],
      "metadata": {
        "id": "XJyeSTNMySmo"
      }
    },
    {
      "cell_type": "markdown",
      "source": [
        "7.How do you obtain a list of Paragraph objects for a Document object that’s stored in a variable named doc?\n",
        "\n",
        "Answer -\n",
        "\n",
        "len(doc.paragraphs)"
      ],
      "metadata": {
        "id": "D-aFyaXXyodf"
      }
    },
    {
      "cell_type": "markdown",
      "source": [
        "8.What type of object has bold, underline, italic, strike, and outline variables?\n",
        "\n",
        "Answer -\n",
        "\n",
        "Run Object"
      ],
      "metadata": {
        "id": "NHNtAtT7yrKN"
      }
    },
    {
      "cell_type": "markdown",
      "source": [
        "9.What is the difference between False, True, and None for the bold variable?\n",
        "\n",
        "Answer -\n",
        "\n",
        "True always makes the run object bolded and False makes it always not bolded, no matter what the style's bold settings is. None will make the Run object just use the style's bold settings."
      ],
      "metadata": {
        "id": "IlZXmbxEyyux"
      }
    },
    {
      "cell_type": "markdown",
      "source": [
        "10.How do you create a Document object for a new Word document?\n",
        "\n",
        "Answer -\n",
        "\n",
        "mydoc = docx.Document()\n",
        "\n"
      ],
      "metadata": {
        "id": "6Ltjub0QzCtV"
      }
    },
    {
      "cell_type": "markdown",
      "source": [
        "11.How do you add a paragraph with the text 'Hello, there!' to a Document object stored in a variable named doc?\n",
        "\n",
        "Answer -\n",
        "\n",
        "doc.add_paragraph('Hello, there!')"
      ],
      "metadata": {
        "id": "nE-nrz-xzIX4"
      }
    },
    {
      "cell_type": "markdown",
      "source": [
        "12.What integers represent the levels of headings available in Word documents?\n",
        "\n",
        "Answer -\n",
        "\n",
        "The arguments to add_heading() are a string of the heading text and an integer from 0 to 4. The integer 0 makes the heading the Title style, which is used for the top of the document. Integers 1 to 4 are for various heading levels, with 1 being the main heading and 4 the lowest subheading. The add_heading() function returns a Paragraph object to save you the step of extracting it from the Document object as a separate step."
      ],
      "metadata": {
        "id": "m3otsrVzzYCK"
      }
    }
  ]
}