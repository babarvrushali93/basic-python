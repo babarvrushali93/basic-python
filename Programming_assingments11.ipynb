{
  "nbformat": 4,
  "nbformat_minor": 0,
  "metadata": {
    "colab": {
      "provenance": []
    },
    "kernelspec": {
      "name": "python3",
      "display_name": "Python 3"
    },
    "language_info": {
      "name": "python"
    }
  },
  "cells": [
    {
      "cell_type": "markdown",
      "source": [
        "1. Write a Python program to find words which are greater than given length k?"
      ],
      "metadata": {
        "id": "rOhWCMsAMDeO"
      }
    },
    {
      "cell_type": "code",
      "source": [
        "def word_k(k,s):\n",
        "  #split the string where space comes\n",
        "  word = s.split(\" \")\n",
        "   # iterate the loop for every word\n",
        "  for x in word:\n",
        "      # if length of current word\n",
        "      if len(x)>k:\n",
        "        #greater than k then\n",
        "          print(x)\n",
        "\n",
        "k = 3\n",
        "s = \"python is good\"\n",
        "word_k(k,s)\n"
      ],
      "metadata": {
        "colab": {
          "base_uri": "https://localhost:8080/"
        },
        "id": "g6B8-j0OMIvf",
        "outputId": "09b36653-17ab-48d9-9279-3035de64f7f2"
      },
      "execution_count": 11,
      "outputs": [
        {
          "output_type": "stream",
          "name": "stdout",
          "text": [
            "python\n",
            "good\n"
          ]
        }
      ]
    },
    {
      "cell_type": "markdown",
      "source": [
        "2. Write a Python program for removing i-th character from a string?"
      ],
      "metadata": {
        "id": "Tsei5jeQOMEm"
      }
    },
    {
      "cell_type": "code",
      "source": [
        "def remove_char(s, i):\n",
        "    a = s[ : i]\n",
        "    b = s[i + 1: ]\n",
        "\n",
        "    return a+b\n",
        "\n",
        "string = \"Pythonisgood\"\n",
        "# Remove ith index element\n",
        "i = 5\n",
        "print(remove_char(string,i-1))"
      ],
      "metadata": {
        "colab": {
          "base_uri": "https://localhost:8080/"
        },
        "id": "hPiF8KUUOO3w",
        "outputId": "00c24c76-1c40-4376-975f-00776b304276"
      },
      "execution_count": 12,
      "outputs": [
        {
          "output_type": "stream",
          "name": "stdout",
          "text": [
            "Pythnisgood\n"
          ]
        }
      ]
    },
    {
      "cell_type": "markdown",
      "source": [
        "3. Write a Python program to split and join a string?"
      ],
      "metadata": {
        "id": "NDEN_lO6O8_X"
      }
    },
    {
      "cell_type": "code",
      "source": [
        "def split_string(string):\n",
        "    # Splitting based on space delimiter\n",
        "    list_string = string.split(' ')\n",
        "    return list_string\n",
        "\n",
        "def join_string(list_string):\n",
        "    # Joining based on '-' delimiter\n",
        "    string = '-'.join(list_string)\n",
        "    return string\n",
        "\n",
        "string = 'Welcome to study tonight'\n",
        "# Splitting a string\n",
        "list_string = split_string(string)\n",
        "print(\"After Splitting: \",list_string)\n",
        "\n",
        "# Join list of strings into one\n",
        "res_string = join_string(list_string)\n",
        "print(\"After joining: \",res_string)"
      ],
      "metadata": {
        "colab": {
          "base_uri": "https://localhost:8080/"
        },
        "id": "zL8t6_EdO-CG",
        "outputId": "8c78715a-cce0-40ca-b24b-144ee72004b6"
      },
      "execution_count": 13,
      "outputs": [
        {
          "output_type": "stream",
          "name": "stdout",
          "text": [
            "After Splitting:  ['Welcome', 'to', 'study', 'tonight']\n",
            "After joining:  Welcome-to-study-tonight\n"
          ]
        }
      ]
    },
    {
      "cell_type": "markdown",
      "source": [
        "4. Write a Python to check if a given string is binary string or not?"
      ],
      "metadata": {
        "id": "7tCe-JslPFJA"
      }
    },
    {
      "cell_type": "code",
      "source": [
        "def check(string) :\n",
        "    b = set(string)\n",
        "    s = {'0', '1'}\n",
        "    if s == b or b == {'0'} or b == {'1'}:\n",
        "        print(\"Binary String\")\n",
        "    else :\n",
        "        print(\"Non Binary String\")\n",
        "\n",
        "s1= \"00110101\"\n",
        "# function calling\n",
        "check(s1)\n",
        "s2 = \"1010100200111\"\n",
        "check(s2)"
      ],
      "metadata": {
        "colab": {
          "base_uri": "https://localhost:8080/"
        },
        "id": "ENljstiLPGLk",
        "outputId": "8c81fb21-4073-4214-bae2-8adc376d0c30"
      },
      "execution_count": 14,
      "outputs": [
        {
          "output_type": "stream",
          "name": "stdout",
          "text": [
            "Binary String\n",
            "Non Binary String\n"
          ]
        }
      ]
    },
    {
      "cell_type": "markdown",
      "source": [
        "5. Write a Python program to find uncommon words from two Strings?"
      ],
      "metadata": {
        "id": "8qTUCISKPWWx"
      }
    },
    {
      "cell_type": "code",
      "source": [
        "def uncommon_words(s1, s2):\n",
        "    count = {}\n",
        "    for word in s1.split():\n",
        "        count[word] = count.get(word, 0) + 1\n",
        "    # words of string s2\n",
        "    for word in s2.split():\n",
        "        count[word] = count.get(word, 0) + 1\n",
        "    # return required list of words\n",
        "    return [word for word in count if count[word] == 1]\n",
        "\n",
        "s1=\"Studytonight\"\n",
        "s2=\"Welcome to Studytonight\"\n",
        "\n",
        "# Print required answer\n",
        "print(uncommon_words(s1, s2))"
      ],
      "metadata": {
        "colab": {
          "base_uri": "https://localhost:8080/"
        },
        "id": "UHLrZTlFu0F0",
        "outputId": "603fbf56-be90-4667-ed67-6dd78501c8c7"
      },
      "execution_count": 4,
      "outputs": [
        {
          "output_type": "stream",
          "name": "stdout",
          "text": [
            "['Welcome', 'to']\n"
          ]
        }
      ]
    },
    {
      "cell_type": "markdown",
      "source": [
        "6. Write a Python to find all duplicate characters in string?"
      ],
      "metadata": {
        "id": "73w_65uxuaLW"
      }
    },
    {
      "cell_type": "code",
      "source": [
        "from collections import OrderedDict\n",
        "\n",
        "def remove_duplicates(s):\n",
        "    return\"\".join(OrderedDict.fromkeys(s))\n",
        "\n",
        "# test\n",
        "s = \"abcfgbsca\"\n",
        "print(s)\n",
        "print(\"After removing duplicates: \",remove_duplicates(s))"
      ],
      "metadata": {
        "colab": {
          "base_uri": "https://localhost:8080/"
        },
        "id": "_jnY-L1dugLn",
        "outputId": "806f87b6-b059-47d7-f500-85a4090cab51"
      },
      "execution_count": 9,
      "outputs": [
        {
          "output_type": "stream",
          "name": "stdout",
          "text": [
            "abcfgbsca\n",
            "After removing duplicates:  abcfgs\n"
          ]
        }
      ]
    },
    {
      "cell_type": "markdown",
      "source": [
        "7. Write a Python Program to check if a string contains any special character?"
      ],
      "metadata": {
        "id": "K084ABNgxapX"
      }
    },
    {
      "cell_type": "code",
      "source": [
        "import re\n",
        "\n",
        "def find(string):\n",
        "  special_char=re.compile('[@_!$^&*()<>?/\\|}{~:]#')\n",
        "\n",
        "  if special_char.search(string) == None:\n",
        "    return \"string is accepted\"\n",
        "  else:\n",
        "    return \"string not accpeted\"\n",
        "\n",
        "s=\"Hello15\"\n",
        "print(s)\n",
        "print(find(s))"
      ],
      "metadata": {
        "colab": {
          "base_uri": "https://localhost:8080/"
        },
        "id": "9jvYvojHz4x2",
        "outputId": "7fc2e1f1-475a-49b4-8609-73c3c3221e84"
      },
      "execution_count": 10,
      "outputs": [
        {
          "output_type": "stream",
          "name": "stdout",
          "text": [
            "Hello15\n",
            "string is accepted\n"
          ]
        }
      ]
    }
  ]
}