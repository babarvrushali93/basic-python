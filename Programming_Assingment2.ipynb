{
  "nbformat": 4,
  "nbformat_minor": 0,
  "metadata": {
    "colab": {
      "provenance": []
    },
    "kernelspec": {
      "name": "python3",
      "display_name": "Python 3"
    },
    "language_info": {
      "name": "python"
    }
  },
  "cells": [
    {
      "cell_type": "markdown",
      "source": [
        "1.Write a Python program to convert kilometers to miles?"
      ],
      "metadata": {
        "id": "SYYRaIr6Us4H"
      }
    },
    {
      "cell_type": "code",
      "source": [
        "def convert_km_to_miles(kilometers):\n",
        "    miles = kilometers * 0.621371\n",
        "    return miles\n",
        "\n",
        "kilometers = float(input(\"Enter the distance in kilometers: \"))\n",
        "miles = convert_km_to_miles(kilometers)\n",
        "print(f\"{kilometers} kilometers is equal to {miles} miles.\")\n"
      ],
      "metadata": {
        "colab": {
          "base_uri": "https://localhost:8080/"
        },
        "id": "Mey1vDp6U-HD",
        "outputId": "dff56133-a98e-45d5-d317-a9c2395b733e"
      },
      "execution_count": 1,
      "outputs": [
        {
          "output_type": "stream",
          "name": "stdout",
          "text": [
            "Enter the distance in kilometers: 10\n",
            "10.0 kilometers is equal to 6.21371 miles.\n"
          ]
        }
      ]
    },
    {
      "cell_type": "markdown",
      "source": [
        "2.Write a Python program to convert Celsius to Fahrenheit?"
      ],
      "metadata": {
        "id": "bAfaQVzdVOQY"
      }
    },
    {
      "cell_type": "code",
      "source": [
        "def convert_celsius_to_fahrenheit(celsius):\n",
        "    fahrenheit = (celsius * 9/5) + 32\n",
        "    return fahrenheit\n",
        "\n",
        "celsius = float(input(\"Enter the temperature in Celsius: \"))\n",
        "fahrenheit = convert_celsius_to_fahrenheit(celsius)\n",
        "print(f\"{celsius} degrees Celsius is equal to {fahrenheit} degrees Fahrenheit.\")\n"
      ],
      "metadata": {
        "id": "z5FhkaIDVVHT"
      },
      "execution_count": null,
      "outputs": []
    },
    {
      "cell_type": "markdown",
      "source": [
        "3.Write a Python program to display calendar?\n",
        "\n"
      ],
      "metadata": {
        "id": "uMqdx8lHVXAu"
      }
    },
    {
      "cell_type": "code",
      "source": [
        "import calendar\n",
        "\n",
        "year = int(input(\"Enter the year: \"))\n",
        "month = int(input(\"Enter the month (1-12): \"))\n",
        "\n",
        "# Create a calendar object\n",
        "cal = calendar.monthcalendar(year, month)\n",
        "\n",
        "# Display the calendar\n",
        "print(calendar.month_name[month], year)\n",
        "print(\"Mo Tu We Th Fr Sa Su\")\n",
        "for week in cal:\n",
        "    for day in week:\n",
        "        if day != 0:\n",
        "            print(f\"{day:2}\", end=\" \")\n",
        "        else:\n",
        "            print(\"   \", end=\" \")\n",
        "    print()\n"
      ],
      "metadata": {
        "id": "TZbpqTzGVact"
      },
      "execution_count": null,
      "outputs": []
    },
    {
      "cell_type": "markdown",
      "source": [
        "4.Write a Python program to solve quadratic equation?"
      ],
      "metadata": {
        "id": "TgUc_lEMVnNu"
      }
    },
    {
      "cell_type": "code",
      "source": [
        "import cmath\n",
        "\n",
        "def solve_quadratic(a, b, c):\n",
        "    # Calculate the discriminant\n",
        "    discriminant = (b**2) - (4*a*c)\n",
        "\n",
        "    # Check if the discriminant is positive, zero, or negative\n",
        "    if discriminant > 0:\n",
        "        # Two real and distinct roots\n",
        "        root1 = (-b + cmath.sqrt(discriminant)) / (2*a)\n",
        "        root2 = (-b - cmath.sqrt(discriminant)) / (2*a)\n",
        "        return root1, root2\n",
        "    elif discriminant == 0:\n",
        "        # One real root\n",
        "        root = -b / (2*a)\n",
        "        return root\n",
        "    else:\n",
        "        # Two complex roots\n",
        "        real_part = -b / (2*a)\n",
        "        imaginary_part = cmath.sqrt(-discriminant) / (2*a)\n",
        "        root1 = complex(real_part, imaginary_part)\n",
        "        root2 = complex(real_part, -imaginary_part)\n",
        "        return root1, root2\n",
        "\n",
        "# Prompt the user to enter the coefficients of the quadratic equation\n",
        "a = float(input(\"Enter the coefficient of x^2: \"))\n",
        "b = float(input(\"Enter the coefficient of x: \"))\n",
        "c = float(input(\"Enter the constant term: \"))\n",
        "\n",
        "# Solve the quadratic equation\n",
        "roots = solve_quadratic(a, b, c)\n",
        "\n",
        "# Display the roots\n",
        "if isinstance(roots, tuple):\n",
        "    print(\"The quadratic equation has two roots:\")\n",
        "    print(\"Root 1:\", roots[0])\n",
        "    print(\"Root 2:\", roots[1])\n",
        "else:\n",
        "    print(\"The quadratic equation has one root:\")\n",
        "    print(\"Root:\", roots)\n"
      ],
      "metadata": {
        "colab": {
          "base_uri": "https://localhost:8080/"
        },
        "id": "yTvw-NuUVoZn",
        "outputId": "1a09c834-2a67-45d0-f4b3-0bff4d9557dd"
      },
      "execution_count": 2,
      "outputs": [
        {
          "output_type": "stream",
          "name": "stdout",
          "text": [
            "Enter the coefficient of x^2: 10\n",
            "Enter the coefficient of x: 20\n",
            "Enter the constant term: 5\n",
            "The quadratic equation has two roots:\n",
            "Root 1: (-0.2928932188134524+0j)\n",
            "Root 2: (-1.7071067811865475+0j)\n"
          ]
        }
      ]
    },
    {
      "cell_type": "markdown",
      "source": [
        "5.Write a Python program to swap two variables without temp variable?\n",
        "\n"
      ],
      "metadata": {
        "id": "7IPXs5pwVxjN"
      }
    },
    {
      "cell_type": "code",
      "source": [
        "def swap_without_temp(a, b):\n",
        "    a = a + b\n",
        "    b = a - b\n",
        "    a = a - b\n",
        "    return a, b\n",
        "\n",
        "# Prompt the user to enter two values\n",
        "a = int(input(\"Enter the value of variable a: \"))\n",
        "b = int(input(\"Enter the value of variable b: \"))\n",
        "\n",
        "# Swap the values using the swap_without_temp function\n",
        "a, b = swap_without_temp(a, b)\n",
        "\n",
        "# Display the swapped values\n",
        "print(\"After swapping:\")\n",
        "print(\"Value of variable a:\", a)\n",
        "print(\"Value of variable b:\", b)\n"
      ],
      "metadata": {
        "colab": {
          "base_uri": "https://localhost:8080/"
        },
        "id": "iTA3J9-yV24p",
        "outputId": "8782d1d6-e97c-4804-b5ff-f31b163a943d"
      },
      "execution_count": 3,
      "outputs": [
        {
          "output_type": "stream",
          "name": "stdout",
          "text": [
            "Enter the value of variable a: 10\n",
            "Enter the value of variable b: 20\n",
            "After swapping:\n",
            "Value of variable a: 20\n",
            "Value of variable b: 10\n"
          ]
        }
      ]
    }
  ]
}