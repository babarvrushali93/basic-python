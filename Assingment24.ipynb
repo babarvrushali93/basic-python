{
  "nbformat": 4,
  "nbformat_minor": 0,
  "metadata": {
    "colab": {
      "provenance": []
    },
    "kernelspec": {
      "name": "python3",
      "display_name": "Python 3"
    },
    "language_info": {
      "name": "python"
    }
  },
  "cells": [
    {
      "cell_type": "markdown",
      "source": [
        "1.What is the relationship between def statements and lambda expressions ?\n",
        "\n",
        "Answer -\n",
        "\n",
        "As an expression, lambda returns a value that can optionally be assigned a name. In contrast, the def statement always assigns the new function to the name in the header, instead of returning is as a result. lambda's body is a single expression, not a block of statements"
      ],
      "metadata": {
        "id": "QgJjVDDOxl4Z"
      }
    },
    {
      "cell_type": "markdown",
      "source": [
        "2.What is the benefit of lambda?\n",
        "\n",
        "Answer -\n",
        "\n",
        "The lambda keyword in Python provides a shortcut for declaring small anonymous functions. Lambda functions behave just like regular functions declared with the def keyword. They can be used whenever function objects are required.\n",
        "\n"
      ],
      "metadata": {
        "id": "a7Vr51KnxpTe"
      }
    },
    {
      "cell_type": "markdown",
      "source": [
        "3.Compare and contrast map, filter, and reduce.\n",
        "\n",
        "Answer -\n",
        "\n",
        "Map operation takes a mapping function and a vector of data as arguments and returns a new vector, which is the result of applying the mapping function on each element of the vector independently. The returned value from map() (map object) then can be passed to functions like list() (to create a list), set() (to create a set) and so on.\n",
        "\n",
        "The filter function operates on a list and returns a subset of that list after applying the filtering rule.\n",
        "\n",
        "The reduce function will transform a given list into a single value by applying a given function continuously to all the elements. It basically keeps operating on pairs of elements until there are no more elements left."
      ],
      "metadata": {
        "id": "paw1McTKyMba"
      }
    },
    {
      "cell_type": "code",
      "source": [
        "### Map functions\n",
        "Animal = [\"Anteater\", \"Dog\", \"Elephant\", \"Giraffe\", \"Cat\"]\n",
        "map_object = map(lambda s: s[0] == \"A\", Animal)\n",
        "\n",
        "\n",
        "for i in map_object:\n",
        "    print(i)\n",
        ""
      ],
      "metadata": {
        "colab": {
          "base_uri": "https://localhost:8080/"
        },
        "id": "SqRWfgVsyVJY",
        "outputId": "b00775f9-d0ea-4fd9-9220-69b4dc56216e"
      },
      "execution_count": 1,
      "outputs": [
        {
          "output_type": "stream",
          "name": "stdout",
          "text": [
            "True\n",
            "False\n",
            "False\n",
            "False\n",
            "False\n"
          ]
        }
      ]
    },
    {
      "cell_type": "code",
      "source": [
        "### Filter function\n",
        "Animal = [\"Anteater\", \"Dog\", \"Elephant\", \"Giraffe\", \"Cat\"]\n",
        "filter_object = filter(lambda s: s[0] == \"A\", Animal)\n",
        "\n",
        "for i in filter_object:\n",
        "    print(i)\n",
        ""
      ],
      "metadata": {
        "colab": {
          "base_uri": "https://localhost:8080/"
        },
        "id": "PvSvp4CcyWIm",
        "outputId": "db656444-2ced-4e76-9fc4-03655dd32a4e"
      },
      "execution_count": 2,
      "outputs": [
        {
          "output_type": "stream",
          "name": "stdout",
          "text": [
            "Anteater\n"
          ]
        }
      ]
    },
    {
      "cell_type": "code",
      "source": [
        "### Reduce function\n",
        "from functools import reduce\n",
        "\n",
        "list = [4, 3, 8, 3]\n",
        "print(reduce(lambda x, y: x + y, list))\n",
        "print(\"With an initial value: \" + str(reduce(lambda x, y: x + y, list, 10)))"
      ],
      "metadata": {
        "colab": {
          "base_uri": "https://localhost:8080/"
        },
        "id": "0qrfRdGRyWTP",
        "outputId": "5e7a6472-1d79-452d-e84d-3aabc440014d"
      },
      "execution_count": 3,
      "outputs": [
        {
          "output_type": "stream",
          "name": "stdout",
          "text": [
            "18\n",
            "With an initial value: 28\n"
          ]
        }
      ]
    },
    {
      "cell_type": "markdown",
      "source": [
        "4.What are function annotations, and how are they used?\n",
        "\n",
        "Answer -\n",
        "\n",
        "Function annotations are completely optional both for parameters and return value. Function annotations provide a way of associating various parts of a function with arbitrary python expressions at compile time.\n",
        "\n",
        "Syntax of function annotations for simple parameters and for excess parameters respectively:\n",
        "\n",
        "def foobar(a: expression, b: expression = 5):\n",
        "\n",
        "def foobar(args: expression, kwargs: expression):\n",
        "\n",
        "- Syntax :\n",
        "\n",
        "   - def func(a: 'int') -> 'int':\n",
        "   - pass\n",
        "- Annotations for simple parameters:\n",
        "\n",
        "- def func(x: 'float'=10.8, y: 'argument2'):\n",
        "\n",
        "   - In the above code the argument, ‘x’ of the function func, has been annotated to float data type and the argument ‘y’ has a string-based annotation. The argument can also be assigned to a default value using a ‘=’ symbol followed by the default value. These default values are optional to the code.\n",
        "Annotations for return values:\n",
        "\n",
        "\n",
        "- def func(a: expression) -> 'int':\n",
        "\n",
        "   - The annotations for the return value is written after the ‘->’ symbol."
      ],
      "metadata": {
        "id": "XnyA5Mybyldw"
      }
    },
    {
      "cell_type": "code",
      "source": [
        "def fib(n:'float', b:'int')-> 'result':\n",
        "    pass\n",
        "print(fib.__annotations__)"
      ],
      "metadata": {
        "colab": {
          "base_uri": "https://localhost:8080/"
        },
        "id": "BzHpgsM0zvJ0",
        "outputId": "341fcf9e-b7cb-456d-cd01-ebf410771975"
      },
      "execution_count": 4,
      "outputs": [
        {
          "output_type": "stream",
          "name": "stdout",
          "text": [
            "{'n': 'float', 'b': 'int', 'return': 'result'}\n"
          ]
        }
      ]
    },
    {
      "cell_type": "markdown",
      "source": [
        "5.What are recursive functions, and how are they used?\n",
        "\n",
        "Answer -\n",
        "\n",
        "A recursive function is a function defined in terms of itself via self-referential expressions. This means that the function will continue to call itself and repeat its behavior until some condition is met to return a result.\n",
        "\n",
        "In this example, tri_recursion() is a function that we have defined to call itself (\"recurse\"). We use the k variable as the data, which decrements (-1) every time we recurse. The recursion ends when the condition is not greater than 0 (i.e. when it is 0)."
      ],
      "metadata": {
        "id": "teFIQ7oZzyeZ"
      }
    },
    {
      "cell_type": "code",
      "source": [
        "# eg\n",
        "def fact(x):\n",
        "    if x == 1 :\n",
        "        return 1\n",
        "    else :\n",
        "        return x * fact(x-1) # recurtion\n",
        "\n",
        "fact(3)"
      ],
      "metadata": {
        "colab": {
          "base_uri": "https://localhost:8080/"
        },
        "id": "KxA-h152z-C2",
        "outputId": "0f534088-a457-4419-d4c4-98f5925728cf"
      },
      "execution_count": 5,
      "outputs": [
        {
          "output_type": "execute_result",
          "data": {
            "text/plain": [
              "6"
            ]
          },
          "metadata": {},
          "execution_count": 5
        }
      ]
    },
    {
      "cell_type": "markdown",
      "source": [
        "6."
      ],
      "metadata": {
        "id": "mCj6zF25z_NV"
      }
    },
    {
      "cell_type": "code",
      "source": [
        "def tri_recursion(k):\n",
        "  if(k>0):\n",
        "    result = k+tri_recursion(k-1)\n",
        "    print(result)\n",
        "  else:\n",
        "    result = 0\n",
        "  return result\n",
        "\n",
        "print(\"Recursion Example Results\")\n",
        "tri_recursion(6)"
      ],
      "metadata": {
        "colab": {
          "base_uri": "https://localhost:8080/"
        },
        "id": "Ukpa5Y2E0GwP",
        "outputId": "a833551a-2f4d-41b4-ad2b-3565342bc4bc"
      },
      "execution_count": 6,
      "outputs": [
        {
          "output_type": "stream",
          "name": "stdout",
          "text": [
            "Recursion Example Results\n",
            "1\n",
            "3\n",
            "6\n",
            "10\n",
            "15\n",
            "21\n"
          ]
        },
        {
          "output_type": "execute_result",
          "data": {
            "text/plain": [
              "21"
            ]
          },
          "metadata": {},
          "execution_count": 6
        }
      ]
    },
    {
      "cell_type": "markdown",
      "source": [
        "6.What are some general design guidelines for coding functions?\n",
        "\n",
        "Answer -\n",
        "\n",
        "Use 4-space indentation and no tabs.\n",
        "\n",
        "Use docstrings\n",
        "\n",
        "Wrap lines so that they don’t exceed 79 characters\n",
        "\n",
        "Use of regular and updated comments are valuable to both the coders and users"
      ],
      "metadata": {
        "id": "fvhHOz3j07gq"
      }
    },
    {
      "cell_type": "markdown",
      "source": [
        "7.Name three or more ways that functions can communicate results to a caller.\n",
        "\n",
        "Answer -\n",
        "\n",
        "1.To call a function, we specify the function name with the round brackets.\n",
        "\n",
        "2.Use of return keyword inside function which returns the results to the caller.\n",
        "\n",
        "3.Use of print statement inside function which prints the results to the caller.\n",
        "\n",
        "4.Function can return single value\n",
        "\n",
        "5.Can return multiple values, tuple\n",
        "\n",
        "6.can return list,dictionary\n",
        "\n",
        "7.can return function object\n",
        "\n",
        "8.can return class object\n",
        "\n"
      ],
      "metadata": {
        "id": "ME2U3UZtHz1I"
      }
    }
  ]
}